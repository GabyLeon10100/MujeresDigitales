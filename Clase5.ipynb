{
  "nbformat": 4,
  "nbformat_minor": 0,
  "metadata": {
    "colab": {
      "name": "Clase5.ipynb",
      "provenance": [],
      "authorship_tag": "ABX9TyPXwXV+6rs+d59/wsDvWNYV",
      "include_colab_link": true
    },
    "kernelspec": {
      "name": "python3",
      "display_name": "Python 3"
    },
    "language_info": {
      "name": "python"
    }
  },
  "cells": [
    {
      "cell_type": "markdown",
      "metadata": {
        "id": "view-in-github",
        "colab_type": "text"
      },
      "source": [
        "<a href=\"https://colab.research.google.com/github/GabyLeon10100/MujeresDigitales/blob/main/Clase5.ipynb\" target=\"_parent\"><img src=\"https://colab.research.google.com/assets/colab-badge.svg\" alt=\"Open In Colab\"/></a>"
      ]
    },
    {
      "cell_type": "markdown",
      "metadata": {
        "id": "pMQ0dT_P4TTd"
      },
      "source": [
        "**Continuación de ciclos**\n",
        "\n",
        "---\n",
        "**CICLO FOR - BUCLE FOR**\n",
        "\n"
      ]
    },
    {
      "cell_type": "code",
      "metadata": {
        "colab": {
          "base_uri": "https://localhost:8080/"
        },
        "id": "NJIuGHIX4nWi",
        "outputId": "4c2ff4ef-cf5c-4c87-b2be-2386675199b5"
      },
      "source": [
        "for i in range(1,5):\n",
        "  print(i)"
      ],
      "execution_count": 1,
      "outputs": [
        {
          "output_type": "stream",
          "text": [
            "1\n",
            "2\n",
            "3\n",
            "4\n"
          ],
          "name": "stdout"
        }
      ]
    },
    {
      "cell_type": "markdown",
      "metadata": {
        "id": "Fceq074H4wx5"
      },
      "source": [
        "Para dejar claro las partes que componen el buble FOR, vamos a dejar claro las siguientes definiciones:\n",
        "\n",
        "1. **Iterable:** Son los objetos que pueden ser iterados. Por ejemplo una lista, cadena, etc.\n",
        "2. **Iterador:** Son objetos que hacen referencia a un elemento (Para hacer referencia a cada uno de los elementos hay un método denominado \"next\" que permite hacer referencia a los elementos del conjunto.\n",
        "\n",
        "**for (variable) in (iterable):\n",
        "  <bloque código>**\n",
        "\n",
        "Algunos ejemplos de iterables en Python son las listas, cadenas, diccionarios, tuplas, etc.\n",
        "\n",
        "¿Como saber que iterable a la hora de programar?\n",
        "Podemos darnos cuenta que es iterable usando la función isinstance()."
      ]
    },
    {
      "cell_type": "code",
      "metadata": {
        "colab": {
          "base_uri": "https://localhost:8080/"
        },
        "id": "WyeqDHXu5viw",
        "outputId": "2a1b050a-2c39-462c-9431-004a7d7252d1"
      },
      "source": [
        "from collections import Iterable #Paquete Iterable de collections (python 3.7) Kernel\n",
        "lista = [1,2,3,4,5,6,7,8,9,0]\n",
        "a = \"computador\"\n",
        "b = 14\n",
        "print(isinstance(lista, Iterable))\n",
        "print(isinstance(a, Iterable))\n",
        "print(isinstance(b, Iterable))"
      ],
      "execution_count": 8,
      "outputs": [
        {
          "output_type": "stream",
          "text": [
            "True\n",
            "True\n",
            "False\n"
          ],
          "name": "stdout"
        }
      ]
    },
    {
      "cell_type": "code",
      "metadata": {
        "colab": {
          "base_uri": "https://localhost:8080/",
          "height": 210
        },
        "id": "VvEPFBAR7gQ8",
        "outputId": "b167da72-2777-4f04-c86f-24406f38de84"
      },
      "source": [
        "a = 30\n",
        "for i in a:\n",
        "  print(i)"
      ],
      "execution_count": 9,
      "outputs": [
        {
          "output_type": "error",
          "ename": "TypeError",
          "evalue": "ignored",
          "traceback": [
            "\u001b[0;31m---------------------------------------------------------------------------\u001b[0m",
            "\u001b[0;31mTypeError\u001b[0m                                 Traceback (most recent call last)",
            "\u001b[0;32m<ipython-input-9-653d8d870db9>\u001b[0m in \u001b[0;36m<module>\u001b[0;34m()\u001b[0m\n\u001b[1;32m      1\u001b[0m \u001b[0ma\u001b[0m \u001b[0;34m=\u001b[0m \u001b[0;36m30\u001b[0m\u001b[0;34m\u001b[0m\u001b[0;34m\u001b[0m\u001b[0m\n\u001b[0;32m----> 2\u001b[0;31m \u001b[0;32mfor\u001b[0m \u001b[0mi\u001b[0m \u001b[0;32min\u001b[0m \u001b[0ma\u001b[0m\u001b[0;34m:\u001b[0m\u001b[0;34m\u001b[0m\u001b[0;34m\u001b[0m\u001b[0m\n\u001b[0m\u001b[1;32m      3\u001b[0m   \u001b[0mprint\u001b[0m\u001b[0;34m(\u001b[0m\u001b[0mi\u001b[0m\u001b[0;34m)\u001b[0m\u001b[0;34m\u001b[0m\u001b[0;34m\u001b[0m\u001b[0m\n",
            "\u001b[0;31mTypeError\u001b[0m: 'int' object is not iterable"
          ]
        }
      ]
    },
    {
      "cell_type": "markdown",
      "metadata": {
        "id": "6YnCuA5E7eCK"
      },
      "source": [
        "Para enterder los iteradores, es importante conoces la función *iter()*, esta funcion puede ser llamada sobre un objeto que sea iterable y nos devolvera un iterador.\n",
        "\n",
        "Ejemplo:"
      ]
    },
    {
      "cell_type": "code",
      "metadata": {
        "colab": {
          "base_uri": "https://localhost:8080/"
        },
        "id": "Pt8CPNaf767U",
        "outputId": "ed99dace-6a4f-416c-895d-5db34a6efb34"
      },
      "source": [
        "lista = [1,2,3,4,5,6,7,8,9,0]\n",
        "ref = iter(lista)\n",
        "print(ref)\n",
        "print(type(ref))"
      ],
      "execution_count": 11,
      "outputs": [
        {
          "output_type": "stream",
          "text": [
            "<list_iterator object at 0x7f9fbc943710>\n",
            "<class 'list_iterator'>\n"
          ],
          "name": "stdout"
        }
      ]
    },
    {
      "cell_type": "markdown",
      "metadata": {
        "id": "pqGM9jVL8Jpu"
      },
      "source": [
        "Al imprimir Ref es un iterador, de la clase *list_iterator*. Hace referencia a la lista original y nos permite acceder a sus elementos con la función *next()*. Cada vez que llamemos a next() sobre Ref, nos devuelve el siguiente elemento de la lista original. Por ejemplo, quiero acceder al elemento 7, tendremos que llamar 7 veces el elemento next."
      ]
    },
    {
      "cell_type": "code",
      "metadata": {
        "colab": {
          "base_uri": "https://localhost:8080/"
        },
        "id": "AkBnEqYu8Y9L",
        "outputId": "02fa64de-96f3-4f37-aecb-14c8c8f38e63"
      },
      "source": [
        "lista = [1,2,3,4,5,6,7,8,9,0]\n",
        "ref = iter(lista)\n",
        "print(next(ref))\n",
        "print(next(ref))\n",
        "print(next(ref))\n",
        "print(next(ref))\n",
        "print(next(ref))\n",
        "print(next(ref))\n",
        "print(next(ref))\n",
        "print(next(ref))\n",
        "print(next(ref))"
      ],
      "execution_count": 15,
      "outputs": [
        {
          "output_type": "stream",
          "text": [
            "1\n",
            "2\n",
            "3\n",
            "4\n",
            "5\n",
            "6\n",
            "7\n",
            "8\n",
            "9\n"
          ],
          "name": "stdout"
        }
      ]
    },
    {
      "cell_type": "markdown",
      "metadata": {
        "id": "Bj-sX9pN80p_"
      },
      "source": [
        "**Tener en cuenta**\n",
        "Existen otros iteradores para las diferentes clases:\n",
        "1. str_iterator para cadenas\n",
        "2. list_iterator para listas\n",
        "3. set_iterator para conjuntos\n",
        "4. dict_keyiterator para diccionarios"
      ]
    },
    {
      "cell_type": "markdown",
      "metadata": {
        "id": "1TRRUP_h9NO6"
      },
      "source": [
        "**For anidados**\n",
        "\n",
        "---\n",
        "Es posible anidar los for, es decir ingresar uno dentro de otro. Como lo vemos a continuación.\n"
      ]
    },
    {
      "cell_type": "code",
      "metadata": {
        "colab": {
          "base_uri": "https://localhost:8080/"
        },
        "id": "avzvDhsB9LTx",
        "outputId": "91007907-66d8-4b54-ba95-c51e4f5e728a"
      },
      "source": [
        "#Vamos a crear una lista de listas, lo cual conforma una especia de matriz\n",
        "# Recordemos que una matriz se compone de valores que se distribuyen en filas y columnas\n",
        "qa = [[1,2,3],\n",
        "      [4,5,6],\n",
        "      [7,8,9]]\n",
        "\n",
        "for i in qa:\n",
        "  print(i)\n",
        "\n",
        "for i in qa:\n",
        "  for j in i:\n",
        "    print(j)"
      ],
      "execution_count": 17,
      "outputs": [
        {
          "output_type": "stream",
          "text": [
            "[1, 2, 3]\n",
            "[4, 5, 6]\n",
            "[7, 8, 9]\n",
            "1\n",
            "2\n",
            "3\n",
            "4\n",
            "5\n",
            "6\n",
            "7\n",
            "8\n",
            "9\n"
          ],
          "name": "stdout"
        }
      ]
    },
    {
      "cell_type": "markdown",
      "metadata": {
        "id": "LRTIAhoh93Kt"
      },
      "source": [
        "Si queremos acceder a cada elemento individualmente, se procede a realizar un bucle de FOR anidado, es decir, un for se encargará de iterar las columnas y el otro las filas."
      ]
    },
    {
      "cell_type": "code",
      "metadata": {
        "colab": {
          "base_uri": "https://localhost:8080/"
        },
        "id": "Vnc04FEx-Ndz",
        "outputId": "ba716a03-2b6e-4bee-bdd7-f97863e55098"
      },
      "source": [
        "#Otra forma de utilizar solo el for. Es la iteración al revés. Es decir se puede iterar la lista desde el último al primer elemento\n",
        "lista = [1,2,3,4,5,6,7,8,9,0]\n",
        "for i in lista[::-1]:\n",
        "  print(i)"
      ],
      "execution_count": 19,
      "outputs": [
        {
          "output_type": "stream",
          "text": [
            "0\n",
            "9\n",
            "8\n",
            "7\n",
            "6\n",
            "5\n",
            "4\n",
            "3\n",
            "2\n",
            "1\n"
          ],
          "name": "stdout"
        }
      ]
    },
    {
      "cell_type": "code",
      "metadata": {
        "colab": {
          "base_uri": "https://localhost:8080/"
        },
        "id": "U0mYY61T-ttA",
        "outputId": "f404309f-015b-44ce-fcf2-cff761d54b57"
      },
      "source": [
        "lista = [1,2,3,4,5,6,7,8,9,0]\n",
        "for i in lista[::2]:\n",
        "  print(i)\n",
        "print(\"------------\")\n",
        "a = \"computador\"\n",
        "for i in a[::2]:\n",
        "  print(i)"
      ],
      "execution_count": 22,
      "outputs": [
        {
          "output_type": "stream",
          "text": [
            "1\n",
            "3\n",
            "5\n",
            "7\n",
            "9\n",
            "------------\n",
            "c\n",
            "m\n",
            "u\n",
            "a\n",
            "o\n"
          ],
          "name": "stdout"
        }
      ]
    },
    {
      "cell_type": "code",
      "metadata": {
        "colab": {
          "base_uri": "https://localhost:8080/"
        },
        "id": "Ct2Lk_g6-x13",
        "outputId": "4cf744d6-a0bc-47a3-89e7-e830d21ac0d3"
      },
      "source": [
        "# Usando rangos\n",
        "for i in range(10):\n",
        "  print(i)\n",
        "#El range() genera una secuencia de número que van desde 0 por defecto\n",
        "#hasta el número que se pasa como parametros menos 2.\n",
        "\n",
        "#Estructura: range(inicio, fin, salto)\n",
        "\n",
        "#Observemos un truco con el range:\n",
        "print(list(range(2,10,2))) #Conversión de un rango a una lista"
      ],
      "execution_count": 25,
      "outputs": [
        {
          "output_type": "stream",
          "text": [
            "0\n",
            "1\n",
            "2\n",
            "3\n",
            "4\n",
            "5\n",
            "6\n",
            "7\n",
            "8\n",
            "9\n",
            "[2, 4, 6, 8]\n"
          ],
          "name": "stdout"
        }
      ]
    },
    {
      "cell_type": "markdown",
      "metadata": {
        "id": "e8FLc4yPAUxM"
      },
      "source": [
        "**Lista de comprensión**\n",
        "\n",
        "---\n",
        "\n",
        "Estas nos permiten crear listas de elementos en una sola línea de código.\n",
        "Ejemplo: Crear una lista de las potencias a la 3 de los números impares de 0 a 9"
      ]
    },
    {
      "cell_type": "code",
      "metadata": {
        "colab": {
          "base_uri": "https://localhost:8080/"
        },
        "id": "HxqiDJ9YAl77",
        "outputId": "d97fa3c7-64d5-4802-cdb0-c5edaa165cdb"
      },
      "source": [
        "tres = [i**3 for i in range(1,10,2)]\n",
        "#1, 3, 5, 7, 9 \n",
        "print(tres)\n",
        "\n",
        "tres = []\n",
        "for i in range(1,10,2):\n",
        "  tres.append(i**3)\n",
        "  print(tres)"
      ],
      "execution_count": 32,
      "outputs": [
        {
          "output_type": "stream",
          "text": [
            "[1, 27, 125, 343, 729]\n",
            "[1]\n",
            "[1, 27]\n",
            "[1, 27, 125]\n",
            "[1, 27, 125, 343]\n",
            "[1, 27, 125, 343, 729]\n"
          ],
          "name": "stdout"
        }
      ]
    },
    {
      "cell_type": "code",
      "metadata": {
        "colab": {
          "base_uri": "https://localhost:8080/"
        },
        "id": "X_91-vhfBkfL",
        "outputId": "e89edd7a-5e69-44bf-97b9-2ae9fadca2bb"
      },
      "source": [
        "s = [1 for i in range(10)]\n",
        "print(s)"
      ],
      "execution_count": 33,
      "outputs": [
        {
          "output_type": "stream",
          "text": [
            "[1, 1, 1, 1, 1, 1, 1, 1, 1, 1]\n"
          ],
          "name": "stdout"
        }
      ]
    },
    {
      "cell_type": "code",
      "metadata": {
        "colab": {
          "base_uri": "https://localhost:8080/"
        },
        "id": "xmLTVMmFBvng",
        "outputId": "bdf1ddd2-6452-44ae-f7c5-f222c24f0cb6"
      },
      "source": [
        "lwa = [5,10,15,20,25,30]\n",
        "lwa2=[i/5 for i in lwa]\n",
        "print(lwa2)"
      ],
      "execution_count": 36,
      "outputs": [
        {
          "output_type": "stream",
          "text": [
            "[1.0, 2.0, 3.0, 4.0, 5.0, 6.0]\n"
          ],
          "name": "stdout"
        }
      ]
    },
    {
      "cell_type": "code",
      "metadata": {
        "colab": {
          "base_uri": "https://localhost:8080/"
        },
        "id": "_Vb5pLf4CBva",
        "outputId": "c346f9d7-b5c1-4ec4-b67d-46901b9bfa9c"
      },
      "source": [
        "pera = \"mama ama a ema\"\n",
        "pera2 = [i for i in pera if i == \"m\"]\n",
        "print(pera2)\n",
        "\n",
        "print(len(pera2))"
      ],
      "execution_count": 38,
      "outputs": [
        {
          "output_type": "stream",
          "text": [
            "['m', 'm', 'm', 'm']\n",
            "4\n"
          ],
          "name": "stdout"
        }
      ]
    }
  ]
}