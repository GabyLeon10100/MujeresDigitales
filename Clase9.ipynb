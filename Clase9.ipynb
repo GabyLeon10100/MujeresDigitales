{
  "nbformat": 4,
  "nbformat_minor": 0,
  "metadata": {
    "colab": {
      "name": "Clase9.ipynb",
      "provenance": [],
      "authorship_tag": "ABX9TyPplSZGEB7nWyht7cNofzXT",
      "include_colab_link": true
    },
    "kernelspec": {
      "name": "python3",
      "display_name": "Python 3"
    },
    "language_info": {
      "name": "python"
    }
  },
  "cells": [
    {
      "cell_type": "markdown",
      "metadata": {
        "id": "view-in-github",
        "colab_type": "text"
      },
      "source": [
        "<a href=\"https://colab.research.google.com/github/GabyLeon10100/MujeresDigitales/blob/main/Clase9.ipynb\" target=\"_parent\"><img src=\"https://colab.research.google.com/assets/colab-badge.svg\" alt=\"Open In Colab\"/></a>"
      ]
    },
    {
      "cell_type": "code",
      "metadata": {
        "colab": {
          "base_uri": "https://localhost:8080/"
        },
        "id": "ET9n3MoPdUb-",
        "outputId": "ad2955f4-b9cf-4547-b7bc-49dcd5965fea"
      },
      "source": [
        "import pandas as pd\n",
        "pd.Series([145, 142, 38, 13, 'abc'], name='counts')"
      ],
      "execution_count": 8,
      "outputs": [
        {
          "output_type": "execute_result",
          "data": {
            "text/plain": [
              "0    145\n",
              "1    142\n",
              "2     38\n",
              "3     13\n",
              "4    abc\n",
              "Name: counts, dtype: object"
            ]
          },
          "metadata": {},
          "execution_count": 8
        }
      ]
    },
    {
      "cell_type": "code",
      "metadata": {
        "colab": {
          "base_uri": "https://localhost:8080/"
        },
        "id": "mAhVT_UDd2ek",
        "outputId": "c71e6073-be5e-4d02-94fa-f66152bb4519"
      },
      "source": [
        "pd.Series(['a', 'b', 'c'])"
      ],
      "execution_count": 6,
      "outputs": [
        {
          "output_type": "execute_result",
          "data": {
            "text/plain": [
              "0    a\n",
              "1    b\n",
              "2    c\n",
              "dtype: object"
            ]
          },
          "metadata": {},
          "execution_count": 6
        }
      ]
    },
    {
      "cell_type": "code",
      "metadata": {
        "colab": {
          "base_uri": "https://localhost:8080/"
        },
        "id": "GtBl4r1Hec-Z",
        "outputId": "62e3cf68-7b53-486d-b1ba-199c1928c672"
      },
      "source": [
        "#El indice no necesariamente tiene que ser un número\n",
        "david = pd.Series([145, 142, 38, 13], name='counts', \\\n",
        "                  index=['Juan', 'Pedro', 'Sofía', 'Andrea'])\n",
        "print(david)\n",
        "print('--------')\n",
        "print(david.values)\n",
        "print('---------')\n",
        "print(david.index)"
      ],
      "execution_count": 9,
      "outputs": [
        {
          "output_type": "stream",
          "text": [
            "Juan      145\n",
            "Pedro     142\n",
            "Sofía      38\n",
            "Andrea     13\n",
            "Name: counts, dtype: int64\n",
            "--------\n",
            "[145 142  38  13]\n",
            "---------\n",
            "Index(['Juan', 'Pedro', 'Sofía', 'Andrea'], dtype='object')\n"
          ],
          "name": "stdout"
        }
      ]
    },
    {
      "cell_type": "code",
      "metadata": {
        "colab": {
          "base_uri": "https://localhost:8080/"
        },
        "id": "OMUEccD3fY0m",
        "outputId": "75588465-ea60-44c1-b471-c44c04019636"
      },
      "source": [
        "# Y que hay de los nulos\n",
        "nan_ser = pd.Series([2, None], index=['0', 'C'])\n",
        "print(nan_ser)\n",
        "'''\n",
        "Fijarse que aparece float y es porque los NAN solo pueden ser de ese tipo'''\n",
        "nan_ser.count()"
      ],
      "execution_count": 11,
      "outputs": [
        {
          "output_type": "stream",
          "text": [
            "0    2.0\n",
            "C    NaN\n",
            "dtype: float64\n"
          ],
          "name": "stdout"
        },
        {
          "output_type": "execute_result",
          "data": {
            "text/plain": [
              "1"
            ]
          },
          "metadata": {},
          "execution_count": 11
        }
      ]
    },
    {
      "cell_type": "code",
      "metadata": {
        "colab": {
          "base_uri": "https://localhost:8080/"
        },
        "id": "KVDeHQENgI0U",
        "outputId": "e37fb6e0-2efa-4a79-fbca-423ab6119702"
      },
      "source": [
        "#Números impares hasta quince\n",
        "impares = pd.Series([1, 3, 5, 7, 9, 11, 13, 15])\n",
        "print(impares)"
      ],
      "execution_count": 18,
      "outputs": [
        {
          "output_type": "stream",
          "text": [
            "0     1\n",
            "1     3\n",
            "2     5\n",
            "3     7\n",
            "4     9\n",
            "5    11\n",
            "6    13\n",
            "7    15\n",
            "dtype: int64\n"
          ],
          "name": "stdout"
        }
      ]
    },
    {
      "cell_type": "code",
      "metadata": {
        "id": "YwhJt95ziu2d"
      },
      "source": [
        ""
      ],
      "execution_count": null,
      "outputs": []
    },
    {
      "cell_type": "code",
      "metadata": {
        "colab": {
          "base_uri": "https://localhost:8080/"
        },
        "id": "HhOQb9Bpiu-Q",
        "outputId": "8b3a258d-66ca-4477-ee59-16089ddd2769"
      },
      "source": [
        "pd.Series(range(1, 16, 2))"
      ],
      "execution_count": 23,
      "outputs": [
        {
          "output_type": "execute_result",
          "data": {
            "text/plain": [
              "0     1\n",
              "1     3\n",
              "2     5\n",
              "3     7\n",
              "4     9\n",
              "5    11\n",
              "6    13\n",
              "7    15\n",
              "dtype: int64"
            ]
          },
          "metadata": {},
          "execution_count": 23
        }
      ]
    },
    {
      "cell_type": "markdown",
      "metadata": {
        "id": "-JwddlhWfzq5"
      },
      "source": [
        "El objeto **Series** es mucho más rapido, consume menos meoria y tiene más metodos que una lista. Tambien tiene muchas similitudes con **Numpy array**"
      ]
    },
    {
      "cell_type": "markdown",
      "metadata": {
        "id": "yAZIDdJWjGo5"
      },
      "source": [
        "**Proceso CLAB(Creación, Lectura, Actualización, Borrado)**"
      ]
    },
    {
      "cell_type": "code",
      "metadata": {
        "colab": {
          "base_uri": "https://localhost:8080/"
        },
        "id": "JhLVeAPVfqzC",
        "outputId": "3731a3a1-315c-42d3-cf45-94ae2e23c6f1"
      },
      "source": [
        "#1. Creación\n",
        "cidys = pd.Series([10, 7, 1, 22], index=['1968', '1969', '1970', '1970'], name='Per')\n",
        "print(cidys)\n",
        "print('----')\n",
        "\n",
        "#Que hay si necesito guardar multiples entradas en mi serie\n",
        "g2 = pd.Series({'1969':7, '1970':[1, 22]}, index=['1969', '1970', '1970'])\n",
        "print(g2)\n",
        "\n",
        "# 2) Lectura\n",
        "print(cidys['1968'])\n",
        "\n",
        "#Procesos iterarivos\n",
        "print('---------')\n",
        "for i in cidys:\n",
        "  print(i)"
      ],
      "execution_count": 24,
      "outputs": [
        {
          "output_type": "stream",
          "text": [
            "1968    10\n",
            "1969     7\n",
            "1970     1\n",
            "1970    22\n",
            "Name: Per, dtype: int64\n",
            "----\n",
            "1969          7\n",
            "1970    [1, 22]\n",
            "1970    [1, 22]\n",
            "dtype: object\n",
            "10\n",
            "---------\n",
            "10\n",
            "7\n",
            "1\n",
            "22\n"
          ],
          "name": "stdout"
        }
      ]
    },
    {
      "cell_type": "code",
      "metadata": {
        "colab": {
          "base_uri": "https://localhost:8080/"
        },
        "id": "umI7e8UElnor",
        "outputId": "93477442-f6f1-4e73-8302-cecfa8b19fe2"
      },
      "source": [
        "#De los impares, sacarle el valores (indices ) 2 al 4\n",
        "print(impares) #Serie completa\n",
        "print(impares[2:5]) #Se espera: 2 -> 5, 3 -> 7 y 4 -> 9"
      ],
      "execution_count": 27,
      "outputs": [
        {
          "output_type": "stream",
          "text": [
            "0     1\n",
            "1     3\n",
            "2     5\n",
            "3     7\n",
            "4     9\n",
            "5    11\n",
            "6    13\n",
            "7    15\n",
            "dtype: int64\n",
            "2    5\n",
            "3    7\n",
            "4    9\n",
            "dtype: int64\n"
          ],
          "name": "stdout"
        }
      ]
    },
    {
      "cell_type": "code",
      "metadata": {
        "colab": {
          "base_uri": "https://localhost:8080/"
        },
        "id": "Tu2xDWo1mSuD",
        "outputId": "1acd6d41-41af-44ba-b51b-1fa53c4f254f"
      },
      "source": [
        "#Impares mayores a 10\n",
        "impares > 10"
      ],
      "execution_count": 28,
      "outputs": [
        {
          "output_type": "execute_result",
          "data": {
            "text/plain": [
              "0    False\n",
              "1    False\n",
              "2    False\n",
              "3    False\n",
              "4    False\n",
              "5     True\n",
              "6     True\n",
              "7     True\n",
              "dtype: bool"
            ]
          },
          "metadata": {},
          "execution_count": 28
        }
      ]
    },
    {
      "cell_type": "code",
      "metadata": {
        "colab": {
          "base_uri": "https://localhost:8080/"
        },
        "id": "93lKhvqVmf0B",
        "outputId": "b4ae2952-b05a-4c03-c5ec-e69f3b440946"
      },
      "source": [
        "#Aqui ya trae los campos que son mayores a 10\n",
        "mask = impares > 10\n",
        "impares[mask]"
      ],
      "execution_count": 30,
      "outputs": [
        {
          "output_type": "execute_result",
          "data": {
            "text/plain": [
              "5    11\n",
              "6    13\n",
              "7    15\n",
              "dtype: int64"
            ]
          },
          "metadata": {},
          "execution_count": 30
        }
      ]
    },
    {
      "cell_type": "code",
      "metadata": {
        "colab": {
          "base_uri": "https://localhost:8080/"
        },
        "id": "-TMDD8JhnOkX",
        "outputId": "d9634cfc-2742-4bed-8a18-bad68a132a4b"
      },
      "source": [
        "#Actualización\n",
        "print(cidys)\n",
        "cidys['1969'] = 6\n",
        "print(cidys['1969'])\n",
        "\n",
        "#Que pasa cuando intento actualizar un indice duplicado\n",
        "cidys['1970'] = 2\n",
        "print('--------')\n",
        "print(cidys)\n",
        "cidys = pd.Series([10, 7, 1, 22], index=['1968', '1969', '1970', '1970'], name='Per')\n",
        "#En esos casos es mejor hacer lo siguiente:\n",
        "cidys.iloc[3] = 2\n",
        "print(cidys)"
      ],
      "execution_count": 32,
      "outputs": [
        {
          "output_type": "stream",
          "text": [
            "1968    10\n",
            "1969     7\n",
            "1970     1\n",
            "1970    22\n",
            "Name: Per, dtype: int64\n",
            "6\n",
            "--------\n",
            "1968    10\n",
            "1969     6\n",
            "1970     2\n",
            "1970     2\n",
            "Name: Per, dtype: int64\n",
            "1968    10\n",
            "1969     7\n",
            "1970     1\n",
            "1970     2\n",
            "Name: Per, dtype: int64\n"
          ],
          "name": "stdout"
        }
      ]
    },
    {
      "cell_type": "code",
      "metadata": {
        "colab": {
          "base_uri": "https://localhost:8080/"
        },
        "id": "Goml1RYJo0h7",
        "outputId": "62c421cd-9fc0-4951-bb53-681000f0c038"
      },
      "source": [
        "#Se puede agregar valores a la serie:\n",
        "cidys = cidys.append(pd.Series({'1974':9}))\n",
        "print(cidys)"
      ],
      "execution_count": 33,
      "outputs": [
        {
          "output_type": "stream",
          "text": [
            "1968    10\n",
            "1969     7\n",
            "1970     1\n",
            "1970     2\n",
            "1974     9\n",
            "dtype: int64\n"
          ],
          "name": "stdout"
        }
      ]
    },
    {
      "cell_type": "code",
      "metadata": {
        "colab": {
          "base_uri": "https://localhost:8080/"
        },
        "id": "Y7kk5ljHphWX",
        "outputId": "aa32a7d0-7316-4de8-f97e-162719564cd2"
      },
      "source": [
        "#Borrado\n",
        "del cidys['1968']\n",
        "print(cidys)\n",
        "#Tambien se puede hacer filtros\n",
        "cidys[cidys <= 2]"
      ],
      "execution_count": 34,
      "outputs": [
        {
          "output_type": "stream",
          "text": [
            "1969    7\n",
            "1970    1\n",
            "1970    2\n",
            "1974    9\n",
            "dtype: int64\n"
          ],
          "name": "stdout"
        },
        {
          "output_type": "execute_result",
          "data": {
            "text/plain": [
              "1970    1\n",
              "1970    2\n",
              "dtype: int64"
            ]
          },
          "metadata": {},
          "execution_count": 34
        }
      ]
    },
    {
      "cell_type": "markdown",
      "metadata": {
        "id": "QfMoOWgyqDGo"
      },
      "source": [
        "**Indexamiento de series**\n",
        "\n",
        "---\n",
        "El atributo .iloc sirve para encontrar la posición de los indices\n",
        "\n",
        "\n",
        "Por el contrario .loc permite encontrar los labels en el indice\n"
      ]
    },
    {
      "cell_type": "code",
      "metadata": {
        "colab": {
          "base_uri": "https://localhost:8080/"
        },
        "id": "V1Zuc15Pphda",
        "outputId": "2c48eeeb-58be-4c6d-f4bc-1a739ac1be52"
      },
      "source": [
        "cidys.loc['1970']"
      ],
      "execution_count": 35,
      "outputs": [
        {
          "output_type": "execute_result",
          "data": {
            "text/plain": [
              "1970    1\n",
              "1970    2\n",
              "dtype: int64"
            ]
          },
          "metadata": {},
          "execution_count": 35
        }
      ]
    },
    {
      "cell_type": "code",
      "metadata": {
        "colab": {
          "base_uri": "https://localhost:8080/"
        },
        "id": "KD8ReMP6q0BZ",
        "outputId": "991a7e84-6a46-4311-9741-5f163ea379b5"
      },
      "source": [
        "cidys.iloc[0]"
      ],
      "execution_count": 36,
      "outputs": [
        {
          "output_type": "execute_result",
          "data": {
            "text/plain": [
              "7"
            ]
          },
          "metadata": {},
          "execution_count": 36
        }
      ]
    },
    {
      "cell_type": "markdown",
      "metadata": {
        "id": "yY_Wi6NSsrTC"
      },
      "source": [
        "**Métodos de series**"
      ]
    },
    {
      "cell_type": "code",
      "metadata": {
        "colab": {
          "base_uri": "https://localhost:8080/"
        },
        "id": "-xDHuCsRsz1T",
        "outputId": "03728f1a-fc0a-47da-ef8c-819c5c552ec8"
      },
      "source": [
        "import pandas as pd\n",
        "juan = pd.Series([3, None, 11, 9], index=['David', 'Pedro', 'Ju', 'Lin'], name=\"counts\")\n",
        "juan2 = pd.Series([5, None, 15, 21], index=['David', 'Pedro', 'Ju', 'Lin'], name=\"counts\")\n",
        "#Procesos iterativos\n",
        "for value in juan:\n",
        "  print(value)"
      ],
      "execution_count": 37,
      "outputs": [
        {
          "output_type": "stream",
          "text": [
            "3.0\n",
            "nan\n",
            "11.0\n",
            "9.0\n"
          ],
          "name": "stdout"
        }
      ]
    },
    {
      "cell_type": "code",
      "metadata": {
        "colab": {
          "base_uri": "https://localhost:8080/"
        },
        "id": "vxoOvXEAtYXu",
        "outputId": "adebdf17-6abc-4e29-8ef6-62ac4005384c"
      },
      "source": [
        "juan"
      ],
      "execution_count": 38,
      "outputs": [
        {
          "output_type": "execute_result",
          "data": {
            "text/plain": [
              "David     3.0\n",
              "Pedro     NaN\n",
              "Ju       11.0\n",
              "Lin       9.0\n",
              "Name: counts, dtype: float64"
            ]
          },
          "metadata": {},
          "execution_count": 38
        }
      ]
    },
    {
      "cell_type": "code",
      "metadata": {
        "colab": {
          "base_uri": "https://localhost:8080/"
        },
        "id": "68l2IRSkte4G",
        "outputId": "e98020c8-e66c-4207-9ca1-9426c6544995"
      },
      "source": [
        "for idx, value in juan.iteritems():\n",
        "  print('indice:', idx, 'valor:', value)"
      ],
      "execution_count": 40,
      "outputs": [
        {
          "output_type": "stream",
          "text": [
            "indice: David valor: 3.0\n",
            "indice: Pedro valor: nan\n",
            "indice: Ju valor: 11.0\n",
            "indice: Lin valor: 9.0\n"
          ],
          "name": "stdout"
        }
      ]
    },
    {
      "cell_type": "code",
      "metadata": {
        "id": "W-DEq3Hdt7mS"
      },
      "source": [
        "# Fechas\n",
        "fechas = pd.to_datetime(pd.Series(['Sep 7, 2001', '9/8/2001', '9-9-2001', '10th of September 2001', 'Once de Septiembre 2001']), errors='coerce')"
      ],
      "execution_count": 42,
      "outputs": []
    },
    {
      "cell_type": "code",
      "metadata": {
        "colab": {
          "base_uri": "https://localhost:8080/"
        },
        "id": "acI8CqzDuxKl",
        "outputId": "473bbcdc-2d4e-4db5-e7ae-e92bd1bef6c7"
      },
      "source": [
        "fechas[fechas < '2001-9-9']"
      ],
      "execution_count": 44,
      "outputs": [
        {
          "output_type": "execute_result",
          "data": {
            "text/plain": [
              "0   2001-09-07\n",
              "1   2001-09-08\n",
              "dtype: datetime64[ns]"
            ]
          },
          "metadata": {},
          "execution_count": 44
        }
      ]
    }
  ]
}