{
  "nbformat": 4,
  "nbformat_minor": 0,
  "metadata": {
    "colab": {
      "name": "ProyectoFinal.ipynb",
      "provenance": [],
      "authorship_tag": "ABX9TyMG+GZtYHVQ7620EwScyj3N",
      "include_colab_link": true
    },
    "kernelspec": {
      "name": "python3",
      "display_name": "Python 3"
    },
    "language_info": {
      "name": "python"
    }
  },
  "cells": [
    {
      "cell_type": "markdown",
      "metadata": {
        "id": "view-in-github",
        "colab_type": "text"
      },
      "source": [
        "<a href=\"https://colab.research.google.com/github/GabyLeon10100/MujeresDigitales/blob/main/ProyectoFinal.ipynb\" target=\"_parent\"><img src=\"https://colab.research.google.com/assets/colab-badge.svg\" alt=\"Open In Colab\"/></a>"
      ]
    },
    {
      "cell_type": "markdown",
      "metadata": {
        "id": "Fb36Pz7Nn_u_"
      },
      "source": [
        "# Analisis de los clientes en una cadena de supermercados"
      ]
    },
    {
      "cell_type": "code",
      "metadata": {
        "colab": {
          "base_uri": "https://localhost:8080/"
        },
        "id": "iccIYbsjuObl",
        "outputId": "b583f189-d4f8-4015-a0b7-e23b8a5a2e11"
      },
      "source": [
        "# Inslamos una actualización de plotly\n",
        "pip install --user --upgrade plotly "
      ],
      "execution_count": 129,
      "outputs": [
        {
          "output_type": "stream",
          "name": "stdout",
          "text": [
            "Requirement already satisfied: plotly in /root/.local/lib/python3.7/site-packages (5.4.0)\n",
            "Requirement already satisfied: tenacity>=6.2.0 in /root/.local/lib/python3.7/site-packages (from plotly) (8.0.1)\n",
            "Requirement already satisfied: six in /usr/local/lib/python3.7/dist-packages (from plotly) (1.15.0)\n"
          ]
        }
      ]
    },
    {
      "cell_type": "code",
      "metadata": {
        "id": "CoOKvKcGn8LE"
      },
      "source": [
        "#Importamos las librerias necesarias para el proyecto\n",
        "import numpy as np\n",
        "import pandas as pd\n",
        "import matplotlib.pyplot as plt\n",
        "import seaborn as sns\n",
        "import plotly.express as px\n",
        "from datetime import datetime as dt\n",
        "import random\n",
        "import matplotlib.colors as mcolors"
      ],
      "execution_count": 132,
      "outputs": []
    },
    {
      "cell_type": "markdown",
      "metadata": {
        "id": "_q6E09S_pLe3"
      },
      "source": [
        "**INTRODUCCIÓN**\n",
        "\n",
        "---\n",
        "**Contexto empresarial:** Una cadena de supermercados desea saber que segmento de clientes es más probable que compre cierto producto y solo comercializarlo en ese segmento en particular. Para ello requiere comprender mejor las necesidades, comportamientos y preocupaciones de los diferentes tipos de clientes.\n",
        "\n",
        "**Problema empresarial:** Analizar los datos proporcionados y proporcionar estadisticas para la creacion correcta de la campaña. Brindando visualizaciones que respondan a las preguntas específicas que tiene el cliente, que se mencionan a continuación.\n",
        "\n",
        "**Contexto analítico:** Se proporciona un archivo CSV que contiene detalles sobre cada cliente como fecha de nacimiento,ingresos, ubicación geografica del cliente, número de compras realizadas a través del sitio web de la empresa, etc. El delimitador en el archivo CSV dado es; en lugar del predeterminado,. Realizará las siguientes tareas con los datos:\n",
        "\n",
        "* Leer, transformar y preparar datos para su visualización\n",
        "\n",
        "* Realizar análisis y construir visualizaciones de los datos para identificar patrones\n",
        "\n",
        "El cliente tiene un conjunto específico de preguntas a las que le gustaría obtener respuestas. Deberá proporcionar visualizaciones para acompañar estos:"
      ]
    },
    {
      "cell_type": "markdown",
      "metadata": {
        "id": "AwNalUappRM5"
      },
      "source": [
        "Tenemos las siguientes columnas:\n",
        "\n",
        "*   **ID**= Identificacion unica del cliente.\n",
        "*   **Year_Birth**= Año de nacimiento del cliente.\n",
        "*   **Marital_Status**= Estado civil.\n",
        "*   **Income**= Ingreso familiar anual del cliente.\n",
        "*   **Kidhome**= Número de niños en el hogar del cliente.\n",
        "*   **Teenhome**= Número de adolescentes en el hogar del cliente\n",
        "*   **Dt_Customer**= Fecha de inscripción del cliente en la empresa.\n",
        "*   **Recency**= Número de días desde la última compra del cliente\n",
        "*   **MntWines**= Cantidad gastada en vino en los últimos 2 años\n",
        "*   **MntFruits**= Cantidad gastada en frutas en los últimos 2 años\n",
        "*   **MntMeatProducts**= Cantidad gastada en carne en los últimos 2 años\n",
        "*   **MntFishProducts**= Cantidad gastada en pescado en los últimos 2 años\n",
        "*   MntSweetProducts= Cantidad gastada en dulces en los últimos 2 años\n",
        "*   **MntGoldProds**=Cantidad gastada en oro en los últimos 2 años\n",
        "*   **NumDealsPurchases**= Número de compras realizadas con descuento\n",
        "*   **NumWebPurchases**= Número de compras realizadas a través del sitio web de la empresa\n",
        "*   **NumCatalogPurchases**= Número de compras realizadas mediante catálogo\n",
        "*   **NumStorePurchases**=Número de compras realizadas directamente en tiendas\n",
        "*   **NumWebVisitsMonth**= Número de visitas al sitio web de la empresa en el último mes\n",
        "*   **AcceptedCmp3**=1 si el cliente aceptó la oferta en la tercera campaña, 0 en caso contrario\n",
        "*   **AcceptedCmp4**= 1 si el cliente aceptó la oferta en la cuarta campaña, 0 en caso contrario\n",
        "*   **AcceptedCmp5**=1 si el cliente aceptó la oferta en la quinta campaña, 0 en caso contrario\n",
        "*   **AcceptedCmp1**=1 si el cliente aceptó la oferta en la primera campaña, 0 en caso contrario\n",
        "*   **AcceptedCmp2**=1 si el cliente aceptó la oferta en la segunda campaña, 0 en caso contrario\n",
        "*   **Response**= 1 si el cliente aceptó la oferta en la última campaña, 0 en caso contrario\n",
        "*   **Complain**= 1 si el cliente se quejó en los últimos 2 años, 0 en caso contrario\n",
        "*   **Country**= Ubicación del cliente\n"
      ]
    },
    {
      "cell_type": "markdown",
      "metadata": {
        "id": "zRFcXmBCpRUT"
      },
      "source": [
        "## Analizado los datos - columnas\n"
      ]
    },
    {
      "cell_type": "code",
      "metadata": {
        "colab": {
          "base_uri": "https://localhost:8080/",
          "height": 226
        },
        "id": "v8GlicO2pkJ8",
        "outputId": "2ae12ded-c0b3-4eeb-a75d-53f7126b9dd0"
      },
      "source": [
        "#Asigmos un DataFrame con el nombre data, con los datos de la tienda\n",
        "data=pd.read_csv('marketing_data.csv')\n",
        "data.head()"
      ],
      "execution_count": 133,
      "outputs": [
        {
          "output_type": "execute_result",
          "data": {
            "text/html": [
              "<div>\n",
              "<style scoped>\n",
              "    .dataframe tbody tr th:only-of-type {\n",
              "        vertical-align: middle;\n",
              "    }\n",
              "\n",
              "    .dataframe tbody tr th {\n",
              "        vertical-align: top;\n",
              "    }\n",
              "\n",
              "    .dataframe thead th {\n",
              "        text-align: right;\n",
              "    }\n",
              "</style>\n",
              "<table border=\"1\" class=\"dataframe\">\n",
              "  <thead>\n",
              "    <tr style=\"text-align: right;\">\n",
              "      <th></th>\n",
              "      <th>ID</th>\n",
              "      <th>Year_Birth</th>\n",
              "      <th>Education</th>\n",
              "      <th>Marital_Status</th>\n",
              "      <th>Income</th>\n",
              "      <th>Kidhome</th>\n",
              "      <th>Teenhome</th>\n",
              "      <th>Dt_Customer</th>\n",
              "      <th>Recency</th>\n",
              "      <th>MntWines</th>\n",
              "      <th>MntFruits</th>\n",
              "      <th>MntMeatProducts</th>\n",
              "      <th>MntFishProducts</th>\n",
              "      <th>MntSweetProducts</th>\n",
              "      <th>MntGoldProds</th>\n",
              "      <th>NumDealsPurchases</th>\n",
              "      <th>NumWebPurchases</th>\n",
              "      <th>NumCatalogPurchases</th>\n",
              "      <th>NumStorePurchases</th>\n",
              "      <th>NumWebVisitsMonth</th>\n",
              "      <th>AcceptedCmp3</th>\n",
              "      <th>AcceptedCmp4</th>\n",
              "      <th>AcceptedCmp5</th>\n",
              "      <th>AcceptedCmp1</th>\n",
              "      <th>AcceptedCmp2</th>\n",
              "      <th>Response</th>\n",
              "      <th>Complain</th>\n",
              "      <th>Country</th>\n",
              "    </tr>\n",
              "  </thead>\n",
              "  <tbody>\n",
              "    <tr>\n",
              "      <th>0</th>\n",
              "      <td>1826</td>\n",
              "      <td>1970</td>\n",
              "      <td>Graduation</td>\n",
              "      <td>Divorced</td>\n",
              "      <td>$84,835.00</td>\n",
              "      <td>0</td>\n",
              "      <td>0</td>\n",
              "      <td>6/16/14</td>\n",
              "      <td>0</td>\n",
              "      <td>189</td>\n",
              "      <td>104</td>\n",
              "      <td>379</td>\n",
              "      <td>111</td>\n",
              "      <td>189</td>\n",
              "      <td>218</td>\n",
              "      <td>1</td>\n",
              "      <td>4</td>\n",
              "      <td>4</td>\n",
              "      <td>6</td>\n",
              "      <td>1</td>\n",
              "      <td>0</td>\n",
              "      <td>0</td>\n",
              "      <td>0</td>\n",
              "      <td>0</td>\n",
              "      <td>0</td>\n",
              "      <td>1</td>\n",
              "      <td>0</td>\n",
              "      <td>SP</td>\n",
              "    </tr>\n",
              "    <tr>\n",
              "      <th>1</th>\n",
              "      <td>1</td>\n",
              "      <td>1961</td>\n",
              "      <td>Graduation</td>\n",
              "      <td>Single</td>\n",
              "      <td>$57,091.00</td>\n",
              "      <td>0</td>\n",
              "      <td>0</td>\n",
              "      <td>6/15/14</td>\n",
              "      <td>0</td>\n",
              "      <td>464</td>\n",
              "      <td>5</td>\n",
              "      <td>64</td>\n",
              "      <td>7</td>\n",
              "      <td>0</td>\n",
              "      <td>37</td>\n",
              "      <td>1</td>\n",
              "      <td>7</td>\n",
              "      <td>3</td>\n",
              "      <td>7</td>\n",
              "      <td>5</td>\n",
              "      <td>0</td>\n",
              "      <td>0</td>\n",
              "      <td>0</td>\n",
              "      <td>0</td>\n",
              "      <td>1</td>\n",
              "      <td>1</td>\n",
              "      <td>0</td>\n",
              "      <td>CA</td>\n",
              "    </tr>\n",
              "    <tr>\n",
              "      <th>2</th>\n",
              "      <td>10476</td>\n",
              "      <td>1958</td>\n",
              "      <td>Graduation</td>\n",
              "      <td>Married</td>\n",
              "      <td>$67,267.00</td>\n",
              "      <td>0</td>\n",
              "      <td>1</td>\n",
              "      <td>5/13/14</td>\n",
              "      <td>0</td>\n",
              "      <td>134</td>\n",
              "      <td>11</td>\n",
              "      <td>59</td>\n",
              "      <td>15</td>\n",
              "      <td>2</td>\n",
              "      <td>30</td>\n",
              "      <td>1</td>\n",
              "      <td>3</td>\n",
              "      <td>2</td>\n",
              "      <td>5</td>\n",
              "      <td>2</td>\n",
              "      <td>0</td>\n",
              "      <td>0</td>\n",
              "      <td>0</td>\n",
              "      <td>0</td>\n",
              "      <td>0</td>\n",
              "      <td>0</td>\n",
              "      <td>0</td>\n",
              "      <td>US</td>\n",
              "    </tr>\n",
              "    <tr>\n",
              "      <th>3</th>\n",
              "      <td>1386</td>\n",
              "      <td>1967</td>\n",
              "      <td>Graduation</td>\n",
              "      <td>Together</td>\n",
              "      <td>$32,474.00</td>\n",
              "      <td>1</td>\n",
              "      <td>1</td>\n",
              "      <td>5/11/14</td>\n",
              "      <td>0</td>\n",
              "      <td>10</td>\n",
              "      <td>0</td>\n",
              "      <td>1</td>\n",
              "      <td>0</td>\n",
              "      <td>0</td>\n",
              "      <td>0</td>\n",
              "      <td>1</td>\n",
              "      <td>1</td>\n",
              "      <td>0</td>\n",
              "      <td>2</td>\n",
              "      <td>7</td>\n",
              "      <td>0</td>\n",
              "      <td>0</td>\n",
              "      <td>0</td>\n",
              "      <td>0</td>\n",
              "      <td>0</td>\n",
              "      <td>0</td>\n",
              "      <td>0</td>\n",
              "      <td>AUS</td>\n",
              "    </tr>\n",
              "    <tr>\n",
              "      <th>4</th>\n",
              "      <td>5371</td>\n",
              "      <td>1989</td>\n",
              "      <td>Graduation</td>\n",
              "      <td>Single</td>\n",
              "      <td>$21,474.00</td>\n",
              "      <td>1</td>\n",
              "      <td>0</td>\n",
              "      <td>4/8/14</td>\n",
              "      <td>0</td>\n",
              "      <td>6</td>\n",
              "      <td>16</td>\n",
              "      <td>24</td>\n",
              "      <td>11</td>\n",
              "      <td>0</td>\n",
              "      <td>34</td>\n",
              "      <td>2</td>\n",
              "      <td>3</td>\n",
              "      <td>1</td>\n",
              "      <td>2</td>\n",
              "      <td>7</td>\n",
              "      <td>1</td>\n",
              "      <td>0</td>\n",
              "      <td>0</td>\n",
              "      <td>0</td>\n",
              "      <td>0</td>\n",
              "      <td>1</td>\n",
              "      <td>0</td>\n",
              "      <td>SP</td>\n",
              "    </tr>\n",
              "  </tbody>\n",
              "</table>\n",
              "</div>"
            ],
            "text/plain": [
              "      ID  Year_Birth   Education  ... Response Complain  Country\n",
              "0   1826        1970  Graduation  ...        1        0       SP\n",
              "1      1        1961  Graduation  ...        1        0       CA\n",
              "2  10476        1958  Graduation  ...        0        0       US\n",
              "3   1386        1967  Graduation  ...        0        0      AUS\n",
              "4   5371        1989  Graduation  ...        1        0       SP\n",
              "\n",
              "[5 rows x 28 columns]"
            ]
          },
          "metadata": {},
          "execution_count": 133
        }
      ]
    },
    {
      "cell_type": "code",
      "metadata": {
        "colab": {
          "base_uri": "https://localhost:8080/"
        },
        "id": "XnSRHfvQqD_6",
        "outputId": "ac43b66b-77db-4a83-c3f4-518799a1680c"
      },
      "source": [
        "#Obtenemos la cantidad de registros por columna y tipo de dato\n",
        "print(data.info())"
      ],
      "execution_count": 134,
      "outputs": [
        {
          "output_type": "stream",
          "name": "stdout",
          "text": [
            "<class 'pandas.core.frame.DataFrame'>\n",
            "RangeIndex: 2240 entries, 0 to 2239\n",
            "Data columns (total 28 columns):\n",
            " #   Column               Non-Null Count  Dtype \n",
            "---  ------               --------------  ----- \n",
            " 0   ID                   2240 non-null   int64 \n",
            " 1   Year_Birth           2240 non-null   int64 \n",
            " 2   Education            2240 non-null   object\n",
            " 3   Marital_Status       2240 non-null   object\n",
            " 4    Income              2216 non-null   object\n",
            " 5   Kidhome              2240 non-null   int64 \n",
            " 6   Teenhome             2240 non-null   int64 \n",
            " 7   Dt_Customer          2240 non-null   object\n",
            " 8   Recency              2240 non-null   int64 \n",
            " 9   MntWines             2240 non-null   int64 \n",
            " 10  MntFruits            2240 non-null   int64 \n",
            " 11  MntMeatProducts      2240 non-null   int64 \n",
            " 12  MntFishProducts      2240 non-null   int64 \n",
            " 13  MntSweetProducts     2240 non-null   int64 \n",
            " 14  MntGoldProds         2240 non-null   int64 \n",
            " 15  NumDealsPurchases    2240 non-null   int64 \n",
            " 16  NumWebPurchases      2240 non-null   int64 \n",
            " 17  NumCatalogPurchases  2240 non-null   int64 \n",
            " 18  NumStorePurchases    2240 non-null   int64 \n",
            " 19  NumWebVisitsMonth    2240 non-null   int64 \n",
            " 20  AcceptedCmp3         2240 non-null   int64 \n",
            " 21  AcceptedCmp4         2240 non-null   int64 \n",
            " 22  AcceptedCmp5         2240 non-null   int64 \n",
            " 23  AcceptedCmp1         2240 non-null   int64 \n",
            " 24  AcceptedCmp2         2240 non-null   int64 \n",
            " 25  Response             2240 non-null   int64 \n",
            " 26  Complain             2240 non-null   int64 \n",
            " 27  Country              2240 non-null   object\n",
            "dtypes: int64(23), object(5)\n",
            "memory usage: 490.1+ KB\n",
            "None\n"
          ]
        }
      ]
    },
    {
      "cell_type": "code",
      "metadata": {
        "colab": {
          "base_uri": "https://localhost:8080/"
        },
        "id": "Tt5KsB-3qKBi",
        "outputId": "e0e4beb1-bb84-42a0-8873-d7f4cd7cce42"
      },
      "source": [
        "data.shape #cantidad de registros y de columnas."
      ],
      "execution_count": 135,
      "outputs": [
        {
          "output_type": "execute_result",
          "data": {
            "text/plain": [
              "(2240, 28)"
            ]
          },
          "metadata": {},
          "execution_count": 135
        }
      ]
    },
    {
      "cell_type": "code",
      "metadata": {
        "id": "tNJ9uhwcqO0O"
      },
      "source": [
        "data.columns = data.columns.str.replace(' ', '',regex=True) #Reemplazar en las columnas los dos espacios por vacio.\n",
        "data['Income'] = data['Income'].str.replace('$', '',regex=True)#Reemplazar en la columna Income el signo peso por vacio.\n",
        "data['Income'] = data['Income'].str.replace(',','').astype('float')#Reemplazar en la columna Income la coma de los registros por vacio y convertirlos a tipo float."
      ],
      "execution_count": 136,
      "outputs": []
    },
    {
      "cell_type": "code",
      "metadata": {
        "colab": {
          "base_uri": "https://localhost:8080/"
        },
        "id": "f2zRqC9gra9F",
        "outputId": "71e6e651-396e-4fc2-a014-ee145c414f4b"
      },
      "source": [
        "#Buscamos si hay campos nulos en alguno de los campos que tenemos en los datos\n",
        "data.isnull().sum().sort_values(ascending=False)#Sustituir valores nulos por True si es nulo o False si no lo es y sumarlos. Ordenar de mayor cantidad a menor."
      ],
      "execution_count": 137,
      "outputs": [
        {
          "output_type": "execute_result",
          "data": {
            "text/plain": [
              "Income                 24\n",
              "Country                 0\n",
              "Complain                0\n",
              "Year_Birth              0\n",
              "Education               0\n",
              "Marital_Status          0\n",
              "Kidhome                 0\n",
              "Teenhome                0\n",
              "Dt_Customer             0\n",
              "Recency                 0\n",
              "MntWines                0\n",
              "MntFruits               0\n",
              "MntMeatProducts         0\n",
              "MntFishProducts         0\n",
              "MntSweetProducts        0\n",
              "MntGoldProds            0\n",
              "NumDealsPurchases       0\n",
              "NumWebPurchases         0\n",
              "NumCatalogPurchases     0\n",
              "NumStorePurchases       0\n",
              "NumWebVisitsMonth       0\n",
              "AcceptedCmp3            0\n",
              "AcceptedCmp4            0\n",
              "AcceptedCmp5            0\n",
              "AcceptedCmp1            0\n",
              "AcceptedCmp2            0\n",
              "Response                0\n",
              "ID                      0\n",
              "dtype: int64"
            ]
          },
          "metadata": {},
          "execution_count": 137
        }
      ]
    },
    {
      "cell_type": "code",
      "metadata": {
        "colab": {
          "base_uri": "https://localhost:8080/",
          "height": 444
        },
        "id": "PzdR3Amg0JLq",
        "outputId": "9f8b3126-97fb-447c-cb41-49cb9037d627"
      },
      "source": [
        "data['Income']=data['Income'].fillna(data['Income'].median())#Sustituye en la columna Income los valores nulos por el valor mediano para evitar \n",
        "#el efecto de valores atipico\n",
        "data"
      ],
      "execution_count": 138,
      "outputs": [
        {
          "output_type": "execute_result",
          "data": {
            "text/html": [
              "<div>\n",
              "<style scoped>\n",
              "    .dataframe tbody tr th:only-of-type {\n",
              "        vertical-align: middle;\n",
              "    }\n",
              "\n",
              "    .dataframe tbody tr th {\n",
              "        vertical-align: top;\n",
              "    }\n",
              "\n",
              "    .dataframe thead th {\n",
              "        text-align: right;\n",
              "    }\n",
              "</style>\n",
              "<table border=\"1\" class=\"dataframe\">\n",
              "  <thead>\n",
              "    <tr style=\"text-align: right;\">\n",
              "      <th></th>\n",
              "      <th>ID</th>\n",
              "      <th>Year_Birth</th>\n",
              "      <th>Education</th>\n",
              "      <th>Marital_Status</th>\n",
              "      <th>Income</th>\n",
              "      <th>Kidhome</th>\n",
              "      <th>Teenhome</th>\n",
              "      <th>Dt_Customer</th>\n",
              "      <th>Recency</th>\n",
              "      <th>MntWines</th>\n",
              "      <th>MntFruits</th>\n",
              "      <th>MntMeatProducts</th>\n",
              "      <th>MntFishProducts</th>\n",
              "      <th>MntSweetProducts</th>\n",
              "      <th>MntGoldProds</th>\n",
              "      <th>NumDealsPurchases</th>\n",
              "      <th>NumWebPurchases</th>\n",
              "      <th>NumCatalogPurchases</th>\n",
              "      <th>NumStorePurchases</th>\n",
              "      <th>NumWebVisitsMonth</th>\n",
              "      <th>AcceptedCmp3</th>\n",
              "      <th>AcceptedCmp4</th>\n",
              "      <th>AcceptedCmp5</th>\n",
              "      <th>AcceptedCmp1</th>\n",
              "      <th>AcceptedCmp2</th>\n",
              "      <th>Response</th>\n",
              "      <th>Complain</th>\n",
              "      <th>Country</th>\n",
              "    </tr>\n",
              "  </thead>\n",
              "  <tbody>\n",
              "    <tr>\n",
              "      <th>0</th>\n",
              "      <td>1826</td>\n",
              "      <td>1970</td>\n",
              "      <td>Graduation</td>\n",
              "      <td>Divorced</td>\n",
              "      <td>84835.0</td>\n",
              "      <td>0</td>\n",
              "      <td>0</td>\n",
              "      <td>6/16/14</td>\n",
              "      <td>0</td>\n",
              "      <td>189</td>\n",
              "      <td>104</td>\n",
              "      <td>379</td>\n",
              "      <td>111</td>\n",
              "      <td>189</td>\n",
              "      <td>218</td>\n",
              "      <td>1</td>\n",
              "      <td>4</td>\n",
              "      <td>4</td>\n",
              "      <td>6</td>\n",
              "      <td>1</td>\n",
              "      <td>0</td>\n",
              "      <td>0</td>\n",
              "      <td>0</td>\n",
              "      <td>0</td>\n",
              "      <td>0</td>\n",
              "      <td>1</td>\n",
              "      <td>0</td>\n",
              "      <td>SP</td>\n",
              "    </tr>\n",
              "    <tr>\n",
              "      <th>1</th>\n",
              "      <td>1</td>\n",
              "      <td>1961</td>\n",
              "      <td>Graduation</td>\n",
              "      <td>Single</td>\n",
              "      <td>57091.0</td>\n",
              "      <td>0</td>\n",
              "      <td>0</td>\n",
              "      <td>6/15/14</td>\n",
              "      <td>0</td>\n",
              "      <td>464</td>\n",
              "      <td>5</td>\n",
              "      <td>64</td>\n",
              "      <td>7</td>\n",
              "      <td>0</td>\n",
              "      <td>37</td>\n",
              "      <td>1</td>\n",
              "      <td>7</td>\n",
              "      <td>3</td>\n",
              "      <td>7</td>\n",
              "      <td>5</td>\n",
              "      <td>0</td>\n",
              "      <td>0</td>\n",
              "      <td>0</td>\n",
              "      <td>0</td>\n",
              "      <td>1</td>\n",
              "      <td>1</td>\n",
              "      <td>0</td>\n",
              "      <td>CA</td>\n",
              "    </tr>\n",
              "    <tr>\n",
              "      <th>2</th>\n",
              "      <td>10476</td>\n",
              "      <td>1958</td>\n",
              "      <td>Graduation</td>\n",
              "      <td>Married</td>\n",
              "      <td>67267.0</td>\n",
              "      <td>0</td>\n",
              "      <td>1</td>\n",
              "      <td>5/13/14</td>\n",
              "      <td>0</td>\n",
              "      <td>134</td>\n",
              "      <td>11</td>\n",
              "      <td>59</td>\n",
              "      <td>15</td>\n",
              "      <td>2</td>\n",
              "      <td>30</td>\n",
              "      <td>1</td>\n",
              "      <td>3</td>\n",
              "      <td>2</td>\n",
              "      <td>5</td>\n",
              "      <td>2</td>\n",
              "      <td>0</td>\n",
              "      <td>0</td>\n",
              "      <td>0</td>\n",
              "      <td>0</td>\n",
              "      <td>0</td>\n",
              "      <td>0</td>\n",
              "      <td>0</td>\n",
              "      <td>US</td>\n",
              "    </tr>\n",
              "    <tr>\n",
              "      <th>3</th>\n",
              "      <td>1386</td>\n",
              "      <td>1967</td>\n",
              "      <td>Graduation</td>\n",
              "      <td>Together</td>\n",
              "      <td>32474.0</td>\n",
              "      <td>1</td>\n",
              "      <td>1</td>\n",
              "      <td>5/11/14</td>\n",
              "      <td>0</td>\n",
              "      <td>10</td>\n",
              "      <td>0</td>\n",
              "      <td>1</td>\n",
              "      <td>0</td>\n",
              "      <td>0</td>\n",
              "      <td>0</td>\n",
              "      <td>1</td>\n",
              "      <td>1</td>\n",
              "      <td>0</td>\n",
              "      <td>2</td>\n",
              "      <td>7</td>\n",
              "      <td>0</td>\n",
              "      <td>0</td>\n",
              "      <td>0</td>\n",
              "      <td>0</td>\n",
              "      <td>0</td>\n",
              "      <td>0</td>\n",
              "      <td>0</td>\n",
              "      <td>AUS</td>\n",
              "    </tr>\n",
              "    <tr>\n",
              "      <th>4</th>\n",
              "      <td>5371</td>\n",
              "      <td>1989</td>\n",
              "      <td>Graduation</td>\n",
              "      <td>Single</td>\n",
              "      <td>21474.0</td>\n",
              "      <td>1</td>\n",
              "      <td>0</td>\n",
              "      <td>4/8/14</td>\n",
              "      <td>0</td>\n",
              "      <td>6</td>\n",
              "      <td>16</td>\n",
              "      <td>24</td>\n",
              "      <td>11</td>\n",
              "      <td>0</td>\n",
              "      <td>34</td>\n",
              "      <td>2</td>\n",
              "      <td>3</td>\n",
              "      <td>1</td>\n",
              "      <td>2</td>\n",
              "      <td>7</td>\n",
              "      <td>1</td>\n",
              "      <td>0</td>\n",
              "      <td>0</td>\n",
              "      <td>0</td>\n",
              "      <td>0</td>\n",
              "      <td>1</td>\n",
              "      <td>0</td>\n",
              "      <td>SP</td>\n",
              "    </tr>\n",
              "    <tr>\n",
              "      <th>...</th>\n",
              "      <td>...</td>\n",
              "      <td>...</td>\n",
              "      <td>...</td>\n",
              "      <td>...</td>\n",
              "      <td>...</td>\n",
              "      <td>...</td>\n",
              "      <td>...</td>\n",
              "      <td>...</td>\n",
              "      <td>...</td>\n",
              "      <td>...</td>\n",
              "      <td>...</td>\n",
              "      <td>...</td>\n",
              "      <td>...</td>\n",
              "      <td>...</td>\n",
              "      <td>...</td>\n",
              "      <td>...</td>\n",
              "      <td>...</td>\n",
              "      <td>...</td>\n",
              "      <td>...</td>\n",
              "      <td>...</td>\n",
              "      <td>...</td>\n",
              "      <td>...</td>\n",
              "      <td>...</td>\n",
              "      <td>...</td>\n",
              "      <td>...</td>\n",
              "      <td>...</td>\n",
              "      <td>...</td>\n",
              "      <td>...</td>\n",
              "    </tr>\n",
              "    <tr>\n",
              "      <th>2235</th>\n",
              "      <td>10142</td>\n",
              "      <td>1976</td>\n",
              "      <td>PhD</td>\n",
              "      <td>Divorced</td>\n",
              "      <td>66476.0</td>\n",
              "      <td>0</td>\n",
              "      <td>1</td>\n",
              "      <td>3/7/13</td>\n",
              "      <td>99</td>\n",
              "      <td>372</td>\n",
              "      <td>18</td>\n",
              "      <td>126</td>\n",
              "      <td>47</td>\n",
              "      <td>48</td>\n",
              "      <td>78</td>\n",
              "      <td>2</td>\n",
              "      <td>5</td>\n",
              "      <td>2</td>\n",
              "      <td>11</td>\n",
              "      <td>4</td>\n",
              "      <td>0</td>\n",
              "      <td>0</td>\n",
              "      <td>0</td>\n",
              "      <td>0</td>\n",
              "      <td>0</td>\n",
              "      <td>0</td>\n",
              "      <td>0</td>\n",
              "      <td>US</td>\n",
              "    </tr>\n",
              "    <tr>\n",
              "      <th>2236</th>\n",
              "      <td>5263</td>\n",
              "      <td>1977</td>\n",
              "      <td>2n Cycle</td>\n",
              "      <td>Married</td>\n",
              "      <td>31056.0</td>\n",
              "      <td>1</td>\n",
              "      <td>0</td>\n",
              "      <td>1/22/13</td>\n",
              "      <td>99</td>\n",
              "      <td>5</td>\n",
              "      <td>10</td>\n",
              "      <td>13</td>\n",
              "      <td>3</td>\n",
              "      <td>8</td>\n",
              "      <td>16</td>\n",
              "      <td>1</td>\n",
              "      <td>1</td>\n",
              "      <td>0</td>\n",
              "      <td>3</td>\n",
              "      <td>8</td>\n",
              "      <td>0</td>\n",
              "      <td>0</td>\n",
              "      <td>0</td>\n",
              "      <td>0</td>\n",
              "      <td>0</td>\n",
              "      <td>0</td>\n",
              "      <td>0</td>\n",
              "      <td>SP</td>\n",
              "    </tr>\n",
              "    <tr>\n",
              "      <th>2237</th>\n",
              "      <td>22</td>\n",
              "      <td>1976</td>\n",
              "      <td>Graduation</td>\n",
              "      <td>Divorced</td>\n",
              "      <td>46310.0</td>\n",
              "      <td>1</td>\n",
              "      <td>0</td>\n",
              "      <td>12/3/12</td>\n",
              "      <td>99</td>\n",
              "      <td>185</td>\n",
              "      <td>2</td>\n",
              "      <td>88</td>\n",
              "      <td>15</td>\n",
              "      <td>5</td>\n",
              "      <td>14</td>\n",
              "      <td>2</td>\n",
              "      <td>6</td>\n",
              "      <td>1</td>\n",
              "      <td>5</td>\n",
              "      <td>8</td>\n",
              "      <td>0</td>\n",
              "      <td>0</td>\n",
              "      <td>0</td>\n",
              "      <td>0</td>\n",
              "      <td>0</td>\n",
              "      <td>0</td>\n",
              "      <td>0</td>\n",
              "      <td>SP</td>\n",
              "    </tr>\n",
              "    <tr>\n",
              "      <th>2238</th>\n",
              "      <td>528</td>\n",
              "      <td>1978</td>\n",
              "      <td>Graduation</td>\n",
              "      <td>Married</td>\n",
              "      <td>65819.0</td>\n",
              "      <td>0</td>\n",
              "      <td>0</td>\n",
              "      <td>11/29/12</td>\n",
              "      <td>99</td>\n",
              "      <td>267</td>\n",
              "      <td>38</td>\n",
              "      <td>701</td>\n",
              "      <td>149</td>\n",
              "      <td>165</td>\n",
              "      <td>63</td>\n",
              "      <td>1</td>\n",
              "      <td>5</td>\n",
              "      <td>4</td>\n",
              "      <td>10</td>\n",
              "      <td>3</td>\n",
              "      <td>0</td>\n",
              "      <td>0</td>\n",
              "      <td>0</td>\n",
              "      <td>0</td>\n",
              "      <td>0</td>\n",
              "      <td>0</td>\n",
              "      <td>0</td>\n",
              "      <td>IND</td>\n",
              "    </tr>\n",
              "    <tr>\n",
              "      <th>2239</th>\n",
              "      <td>4070</td>\n",
              "      <td>1969</td>\n",
              "      <td>PhD</td>\n",
              "      <td>Married</td>\n",
              "      <td>94871.0</td>\n",
              "      <td>0</td>\n",
              "      <td>2</td>\n",
              "      <td>9/1/12</td>\n",
              "      <td>99</td>\n",
              "      <td>169</td>\n",
              "      <td>24</td>\n",
              "      <td>553</td>\n",
              "      <td>188</td>\n",
              "      <td>0</td>\n",
              "      <td>144</td>\n",
              "      <td>1</td>\n",
              "      <td>8</td>\n",
              "      <td>5</td>\n",
              "      <td>4</td>\n",
              "      <td>7</td>\n",
              "      <td>0</td>\n",
              "      <td>1</td>\n",
              "      <td>1</td>\n",
              "      <td>0</td>\n",
              "      <td>0</td>\n",
              "      <td>1</td>\n",
              "      <td>0</td>\n",
              "      <td>CA</td>\n",
              "    </tr>\n",
              "  </tbody>\n",
              "</table>\n",
              "<p>2240 rows × 28 columns</p>\n",
              "</div>"
            ],
            "text/plain": [
              "         ID  Year_Birth   Education  ... Response  Complain  Country\n",
              "0      1826        1970  Graduation  ...        1         0       SP\n",
              "1         1        1961  Graduation  ...        1         0       CA\n",
              "2     10476        1958  Graduation  ...        0         0       US\n",
              "3      1386        1967  Graduation  ...        0         0      AUS\n",
              "4      5371        1989  Graduation  ...        1         0       SP\n",
              "...     ...         ...         ...  ...      ...       ...      ...\n",
              "2235  10142        1976         PhD  ...        0         0       US\n",
              "2236   5263        1977    2n Cycle  ...        0         0       SP\n",
              "2237     22        1976  Graduation  ...        0         0       SP\n",
              "2238    528        1978  Graduation  ...        0         0      IND\n",
              "2239   4070        1969         PhD  ...        1         0       CA\n",
              "\n",
              "[2240 rows x 28 columns]"
            ]
          },
          "metadata": {},
          "execution_count": 138
        }
      ]
    },
    {
      "cell_type": "markdown",
      "metadata": {
        "id": "zXsnPE21qgrw"
      },
      "source": [
        "# Parte 1: ¿Como ha flutuado el número de compras durante los ultimos dos años? ¿Han aumentado con el tiempo? ¿Cual es el producto más comprado?\n",
        "\n",
        "En esta parte, vamos a identificar como ha sido las compras a lo largo de los dos años, por medio de las compras online, directamente con la tienda y como se comporta en los diferentes países donde tiene comercio la tienda.\n"
      ]
    },
    {
      "cell_type": "code",
      "metadata": {
        "id": "fn3pZQnW61Wx"
      },
      "source": [
        "#Vamos a identificar cuanto(cantidad) ha vendido la tienda en los diferentes productos\n",
        "cantidad_vino = data['MntWines'].sum() #Cantidad de vino\n",
        "cantidad_fruta = data['MntFruits'].sum() #Cantidad de frutas\n",
        "cantidad_carne = data['MntMeatProducts'].sum() #Cantidad de carne\n",
        "cantidad_pescado = data['MntFishProducts'].sum() #Cantidad de pescado\n",
        "cantidad_dulces = data['MntSweetProducts'].sum() #Cantidad de dulces\n",
        "cantidad_oro = data['MntGoldProds'].sum() #Cantidad de oro"
      ],
      "execution_count": 139,
      "outputs": []
    },
    {
      "cell_type": "code",
      "metadata": {
        "colab": {
          "base_uri": "https://localhost:8080/",
          "height": 238
        },
        "id": "fXs1pgdiCfmY",
        "outputId": "ab6f8c19-af6a-4eec-bca3-234ba516401e"
      },
      "source": [
        "#Creamos el DataFrame\n",
        "valores = pd.DataFrame()\n",
        "\n",
        "#Asignamos las columnas del DataFrame\n",
        "valores['productos'] = None\n",
        "valores['cantidad'] = None\n",
        "\n",
        "#Creamos campos, para llenar el DataFrame\n",
        "productos = ['Vino', 'Fruta', 'Carne', 'Pescado', 'Dulce', 'Oro']\n",
        "cantidad = [cantidad_vino, cantidad_fruta, cantidad_carne, cantidad_pescado, cantidad_dulces, cantidad_oro]\n",
        "\n",
        "#Llenamos el DataFrame\n",
        "valores['productos'] = productos\n",
        "valores['cantidad'] = cantidad\n",
        "valores"
      ],
      "execution_count": 140,
      "outputs": [
        {
          "output_type": "execute_result",
          "data": {
            "text/html": [
              "<div>\n",
              "<style scoped>\n",
              "    .dataframe tbody tr th:only-of-type {\n",
              "        vertical-align: middle;\n",
              "    }\n",
              "\n",
              "    .dataframe tbody tr th {\n",
              "        vertical-align: top;\n",
              "    }\n",
              "\n",
              "    .dataframe thead th {\n",
              "        text-align: right;\n",
              "    }\n",
              "</style>\n",
              "<table border=\"1\" class=\"dataframe\">\n",
              "  <thead>\n",
              "    <tr style=\"text-align: right;\">\n",
              "      <th></th>\n",
              "      <th>productos</th>\n",
              "      <th>cantidad</th>\n",
              "    </tr>\n",
              "  </thead>\n",
              "  <tbody>\n",
              "    <tr>\n",
              "      <th>0</th>\n",
              "      <td>Vino</td>\n",
              "      <td>680816</td>\n",
              "    </tr>\n",
              "    <tr>\n",
              "      <th>1</th>\n",
              "      <td>Fruta</td>\n",
              "      <td>58917</td>\n",
              "    </tr>\n",
              "    <tr>\n",
              "      <th>2</th>\n",
              "      <td>Carne</td>\n",
              "      <td>373968</td>\n",
              "    </tr>\n",
              "    <tr>\n",
              "      <th>3</th>\n",
              "      <td>Pescado</td>\n",
              "      <td>84057</td>\n",
              "    </tr>\n",
              "    <tr>\n",
              "      <th>4</th>\n",
              "      <td>Dulce</td>\n",
              "      <td>60621</td>\n",
              "    </tr>\n",
              "    <tr>\n",
              "      <th>5</th>\n",
              "      <td>Oro</td>\n",
              "      <td>98609</td>\n",
              "    </tr>\n",
              "  </tbody>\n",
              "</table>\n",
              "</div>"
            ],
            "text/plain": [
              "  productos  cantidad\n",
              "0      Vino    680816\n",
              "1     Fruta     58917\n",
              "2     Carne    373968\n",
              "3   Pescado     84057\n",
              "4     Dulce     60621\n",
              "5       Oro     98609"
            ]
          },
          "metadata": {},
          "execution_count": 140
        }
      ]
    },
    {
      "cell_type": "code",
      "metadata": {
        "colab": {
          "base_uri": "https://localhost:8080/",
          "height": 295
        },
        "id": "delwYldTBe58",
        "outputId": "bea27f7d-0b52-4b26-f93f-3e7ed3ba41b2"
      },
      "source": [
        "#Creamos la grafica de barras sobre la compra de los productos\n",
        "valores = valores[[\"productos\", \"cantidad\"]]\n",
        "x = valores.productos\n",
        "y = valores.cantidad\n",
        "plt.bar(x, y, color = \"#4CAF50\")\n",
        "plt.title(\"Ventas en la tienda\")\n",
        "plt.xlabel(\"Productos\")\n",
        "plt.ylabel(\"Cantidad de los productos vendidos\")\n",
        "plt.show()"
      ],
      "execution_count": 141,
      "outputs": [
        {
          "output_type": "display_data",
          "data": {
            "image/png": "[encoded data removed]",
            "text/plain": [
              "<Figure size 432x288 with 1 Axes>"
            ]
          },
          "metadata": {
            "needs_background": "light"
          }
        }
      ]
    },
    {
      "cell_type": "markdown",
      "metadata": {
        "id": "g2eEisRsUPfQ"
      },
      "source": [
        "En la grafica podemos apreciar que el producto que más se vende en la tienda es el Vino y la menos apreciada por los clientes es la fruta y dulce, que tienen valores muy bajos\n",
        "\n"
      ]
    },
    {
      "cell_type": "code",
      "metadata": {
        "id": "K9k_vEJrWGvC"
      },
      "source": [
        "#Sacamos el total de compras\n",
        "purchases_col=[col for col in data.columns if 'Purchase' in col]#variable para las columnas que contienen la palabra 'Purchase' sumar aplicado en forma de filas.\n",
        "data['TotalPurchases']=data[purchases_col].sum(axis=1)"
      ],
      "execution_count": 142,
      "outputs": []
    },
    {
      "cell_type": "code",
      "metadata": {
        "id": "eT6ZB0sgL3Yq",
        "colab": {
          "base_uri": "https://localhost:8080/"
        },
        "outputId": "2ba65e9e-2391-4732-8281-68a4cab56c66"
      },
      "source": [
        "#Identificamos los países donde se ofrecen los productos\n",
        "data['Country'].unique()"
      ],
      "execution_count": 143,
      "outputs": [
        {
          "output_type": "execute_result",
          "data": {
            "text/plain": [
              "array(['SP', 'CA', 'US', 'AUS', 'GER', 'IND', 'SA', 'ME'], dtype=object)"
            ]
          },
          "metadata": {},
          "execution_count": 143
        }
      ]
    },
    {
      "cell_type": "code",
      "metadata": {
        "colab": {
          "base_uri": "https://localhost:8080/",
          "height": 479
        },
        "id": "-ML1d9chlx3N",
        "outputId": "55e6290a-0599-4399-c49d-d3aecbf4ca82"
      },
      "source": [
        "#Agregamos una nueva columna a nuestro DataFrame con los nombres de los países\n",
        "data['paises'] = data['Country'] #Asignamos los mismos valores que el campo Country para que la modificacion de los datos sea mas rapida\n",
        "data['codigo'] = data['Country']\n",
        "\n",
        "data['paises'] = data['Country'].replace({'SP': 'ESPAÑA', 'CA': 'CANADA', 'US': 'ESTADOS UNIDOS', 'AUS': 'AUSTRALIA', 'GER': 'ALEMANIA', 'IND': 'INDIA', 'SA': 'SUDAFRICA', 'ME': 'MEXICO', })\n",
        "data['codigo'] = data['Country'].replace({'SP': '1', 'CA': '2', 'US': '3', 'AUS': '4', 'GER': '5', 'IND': '6', 'SA': '7', 'ME': '8'})\n",
        "data"
      ],
      "execution_count": 144,
      "outputs": [
        {
          "output_type": "execute_result",
          "data": {
            "text/html": [
              "<div>\n",
              "<style scoped>\n",
              "    .dataframe tbody tr th:only-of-type {\n",
              "        vertical-align: middle;\n",
              "    }\n",
              "\n",
              "    .dataframe tbody tr th {\n",
              "        vertical-align: top;\n",
              "    }\n",
              "\n",
              "    .dataframe thead th {\n",
              "        text-align: right;\n",
              "    }\n",
              "</style>\n",
              "<table border=\"1\" class=\"dataframe\">\n",
              "  <thead>\n",
              "    <tr style=\"text-align: right;\">\n",
              "      <th></th>\n",
              "      <th>ID</th>\n",
              "      <th>Year_Birth</th>\n",
              "      <th>Education</th>\n",
              "      <th>Marital_Status</th>\n",
              "      <th>Income</th>\n",
              "      <th>Kidhome</th>\n",
              "      <th>Teenhome</th>\n",
              "      <th>Dt_Customer</th>\n",
              "      <th>Recency</th>\n",
              "      <th>MntWines</th>\n",
              "      <th>MntFruits</th>\n",
              "      <th>MntMeatProducts</th>\n",
              "      <th>MntFishProducts</th>\n",
              "      <th>MntSweetProducts</th>\n",
              "      <th>MntGoldProds</th>\n",
              "      <th>NumDealsPurchases</th>\n",
              "      <th>NumWebPurchases</th>\n",
              "      <th>NumCatalogPurchases</th>\n",
              "      <th>NumStorePurchases</th>\n",
              "      <th>NumWebVisitsMonth</th>\n",
              "      <th>AcceptedCmp3</th>\n",
              "      <th>AcceptedCmp4</th>\n",
              "      <th>AcceptedCmp5</th>\n",
              "      <th>AcceptedCmp1</th>\n",
              "      <th>AcceptedCmp2</th>\n",
              "      <th>Response</th>\n",
              "      <th>Complain</th>\n",
              "      <th>Country</th>\n",
              "      <th>TotalPurchases</th>\n",
              "      <th>paises</th>\n",
              "      <th>codigo</th>\n",
              "    </tr>\n",
              "  </thead>\n",
              "  <tbody>\n",
              "    <tr>\n",
              "      <th>0</th>\n",
              "      <td>1826</td>\n",
              "      <td>1970</td>\n",
              "      <td>Graduation</td>\n",
              "      <td>Divorced</td>\n",
              "      <td>84835.0</td>\n",
              "      <td>0</td>\n",
              "      <td>0</td>\n",
              "      <td>6/16/14</td>\n",
              "      <td>0</td>\n",
              "      <td>189</td>\n",
              "      <td>104</td>\n",
              "      <td>379</td>\n",
              "      <td>111</td>\n",
              "      <td>189</td>\n",
              "      <td>218</td>\n",
              "      <td>1</td>\n",
              "      <td>4</td>\n",
              "      <td>4</td>\n",
              "      <td>6</td>\n",
              "      <td>1</td>\n",
              "      <td>0</td>\n",
              "      <td>0</td>\n",
              "      <td>0</td>\n",
              "      <td>0</td>\n",
              "      <td>0</td>\n",
              "      <td>1</td>\n",
              "      <td>0</td>\n",
              "      <td>SP</td>\n",
              "      <td>15</td>\n",
              "      <td>ESPAÑA</td>\n",
              "      <td>1</td>\n",
              "    </tr>\n",
              "    <tr>\n",
              "      <th>1</th>\n",
              "      <td>1</td>\n",
              "      <td>1961</td>\n",
              "      <td>Graduation</td>\n",
              "      <td>Single</td>\n",
              "      <td>57091.0</td>\n",
              "      <td>0</td>\n",
              "      <td>0</td>\n",
              "      <td>6/15/14</td>\n",
              "      <td>0</td>\n",
              "      <td>464</td>\n",
              "      <td>5</td>\n",
              "      <td>64</td>\n",
              "      <td>7</td>\n",
              "      <td>0</td>\n",
              "      <td>37</td>\n",
              "      <td>1</td>\n",
              "      <td>7</td>\n",
              "      <td>3</td>\n",
              "      <td>7</td>\n",
              "      <td>5</td>\n",
              "      <td>0</td>\n",
              "      <td>0</td>\n",
              "      <td>0</td>\n",
              "      <td>0</td>\n",
              "      <td>1</td>\n",
              "      <td>1</td>\n",
              "      <td>0</td>\n",
              "      <td>CA</td>\n",
              "      <td>18</td>\n",
              "      <td>CANADA</td>\n",
              "      <td>2</td>\n",
              "    </tr>\n",
              "    <tr>\n",
              "      <th>2</th>\n",
              "      <td>10476</td>\n",
              "      <td>1958</td>\n",
              "      <td>Graduation</td>\n",
              "      <td>Married</td>\n",
              "      <td>67267.0</td>\n",
              "      <td>0</td>\n",
              "      <td>1</td>\n",
              "      <td>5/13/14</td>\n",
              "      <td>0</td>\n",
              "      <td>134</td>\n",
              "      <td>11</td>\n",
              "      <td>59</td>\n",
              "      <td>15</td>\n",
              "      <td>2</td>\n",
              "      <td>30</td>\n",
              "      <td>1</td>\n",
              "      <td>3</td>\n",
              "      <td>2</td>\n",
              "      <td>5</td>\n",
              "      <td>2</td>\n",
              "      <td>0</td>\n",
              "      <td>0</td>\n",
              "      <td>0</td>\n",
              "      <td>0</td>\n",
              "      <td>0</td>\n",
              "      <td>0</td>\n",
              "      <td>0</td>\n",
              "      <td>US</td>\n",
              "      <td>11</td>\n",
              "      <td>ESTADOS UNIDOS</td>\n",
              "      <td>3</td>\n",
              "    </tr>\n",
              "    <tr>\n",
              "      <th>3</th>\n",
              "      <td>1386</td>\n",
              "      <td>1967</td>\n",
              "      <td>Graduation</td>\n",
              "      <td>Together</td>\n",
              "      <td>32474.0</td>\n",
              "      <td>1</td>\n",
              "      <td>1</td>\n",
              "      <td>5/11/14</td>\n",
              "      <td>0</td>\n",
              "      <td>10</td>\n",
              "      <td>0</td>\n",
              "      <td>1</td>\n",
              "      <td>0</td>\n",
              "      <td>0</td>\n",
              "      <td>0</td>\n",
              "      <td>1</td>\n",
              "      <td>1</td>\n",
              "      <td>0</td>\n",
              "      <td>2</td>\n",
              "      <td>7</td>\n",
              "      <td>0</td>\n",
              "      <td>0</td>\n",
              "      <td>0</td>\n",
              "      <td>0</td>\n",
              "      <td>0</td>\n",
              "      <td>0</td>\n",
              "      <td>0</td>\n",
              "      <td>AUS</td>\n",
              "      <td>4</td>\n",
              "      <td>AUSTRALIA</td>\n",
              "      <td>4</td>\n",
              "    </tr>\n",
              "    <tr>\n",
              "      <th>4</th>\n",
              "      <td>5371</td>\n",
              "      <td>1989</td>\n",
              "      <td>Graduation</td>\n",
              "      <td>Single</td>\n",
              "      <td>21474.0</td>\n",
              "      <td>1</td>\n",
              "      <td>0</td>\n",
              "      <td>4/8/14</td>\n",
              "      <td>0</td>\n",
              "      <td>6</td>\n",
              "      <td>16</td>\n",
              "      <td>24</td>\n",
              "      <td>11</td>\n",
              "      <td>0</td>\n",
              "      <td>34</td>\n",
              "      <td>2</td>\n",
              "      <td>3</td>\n",
              "      <td>1</td>\n",
              "      <td>2</td>\n",
              "      <td>7</td>\n",
              "      <td>1</td>\n",
              "      <td>0</td>\n",
              "      <td>0</td>\n",
              "      <td>0</td>\n",
              "      <td>0</td>\n",
              "      <td>1</td>\n",
              "      <td>0</td>\n",
              "      <td>SP</td>\n",
              "      <td>8</td>\n",
              "      <td>ESPAÑA</td>\n",
              "      <td>1</td>\n",
              "    </tr>\n",
              "    <tr>\n",
              "      <th>...</th>\n",
              "      <td>...</td>\n",
              "      <td>...</td>\n",
              "      <td>...</td>\n",
              "      <td>...</td>\n",
              "      <td>...</td>\n",
              "      <td>...</td>\n",
              "      <td>...</td>\n",
              "      <td>...</td>\n",
              "      <td>...</td>\n",
              "      <td>...</td>\n",
              "      <td>...</td>\n",
              "      <td>...</td>\n",
              "      <td>...</td>\n",
              "      <td>...</td>\n",
              "      <td>...</td>\n",
              "      <td>...</td>\n",
              "      <td>...</td>\n",
              "      <td>...</td>\n",
              "      <td>...</td>\n",
              "      <td>...</td>\n",
              "      <td>...</td>\n",
              "      <td>...</td>\n",
              "      <td>...</td>\n",
              "      <td>...</td>\n",
              "      <td>...</td>\n",
              "      <td>...</td>\n",
              "      <td>...</td>\n",
              "      <td>...</td>\n",
              "      <td>...</td>\n",
              "      <td>...</td>\n",
              "      <td>...</td>\n",
              "    </tr>\n",
              "    <tr>\n",
              "      <th>2235</th>\n",
              "      <td>10142</td>\n",
              "      <td>1976</td>\n",
              "      <td>PhD</td>\n",
              "      <td>Divorced</td>\n",
              "      <td>66476.0</td>\n",
              "      <td>0</td>\n",
              "      <td>1</td>\n",
              "      <td>3/7/13</td>\n",
              "      <td>99</td>\n",
              "      <td>372</td>\n",
              "      <td>18</td>\n",
              "      <td>126</td>\n",
              "      <td>47</td>\n",
              "      <td>48</td>\n",
              "      <td>78</td>\n",
              "      <td>2</td>\n",
              "      <td>5</td>\n",
              "      <td>2</td>\n",
              "      <td>11</td>\n",
              "      <td>4</td>\n",
              "      <td>0</td>\n",
              "      <td>0</td>\n",
              "      <td>0</td>\n",
              "      <td>0</td>\n",
              "      <td>0</td>\n",
              "      <td>0</td>\n",
              "      <td>0</td>\n",
              "      <td>US</td>\n",
              "      <td>20</td>\n",
              "      <td>ESTADOS UNIDOS</td>\n",
              "      <td>3</td>\n",
              "    </tr>\n",
              "    <tr>\n",
              "      <th>2236</th>\n",
              "      <td>5263</td>\n",
              "      <td>1977</td>\n",
              "      <td>2n Cycle</td>\n",
              "      <td>Married</td>\n",
              "      <td>31056.0</td>\n",
              "      <td>1</td>\n",
              "      <td>0</td>\n",
              "      <td>1/22/13</td>\n",
              "      <td>99</td>\n",
              "      <td>5</td>\n",
              "      <td>10</td>\n",
              "      <td>13</td>\n",
              "      <td>3</td>\n",
              "      <td>8</td>\n",
              "      <td>16</td>\n",
              "      <td>1</td>\n",
              "      <td>1</td>\n",
              "      <td>0</td>\n",
              "      <td>3</td>\n",
              "      <td>8</td>\n",
              "      <td>0</td>\n",
              "      <td>0</td>\n",
              "      <td>0</td>\n",
              "      <td>0</td>\n",
              "      <td>0</td>\n",
              "      <td>0</td>\n",
              "      <td>0</td>\n",
              "      <td>SP</td>\n",
              "      <td>5</td>\n",
              "      <td>ESPAÑA</td>\n",
              "      <td>1</td>\n",
              "    </tr>\n",
              "    <tr>\n",
              "      <th>2237</th>\n",
              "      <td>22</td>\n",
              "      <td>1976</td>\n",
              "      <td>Graduation</td>\n",
              "      <td>Divorced</td>\n",
              "      <td>46310.0</td>\n",
              "      <td>1</td>\n",
              "      <td>0</td>\n",
              "      <td>12/3/12</td>\n",
              "      <td>99</td>\n",
              "      <td>185</td>\n",
              "      <td>2</td>\n",
              "      <td>88</td>\n",
              "      <td>15</td>\n",
              "      <td>5</td>\n",
              "      <td>14</td>\n",
              "      <td>2</td>\n",
              "      <td>6</td>\n",
              "      <td>1</td>\n",
              "      <td>5</td>\n",
              "      <td>8</td>\n",
              "      <td>0</td>\n",
              "      <td>0</td>\n",
              "      <td>0</td>\n",
              "      <td>0</td>\n",
              "      <td>0</td>\n",
              "      <td>0</td>\n",
              "      <td>0</td>\n",
              "      <td>SP</td>\n",
              "      <td>14</td>\n",
              "      <td>ESPAÑA</td>\n",
              "      <td>1</td>\n",
              "    </tr>\n",
              "    <tr>\n",
              "      <th>2238</th>\n",
              "      <td>528</td>\n",
              "      <td>1978</td>\n",
              "      <td>Graduation</td>\n",
              "      <td>Married</td>\n",
              "      <td>65819.0</td>\n",
              "      <td>0</td>\n",
              "      <td>0</td>\n",
              "      <td>11/29/12</td>\n",
              "      <td>99</td>\n",
              "      <td>267</td>\n",
              "      <td>38</td>\n",
              "      <td>701</td>\n",
              "      <td>149</td>\n",
              "      <td>165</td>\n",
              "      <td>63</td>\n",
              "      <td>1</td>\n",
              "      <td>5</td>\n",
              "      <td>4</td>\n",
              "      <td>10</td>\n",
              "      <td>3</td>\n",
              "      <td>0</td>\n",
              "      <td>0</td>\n",
              "      <td>0</td>\n",
              "      <td>0</td>\n",
              "      <td>0</td>\n",
              "      <td>0</td>\n",
              "      <td>0</td>\n",
              "      <td>IND</td>\n",
              "      <td>20</td>\n",
              "      <td>INDIA</td>\n",
              "      <td>6</td>\n",
              "    </tr>\n",
              "    <tr>\n",
              "      <th>2239</th>\n",
              "      <td>4070</td>\n",
              "      <td>1969</td>\n",
              "      <td>PhD</td>\n",
              "      <td>Married</td>\n",
              "      <td>94871.0</td>\n",
              "      <td>0</td>\n",
              "      <td>2</td>\n",
              "      <td>9/1/12</td>\n",
              "      <td>99</td>\n",
              "      <td>169</td>\n",
              "      <td>24</td>\n",
              "      <td>553</td>\n",
              "      <td>188</td>\n",
              "      <td>0</td>\n",
              "      <td>144</td>\n",
              "      <td>1</td>\n",
              "      <td>8</td>\n",
              "      <td>5</td>\n",
              "      <td>4</td>\n",
              "      <td>7</td>\n",
              "      <td>0</td>\n",
              "      <td>1</td>\n",
              "      <td>1</td>\n",
              "      <td>0</td>\n",
              "      <td>0</td>\n",
              "      <td>1</td>\n",
              "      <td>0</td>\n",
              "      <td>CA</td>\n",
              "      <td>18</td>\n",
              "      <td>CANADA</td>\n",
              "      <td>2</td>\n",
              "    </tr>\n",
              "  </tbody>\n",
              "</table>\n",
              "<p>2240 rows × 31 columns</p>\n",
              "</div>"
            ],
            "text/plain": [
              "         ID  Year_Birth   Education  ... TotalPurchases          paises  codigo\n",
              "0      1826        1970  Graduation  ...             15          ESPAÑA       1\n",
              "1         1        1961  Graduation  ...             18          CANADA       2\n",
              "2     10476        1958  Graduation  ...             11  ESTADOS UNIDOS       3\n",
              "3      1386        1967  Graduation  ...              4       AUSTRALIA       4\n",
              "4      5371        1989  Graduation  ...              8          ESPAÑA       1\n",
              "...     ...         ...         ...  ...            ...             ...     ...\n",
              "2235  10142        1976         PhD  ...             20  ESTADOS UNIDOS       3\n",
              "2236   5263        1977    2n Cycle  ...              5          ESPAÑA       1\n",
              "2237     22        1976  Graduation  ...             14          ESPAÑA       1\n",
              "2238    528        1978  Graduation  ...             20           INDIA       6\n",
              "2239   4070        1969         PhD  ...             18          CANADA       2\n",
              "\n",
              "[2240 rows x 31 columns]"
            ]
          },
          "metadata": {},
          "execution_count": 144
        }
      ]
    },
    {
      "cell_type": "code",
      "metadata": {
        "id": "VXcVfEHyOM1v",
        "colab": {
          "base_uri": "https://localhost:8080/",
          "height": 479
        },
        "outputId": "85f02704-e88c-41a5-8b97-3e166262d0c1"
      },
      "source": [
        "#Para la columna Country le cambiamos los codigos, a un codigo general de los países\n",
        "data['Code_country'] = data['Country'].replace({'SP': 'ESP', 'CA': 'CAN', 'US': 'USA', 'SA': 'ZAF', 'ME': 'MEX'})\n",
        "data"
      ],
      "execution_count": 145,
      "outputs": [
        {
          "output_type": "execute_result",
          "data": {
            "text/html": [
              "<div>\n",
              "<style scoped>\n",
              "    .dataframe tbody tr th:only-of-type {\n",
              "        vertical-align: middle;\n",
              "    }\n",
              "\n",
              "    .dataframe tbody tr th {\n",
              "        vertical-align: top;\n",
              "    }\n",
              "\n",
              "    .dataframe thead th {\n",
              "        text-align: right;\n",
              "    }\n",
              "</style>\n",
              "<table border=\"1\" class=\"dataframe\">\n",
              "  <thead>\n",
              "    <tr style=\"text-align: right;\">\n",
              "      <th></th>\n",
              "      <th>ID</th>\n",
              "      <th>Year_Birth</th>\n",
              "      <th>Education</th>\n",
              "      <th>Marital_Status</th>\n",
              "      <th>Income</th>\n",
              "      <th>Kidhome</th>\n",
              "      <th>Teenhome</th>\n",
              "      <th>Dt_Customer</th>\n",
              "      <th>Recency</th>\n",
              "      <th>MntWines</th>\n",
              "      <th>MntFruits</th>\n",
              "      <th>MntMeatProducts</th>\n",
              "      <th>MntFishProducts</th>\n",
              "      <th>MntSweetProducts</th>\n",
              "      <th>MntGoldProds</th>\n",
              "      <th>NumDealsPurchases</th>\n",
              "      <th>NumWebPurchases</th>\n",
              "      <th>NumCatalogPurchases</th>\n",
              "      <th>NumStorePurchases</th>\n",
              "      <th>NumWebVisitsMonth</th>\n",
              "      <th>AcceptedCmp3</th>\n",
              "      <th>AcceptedCmp4</th>\n",
              "      <th>AcceptedCmp5</th>\n",
              "      <th>AcceptedCmp1</th>\n",
              "      <th>AcceptedCmp2</th>\n",
              "      <th>Response</th>\n",
              "      <th>Complain</th>\n",
              "      <th>Country</th>\n",
              "      <th>TotalPurchases</th>\n",
              "      <th>paises</th>\n",
              "      <th>codigo</th>\n",
              "      <th>Code_country</th>\n",
              "    </tr>\n",
              "  </thead>\n",
              "  <tbody>\n",
              "    <tr>\n",
              "      <th>0</th>\n",
              "      <td>1826</td>\n",
              "      <td>1970</td>\n",
              "      <td>Graduation</td>\n",
              "      <td>Divorced</td>\n",
              "      <td>84835.0</td>\n",
              "      <td>0</td>\n",
              "      <td>0</td>\n",
              "      <td>6/16/14</td>\n",
              "      <td>0</td>\n",
              "      <td>189</td>\n",
              "      <td>104</td>\n",
              "      <td>379</td>\n",
              "      <td>111</td>\n",
              "      <td>189</td>\n",
              "      <td>218</td>\n",
              "      <td>1</td>\n",
              "      <td>4</td>\n",
              "      <td>4</td>\n",
              "      <td>6</td>\n",
              "      <td>1</td>\n",
              "      <td>0</td>\n",
              "      <td>0</td>\n",
              "      <td>0</td>\n",
              "      <td>0</td>\n",
              "      <td>0</td>\n",
              "      <td>1</td>\n",
              "      <td>0</td>\n",
              "      <td>SP</td>\n",
              "      <td>15</td>\n",
              "      <td>ESPAÑA</td>\n",
              "      <td>1</td>\n",
              "      <td>ESP</td>\n",
              "    </tr>\n",
              "    <tr>\n",
              "      <th>1</th>\n",
              "      <td>1</td>\n",
              "      <td>1961</td>\n",
              "      <td>Graduation</td>\n",
              "      <td>Single</td>\n",
              "      <td>57091.0</td>\n",
              "      <td>0</td>\n",
              "      <td>0</td>\n",
              "      <td>6/15/14</td>\n",
              "      <td>0</td>\n",
              "      <td>464</td>\n",
              "      <td>5</td>\n",
              "      <td>64</td>\n",
              "      <td>7</td>\n",
              "      <td>0</td>\n",
              "      <td>37</td>\n",
              "      <td>1</td>\n",
              "      <td>7</td>\n",
              "      <td>3</td>\n",
              "      <td>7</td>\n",
              "      <td>5</td>\n",
              "      <td>0</td>\n",
              "      <td>0</td>\n",
              "      <td>0</td>\n",
              "      <td>0</td>\n",
              "      <td>1</td>\n",
              "      <td>1</td>\n",
              "      <td>0</td>\n",
              "      <td>CA</td>\n",
              "      <td>18</td>\n",
              "      <td>CANADA</td>\n",
              "      <td>2</td>\n",
              "      <td>CAN</td>\n",
              "    </tr>\n",
              "    <tr>\n",
              "      <th>2</th>\n",
              "      <td>10476</td>\n",
              "      <td>1958</td>\n",
              "      <td>Graduation</td>\n",
              "      <td>Married</td>\n",
              "      <td>67267.0</td>\n",
              "      <td>0</td>\n",
              "      <td>1</td>\n",
              "      <td>5/13/14</td>\n",
              "      <td>0</td>\n",
              "      <td>134</td>\n",
              "      <td>11</td>\n",
              "      <td>59</td>\n",
              "      <td>15</td>\n",
              "      <td>2</td>\n",
              "      <td>30</td>\n",
              "      <td>1</td>\n",
              "      <td>3</td>\n",
              "      <td>2</td>\n",
              "      <td>5</td>\n",
              "      <td>2</td>\n",
              "      <td>0</td>\n",
              "      <td>0</td>\n",
              "      <td>0</td>\n",
              "      <td>0</td>\n",
              "      <td>0</td>\n",
              "      <td>0</td>\n",
              "      <td>0</td>\n",
              "      <td>US</td>\n",
              "      <td>11</td>\n",
              "      <td>ESTADOS UNIDOS</td>\n",
              "      <td>3</td>\n",
              "      <td>USA</td>\n",
              "    </tr>\n",
              "    <tr>\n",
              "      <th>3</th>\n",
              "      <td>1386</td>\n",
              "      <td>1967</td>\n",
              "      <td>Graduation</td>\n",
              "      <td>Together</td>\n",
              "      <td>32474.0</td>\n",
              "      <td>1</td>\n",
              "      <td>1</td>\n",
              "      <td>5/11/14</td>\n",
              "      <td>0</td>\n",
              "      <td>10</td>\n",
              "      <td>0</td>\n",
              "      <td>1</td>\n",
              "      <td>0</td>\n",
              "      <td>0</td>\n",
              "      <td>0</td>\n",
              "      <td>1</td>\n",
              "      <td>1</td>\n",
              "      <td>0</td>\n",
              "      <td>2</td>\n",
              "      <td>7</td>\n",
              "      <td>0</td>\n",
              "      <td>0</td>\n",
              "      <td>0</td>\n",
              "      <td>0</td>\n",
              "      <td>0</td>\n",
              "      <td>0</td>\n",
              "      <td>0</td>\n",
              "      <td>AUS</td>\n",
              "      <td>4</td>\n",
              "      <td>AUSTRALIA</td>\n",
              "      <td>4</td>\n",
              "      <td>AUS</td>\n",
              "    </tr>\n",
              "    <tr>\n",
              "      <th>4</th>\n",
              "      <td>5371</td>\n",
              "      <td>1989</td>\n",
              "      <td>Graduation</td>\n",
              "      <td>Single</td>\n",
              "      <td>21474.0</td>\n",
              "      <td>1</td>\n",
              "      <td>0</td>\n",
              "      <td>4/8/14</td>\n",
              "      <td>0</td>\n",
              "      <td>6</td>\n",
              "      <td>16</td>\n",
              "      <td>24</td>\n",
              "      <td>11</td>\n",
              "      <td>0</td>\n",
              "      <td>34</td>\n",
              "      <td>2</td>\n",
              "      <td>3</td>\n",
              "      <td>1</td>\n",
              "      <td>2</td>\n",
              "      <td>7</td>\n",
              "      <td>1</td>\n",
              "      <td>0</td>\n",
              "      <td>0</td>\n",
              "      <td>0</td>\n",
              "      <td>0</td>\n",
              "      <td>1</td>\n",
              "      <td>0</td>\n",
              "      <td>SP</td>\n",
              "      <td>8</td>\n",
              "      <td>ESPAÑA</td>\n",
              "      <td>1</td>\n",
              "      <td>ESP</td>\n",
              "    </tr>\n",
              "    <tr>\n",
              "      <th>...</th>\n",
              "      <td>...</td>\n",
              "      <td>...</td>\n",
              "      <td>...</td>\n",
              "      <td>...</td>\n",
              "      <td>...</td>\n",
              "      <td>...</td>\n",
              "      <td>...</td>\n",
              "      <td>...</td>\n",
              "      <td>...</td>\n",
              "      <td>...</td>\n",
              "      <td>...</td>\n",
              "      <td>...</td>\n",
              "      <td>...</td>\n",
              "      <td>...</td>\n",
              "      <td>...</td>\n",
              "      <td>...</td>\n",
              "      <td>...</td>\n",
              "      <td>...</td>\n",
              "      <td>...</td>\n",
              "      <td>...</td>\n",
              "      <td>...</td>\n",
              "      <td>...</td>\n",
              "      <td>...</td>\n",
              "      <td>...</td>\n",
              "      <td>...</td>\n",
              "      <td>...</td>\n",
              "      <td>...</td>\n",
              "      <td>...</td>\n",
              "      <td>...</td>\n",
              "      <td>...</td>\n",
              "      <td>...</td>\n",
              "      <td>...</td>\n",
              "    </tr>\n",
              "    <tr>\n",
              "      <th>2235</th>\n",
              "      <td>10142</td>\n",
              "      <td>1976</td>\n",
              "      <td>PhD</td>\n",
              "      <td>Divorced</td>\n",
              "      <td>66476.0</td>\n",
              "      <td>0</td>\n",
              "      <td>1</td>\n",
              "      <td>3/7/13</td>\n",
              "      <td>99</td>\n",
              "      <td>372</td>\n",
              "      <td>18</td>\n",
              "      <td>126</td>\n",
              "      <td>47</td>\n",
              "      <td>48</td>\n",
              "      <td>78</td>\n",
              "      <td>2</td>\n",
              "      <td>5</td>\n",
              "      <td>2</td>\n",
              "      <td>11</td>\n",
              "      <td>4</td>\n",
              "      <td>0</td>\n",
              "      <td>0</td>\n",
              "      <td>0</td>\n",
              "      <td>0</td>\n",
              "      <td>0</td>\n",
              "      <td>0</td>\n",
              "      <td>0</td>\n",
              "      <td>US</td>\n",
              "      <td>20</td>\n",
              "      <td>ESTADOS UNIDOS</td>\n",
              "      <td>3</td>\n",
              "      <td>USA</td>\n",
              "    </tr>\n",
              "    <tr>\n",
              "      <th>2236</th>\n",
              "      <td>5263</td>\n",
              "      <td>1977</td>\n",
              "      <td>2n Cycle</td>\n",
              "      <td>Married</td>\n",
              "      <td>31056.0</td>\n",
              "      <td>1</td>\n",
              "      <td>0</td>\n",
              "      <td>1/22/13</td>\n",
              "      <td>99</td>\n",
              "      <td>5</td>\n",
              "      <td>10</td>\n",
              "      <td>13</td>\n",
              "      <td>3</td>\n",
              "      <td>8</td>\n",
              "      <td>16</td>\n",
              "      <td>1</td>\n",
              "      <td>1</td>\n",
              "      <td>0</td>\n",
              "      <td>3</td>\n",
              "      <td>8</td>\n",
              "      <td>0</td>\n",
              "      <td>0</td>\n",
              "      <td>0</td>\n",
              "      <td>0</td>\n",
              "      <td>0</td>\n",
              "      <td>0</td>\n",
              "      <td>0</td>\n",
              "      <td>SP</td>\n",
              "      <td>5</td>\n",
              "      <td>ESPAÑA</td>\n",
              "      <td>1</td>\n",
              "      <td>ESP</td>\n",
              "    </tr>\n",
              "    <tr>\n",
              "      <th>2237</th>\n",
              "      <td>22</td>\n",
              "      <td>1976</td>\n",
              "      <td>Graduation</td>\n",
              "      <td>Divorced</td>\n",
              "      <td>46310.0</td>\n",
              "      <td>1</td>\n",
              "      <td>0</td>\n",
              "      <td>12/3/12</td>\n",
              "      <td>99</td>\n",
              "      <td>185</td>\n",
              "      <td>2</td>\n",
              "      <td>88</td>\n",
              "      <td>15</td>\n",
              "      <td>5</td>\n",
              "      <td>14</td>\n",
              "      <td>2</td>\n",
              "      <td>6</td>\n",
              "      <td>1</td>\n",
              "      <td>5</td>\n",
              "      <td>8</td>\n",
              "      <td>0</td>\n",
              "      <td>0</td>\n",
              "      <td>0</td>\n",
              "      <td>0</td>\n",
              "      <td>0</td>\n",
              "      <td>0</td>\n",
              "      <td>0</td>\n",
              "      <td>SP</td>\n",
              "      <td>14</td>\n",
              "      <td>ESPAÑA</td>\n",
              "      <td>1</td>\n",
              "      <td>ESP</td>\n",
              "    </tr>\n",
              "    <tr>\n",
              "      <th>2238</th>\n",
              "      <td>528</td>\n",
              "      <td>1978</td>\n",
              "      <td>Graduation</td>\n",
              "      <td>Married</td>\n",
              "      <td>65819.0</td>\n",
              "      <td>0</td>\n",
              "      <td>0</td>\n",
              "      <td>11/29/12</td>\n",
              "      <td>99</td>\n",
              "      <td>267</td>\n",
              "      <td>38</td>\n",
              "      <td>701</td>\n",
              "      <td>149</td>\n",
              "      <td>165</td>\n",
              "      <td>63</td>\n",
              "      <td>1</td>\n",
              "      <td>5</td>\n",
              "      <td>4</td>\n",
              "      <td>10</td>\n",
              "      <td>3</td>\n",
              "      <td>0</td>\n",
              "      <td>0</td>\n",
              "      <td>0</td>\n",
              "      <td>0</td>\n",
              "      <td>0</td>\n",
              "      <td>0</td>\n",
              "      <td>0</td>\n",
              "      <td>IND</td>\n",
              "      <td>20</td>\n",
              "      <td>INDIA</td>\n",
              "      <td>6</td>\n",
              "      <td>IND</td>\n",
              "    </tr>\n",
              "    <tr>\n",
              "      <th>2239</th>\n",
              "      <td>4070</td>\n",
              "      <td>1969</td>\n",
              "      <td>PhD</td>\n",
              "      <td>Married</td>\n",
              "      <td>94871.0</td>\n",
              "      <td>0</td>\n",
              "      <td>2</td>\n",
              "      <td>9/1/12</td>\n",
              "      <td>99</td>\n",
              "      <td>169</td>\n",
              "      <td>24</td>\n",
              "      <td>553</td>\n",
              "      <td>188</td>\n",
              "      <td>0</td>\n",
              "      <td>144</td>\n",
              "      <td>1</td>\n",
              "      <td>8</td>\n",
              "      <td>5</td>\n",
              "      <td>4</td>\n",
              "      <td>7</td>\n",
              "      <td>0</td>\n",
              "      <td>1</td>\n",
              "      <td>1</td>\n",
              "      <td>0</td>\n",
              "      <td>0</td>\n",
              "      <td>1</td>\n",
              "      <td>0</td>\n",
              "      <td>CA</td>\n",
              "      <td>18</td>\n",
              "      <td>CANADA</td>\n",
              "      <td>2</td>\n",
              "      <td>CAN</td>\n",
              "    </tr>\n",
              "  </tbody>\n",
              "</table>\n",
              "<p>2240 rows × 32 columns</p>\n",
              "</div>"
            ],
            "text/plain": [
              "         ID  Year_Birth   Education  ...          paises  codigo  Code_country\n",
              "0      1826        1970  Graduation  ...          ESPAÑA       1           ESP\n",
              "1         1        1961  Graduation  ...          CANADA       2           CAN\n",
              "2     10476        1958  Graduation  ...  ESTADOS UNIDOS       3           USA\n",
              "3      1386        1967  Graduation  ...       AUSTRALIA       4           AUS\n",
              "4      5371        1989  Graduation  ...          ESPAÑA       1           ESP\n",
              "...     ...         ...         ...  ...             ...     ...           ...\n",
              "2235  10142        1976         PhD  ...  ESTADOS UNIDOS       3           USA\n",
              "2236   5263        1977    2n Cycle  ...          ESPAÑA       1           ESP\n",
              "2237     22        1976  Graduation  ...          ESPAÑA       1           ESP\n",
              "2238    528        1978  Graduation  ...           INDIA       6           IND\n",
              "2239   4070        1969         PhD  ...          CANADA       2           CAN\n",
              "\n",
              "[2240 rows x 32 columns]"
            ]
          },
          "metadata": {},
          "execution_count": 145
        }
      ]
    },
    {
      "cell_type": "code",
      "metadata": {
        "id": "XfW9nf3_cygU"
      },
      "source": [
        "#Agrupamos por los paises, pero tambien por el producto que se desea saber la cantidad de compras\n",
        "vino = data.groupby('paises').MntWines.sum()\n",
        "fruta = data.groupby('paises').MntFruits.sum()\n",
        "carne = data.groupby('paises').MntMeatProducts.sum()\n",
        "pescado = data.groupby('paises').MntFishProducts.sum()\n",
        "dulce = data.groupby('paises').MntSweetProducts.sum()\n",
        "oro = data.groupby('paises').MntGoldProds.sum()"
      ],
      "execution_count": 162,
      "outputs": []
    },
    {
      "cell_type": "code",
      "metadata": {
        "id": "qLfc38b_hS9P",
        "colab": {
          "base_uri": "https://localhost:8080/",
          "height": 300
        },
        "outputId": "2343521b-9d6f-40b9-8d00-cc3dc40fb99b"
      },
      "source": [
        "#Llenamos el DataFrame compra por los valores de los paises con los diferentes valores de las compras\n",
        "compra = pd.DataFrame()\n",
        "compra['paises'] = [\"ALEMANIA\", \"AUSTRALIA\", \"CANADA\", \"ESPAÑA\", \"EEUU\", \"INDIA\", \"MEXICO\", \"SUDAFRICA\"]\n",
        "compra['Wine'] = [vino[0], vino[1], vino[2], vino[3], vino[4], vino[5], vino[6], vino[7]]\n",
        "compra['Fruit'] = [fruta[0], fruta[1], fruta[2], fruta[3], fruta[4], fruta[5], fruta[6], fruta[7]]\n",
        "compra['Meat'] = [carne[0], carne[1], carne[2], carne[3], carne[4], carne[5], carne[6], carne[7]]\n",
        "compra['Fish'] = [pescado[0], pescado[1], pescado[2], pescado[3], pescado[4], pescado[5], pescado[6], pescado[7]]\n",
        "compra['Sweet'] = [dulce[0], dulce[1], dulce[2], dulce[3], dulce[4], dulce[5], dulce[6], dulce[7]]\n",
        "compra['Gold'] = [oro[0], oro[1], oro[2], oro[3], oro[4], oro[5], oro[6], oro[7]]\n",
        "compra"
      ],
      "execution_count": 163,
      "outputs": [
        {
          "output_type": "execute_result",
          "data": {
            "text/html": [
              "<div>\n",
              "<style scoped>\n",
              "    .dataframe tbody tr th:only-of-type {\n",
              "        vertical-align: middle;\n",
              "    }\n",
              "\n",
              "    .dataframe tbody tr th {\n",
              "        vertical-align: top;\n",
              "    }\n",
              "\n",
              "    .dataframe thead th {\n",
              "        text-align: right;\n",
              "    }\n",
              "</style>\n",
              "<table border=\"1\" class=\"dataframe\">\n",
              "  <thead>\n",
              "    <tr style=\"text-align: right;\">\n",
              "      <th></th>\n",
              "      <th>paises</th>\n",
              "      <th>Wine</th>\n",
              "      <th>Fruit</th>\n",
              "      <th>Meat</th>\n",
              "      <th>Fish</th>\n",
              "      <th>Sweet</th>\n",
              "      <th>Gold</th>\n",
              "    </tr>\n",
              "  </thead>\n",
              "  <tbody>\n",
              "    <tr>\n",
              "      <th>0</th>\n",
              "      <td>ALEMANIA</td>\n",
              "      <td>37483</td>\n",
              "      <td>3062</td>\n",
              "      <td>20874</td>\n",
              "      <td>4767</td>\n",
              "      <td>2870</td>\n",
              "      <td>5857</td>\n",
              "    </tr>\n",
              "    <tr>\n",
              "      <th>1</th>\n",
              "      <td>AUSTRALIA</td>\n",
              "      <td>44372</td>\n",
              "      <td>3884</td>\n",
              "      <td>23097</td>\n",
              "      <td>5834</td>\n",
              "      <td>4608</td>\n",
              "      <td>7968</td>\n",
              "    </tr>\n",
              "    <tr>\n",
              "      <th>2</th>\n",
              "      <td>CANADA</td>\n",
              "      <td>84649</td>\n",
              "      <td>7746</td>\n",
              "      <td>46148</td>\n",
              "      <td>10028</td>\n",
              "      <td>7678</td>\n",
              "      <td>12283</td>\n",
              "    </tr>\n",
              "    <tr>\n",
              "      <th>3</th>\n",
              "      <td>ESPAÑA</td>\n",
              "      <td>337236</td>\n",
              "      <td>28302</td>\n",
              "      <td>178480</td>\n",
              "      <td>40161</td>\n",
              "      <td>30150</td>\n",
              "      <td>46038</td>\n",
              "    </tr>\n",
              "    <tr>\n",
              "      <th>4</th>\n",
              "      <td>EEUU</td>\n",
              "      <td>32406</td>\n",
              "      <td>3044</td>\n",
              "      <td>20256</td>\n",
              "      <td>4437</td>\n",
              "      <td>2885</td>\n",
              "      <td>4854</td>\n",
              "    </tr>\n",
              "    <tr>\n",
              "      <th>5</th>\n",
              "      <td>INDIA</td>\n",
              "      <td>36253</td>\n",
              "      <td>3784</td>\n",
              "      <td>25328</td>\n",
              "      <td>4823</td>\n",
              "      <td>3221</td>\n",
              "      <td>6011</td>\n",
              "    </tr>\n",
              "    <tr>\n",
              "      <th>6</th>\n",
              "      <td>MEXICO</td>\n",
              "      <td>1729</td>\n",
              "      <td>8</td>\n",
              "      <td>817</td>\n",
              "      <td>226</td>\n",
              "      <td>122</td>\n",
              "      <td>220</td>\n",
              "    </tr>\n",
              "    <tr>\n",
              "      <th>7</th>\n",
              "      <td>SUDAFRICA</td>\n",
              "      <td>105910</td>\n",
              "      <td>8937</td>\n",
              "      <td>58393</td>\n",
              "      <td>13663</td>\n",
              "      <td>9019</td>\n",
              "      <td>15127</td>\n",
              "    </tr>\n",
              "  </tbody>\n",
              "</table>\n",
              "</div>"
            ],
            "text/plain": [
              "      paises    Wine  Fruit    Meat   Fish  Sweet   Gold\n",
              "0   ALEMANIA   37483   3062   20874   4767   2870   5857\n",
              "1  AUSTRALIA   44372   3884   23097   5834   4608   7968\n",
              "2     CANADA   84649   7746   46148  10028   7678  12283\n",
              "3     ESPAÑA  337236  28302  178480  40161  30150  46038\n",
              "4       EEUU   32406   3044   20256   4437   2885   4854\n",
              "5      INDIA   36253   3784   25328   4823   3221   6011\n",
              "6     MEXICO    1729      8     817    226    122    220\n",
              "7  SUDAFRICA  105910   8937   58393  13663   9019  15127"
            ]
          },
          "metadata": {},
          "execution_count": 163
        }
      ]
    },
    {
      "cell_type": "code",
      "metadata": {
        "colab": {
          "base_uri": "https://localhost:8080/",
          "height": 893
        },
        "id": "FqkXHLIDwTMM",
        "outputId": "9b9f569e-5789-49dc-8b56-ee19bd7e79fb"
      },
      "source": [
        "#Creamos 6 graficas que son las cantidades de productos que ofrece la tienda\n",
        "fig = plt.figure(figsize=(15,15))\n",
        "fig.tight_layout()\n",
        "colores = ['blue', 'green', 'red', 'cyan', 'magenta', 'yellow', 'purple', 'white']\n",
        "product = ['VINO', 'FRUTA', 'CARNE', 'PESCADO', 'DULCE', 'ORO']\n",
        "\n",
        "for i in range(1,7):\n",
        "  x = [\"ALEMANIA\", \"AUSTRALIA\", \"CANADA\", \"ESPAÑA\", \"EEUU\", \"INDIA\", \"MEXICO\", \"SUDAFRICA\"]\n",
        "  if i == 1:\n",
        "    y = compra['Wine']\n",
        "  elif i == 2:\n",
        "    y = compra['Fruit']\n",
        "  elif i == 3:\n",
        "    y = compra['Meat']\n",
        "  elif i == 4:\n",
        "    y = compra['Fish']\n",
        "  elif i == 5:\n",
        "    y = compra['Sweet']\n",
        "  elif i == 6:\n",
        "    y = compra['Gold']\n",
        "  ax = plt.subplot(3,2,i)\n",
        "  ax.plot(x,y,color=colores[i])\n",
        "  ax.set_xlabel('Paises')\n",
        "  ax.set_ylabel('Cantidad de compras')\n",
        "  ax.set_title('Grafica sobre el consumo de ' + str(product[i-1]))"
      ],
      "execution_count": 148,
      "outputs": [
        {
          "output_type": "display_data",
          "data": {
            "image/png": "[encoded data removed]",
            "text/plain": [
              "<Figure size 1080x1080 with 6 Axes>"
            ]
          },
          "metadata": {
            "needs_background": "light"
          }
        }
      ]
    },
    {
      "cell_type": "markdown",
      "metadata": {
        "id": "xsiTLFN6m5lV"
      },
      "source": [
        "Cuando analizamos las graficas, nos damos cuenta que son muy parecidas entre todas, pero no nos indican bien, que producto es el que más se vende, pero ya podemos determinar que el país que compra más los productos de la tienda es España"
      ]
    },
    {
      "cell_type": "code",
      "metadata": {
        "colab": {
          "base_uri": "https://localhost:8080/",
          "height": 313
        },
        "id": "ID8SOqe9FoYU",
        "outputId": "86f2bdd7-7962-4d56-dd50-23c646822ef4"
      },
      "source": [
        "#Creamos la grafica\n",
        "y = compra['Wine']\n",
        "y2 = compra['Fruit']\n",
        "y3 = compra['Meat']\n",
        "y4 = compra['Fish']\n",
        "y5 = compra['Sweet']\n",
        "y6 = compra['Gold']\n",
        "x = [\"Alemania\", \"Australia\", \"Canada\", \"España\", \"EEUU\", \"India\", \"Mexico\", \"Sudafrica\"]\n",
        "plt.plot(x,y,label='Vino', linewidth = 1, color='blue', marker = \"o\")\n",
        "plt.plot(x,y2, label='Fruta',linewidth= 1, color='green', marker = \"o\")\n",
        "plt.plot(x,y3,label='Carne', linewidth = 1, color='cyan', marker = \"o\")\n",
        "plt.plot(x,y4, label='Pescado',linewidth= 1, color='purple', marker = \"o\")\n",
        "plt.plot(x,y5,label='Dulce', linewidth = 1, color='red', marker = \"o\")\n",
        "plt.plot(x,y6, label='Oro',linewidth= 1, color='blue', marker = \"o\")\n",
        "plt.title(\"Cantidad de productos vendidos en los diferentes paises\")\n",
        "plt.ylabel(\"Cantidad de productos\")\n",
        "plt.xlabel(\"Paises\")\n",
        "plt.legend()"
      ],
      "execution_count": 201,
      "outputs": [
        {
          "output_type": "execute_result",
          "data": {
            "text/plain": [
              "<matplotlib.legend.Legend at 0x7f0db4005950>"
            ]
          },
          "metadata": {},
          "execution_count": 201
        },
        {
          "output_type": "display_data",
          "data": {
            "image/png": "[encoded data removed]",
            "text/plain": [
              "<Figure size 432x288 with 1 Axes>"
            ]
          },
          "metadata": {
            "needs_background": "light"
          }
        }
      ]
    },
    {
      "cell_type": "markdown",
      "metadata": {
        "id": "X-1FspM6nKnZ"
      },
      "source": [
        "Ya identificamos que el producto que más se vende en la tienda es el vino y que el país que más le compra productos es España"
      ]
    },
    {
      "cell_type": "code",
      "metadata": {
        "colab": {
          "base_uri": "https://localhost:8080/",
          "height": 300
        },
        "id": "1kcCxgbekrz_",
        "outputId": "ec92d924-c4d2-4dce-e60d-0c21b6b615cd"
      },
      "source": [
        "#Necesitamos agrupar los paises y sacar el número de compras\n",
        "df_compras = data.groupby(['codigo', 'Code_country'])['TotalPurchases'].sum()\n",
        "#Pasamos los datos a una lista\n",
        "lista = [list(key) + [str(value)] for key, value in  df_compras.to_dict().items()]\n",
        "#Pasamos los datos a un dataframe\n",
        "df_compras = pd.DataFrame()\n",
        "for x in lista:\n",
        "  agregar = {}\n",
        "  agregar = {\"Pais\" : x[0], \"Codigo\": x[1], \"Total_compras\": x[2]}\n",
        "  df_compras = df_compras.append(agregar, ignore_index=True)\n",
        "df_compras['Pais'] = df_compras['Pais'].replace({'1':'ESPAÑA', '2':'CANADA', '3':'ESTADOS UNIDOS', '4':'AUSTRALIA', '5':'ALEMANIA', '6':'INDIA', '7':'SUDAFRICA', '8':'MEXICO'})\n",
        "df_compras"
      ],
      "execution_count": 150,
      "outputs": [
        {
          "output_type": "execute_result",
          "data": {
            "text/html": [
              "<div>\n",
              "<style scoped>\n",
              "    .dataframe tbody tr th:only-of-type {\n",
              "        vertical-align: middle;\n",
              "    }\n",
              "\n",
              "    .dataframe tbody tr th {\n",
              "        vertical-align: top;\n",
              "    }\n",
              "\n",
              "    .dataframe thead th {\n",
              "        text-align: right;\n",
              "    }\n",
              "</style>\n",
              "<table border=\"1\" class=\"dataframe\">\n",
              "  <thead>\n",
              "    <tr style=\"text-align: right;\">\n",
              "      <th></th>\n",
              "      <th>Codigo</th>\n",
              "      <th>Pais</th>\n",
              "      <th>Total_compras</th>\n",
              "    </tr>\n",
              "  </thead>\n",
              "  <tbody>\n",
              "    <tr>\n",
              "      <th>0</th>\n",
              "      <td>ESP</td>\n",
              "      <td>ESPAÑA</td>\n",
              "      <td>16052</td>\n",
              "    </tr>\n",
              "    <tr>\n",
              "      <th>1</th>\n",
              "      <td>CAN</td>\n",
              "      <td>CANADA</td>\n",
              "      <td>4101</td>\n",
              "    </tr>\n",
              "    <tr>\n",
              "      <th>2</th>\n",
              "      <td>USA</td>\n",
              "      <td>ESTADOS UNIDOS</td>\n",
              "      <td>1761</td>\n",
              "    </tr>\n",
              "    <tr>\n",
              "      <th>3</th>\n",
              "      <td>AUS</td>\n",
              "      <td>AUSTRALIA</td>\n",
              "      <td>2314</td>\n",
              "    </tr>\n",
              "    <tr>\n",
              "      <th>4</th>\n",
              "      <td>GER</td>\n",
              "      <td>ALEMANIA</td>\n",
              "      <td>1788</td>\n",
              "    </tr>\n",
              "    <tr>\n",
              "      <th>5</th>\n",
              "      <td>IND</td>\n",
              "      <td>INDIA</td>\n",
              "      <td>2099</td>\n",
              "    </tr>\n",
              "    <tr>\n",
              "      <th>6</th>\n",
              "      <td>ZAF</td>\n",
              "      <td>SUDAFRICA</td>\n",
              "      <td>5117</td>\n",
              "    </tr>\n",
              "    <tr>\n",
              "      <th>7</th>\n",
              "      <td>MEX</td>\n",
              "      <td>MEXICO</td>\n",
              "      <td>59</td>\n",
              "    </tr>\n",
              "  </tbody>\n",
              "</table>\n",
              "</div>"
            ],
            "text/plain": [
              "  Codigo            Pais Total_compras\n",
              "0    ESP          ESPAÑA         16052\n",
              "1    CAN          CANADA          4101\n",
              "2    USA  ESTADOS UNIDOS          1761\n",
              "3    AUS       AUSTRALIA          2314\n",
              "4    GER        ALEMANIA          1788\n",
              "5    IND           INDIA          2099\n",
              "6    ZAF       SUDAFRICA          5117\n",
              "7    MEX          MEXICO            59"
            ]
          },
          "metadata": {},
          "execution_count": 150
        }
      ]
    },
    {
      "cell_type": "code",
      "metadata": {
        "colab": {
          "base_uri": "https://localhost:8080/",
          "height": 542
        },
        "id": "Qm6FrXmuwwmg",
        "outputId": "914b4c85-acd8-4769-d303-b774787ad947"
      },
      "source": [
        "# Creacion del mapa\n",
        "fig = px.choropleth(df_compras, locationmode='ISO-3', color ='Total_compras', hover_name=\"Pais\",\n",
        "                    locations='Codigo', projection='natural earth', title='Número total de compra por país'\n",
        "                   )\n",
        "fig.show()"
      ],
      "execution_count": 151,
      "outputs": [
        {
          "output_type": "display_data",
          "data": {
            "text/html": [
              "<html>\n",
              "<head><meta charset=\"utf-8\" /></head>\n",
              "<body>\n",
              "    <div>            <script src=\"https://cdnjs.cloudflare.com/ajax/libs/mathjax/2.7.5/MathJax.js?config=TeX-AMS-MML_SVG\"></script><script type=\"text/javascript\">if (window.MathJax) {MathJax.Hub.Config({SVG: {font: \"STIX-Web\"}});}</script>                <script type=\"text/javascript\">window.PlotlyConfig = {MathJaxConfig: 'local'};</script>\n",
              "        <script src=\"https://cdn.plot.ly/plotly-2.6.3.min.js\"></script>                <div id=\"b9644994-bdcb-4a76-848c-a384d68c90ba\" class=\"plotly-graph-div\" style=\"height:525px; width:100%;\"></div>            <script type=\"text/javascript\">                                    window.PLOTLYENV=window.PLOTLYENV || {};                                    if (document.getElementById(\"b9644994-bdcb-4a76-848c-a384d68c90ba\")) {                    Plotly.newPlot(                        \"b9644994-bdcb-4a76-848c-a384d68c90ba\",                        [{\"colorscale\":[[0.0,\"#636efa\"],[1.0,\"#636efa\"]],\"geo\":\"geo\",\"hovertemplate\":\"<b>%{hovertext}</b><br><br>Total_compras=16052<br>Codigo=%{location}<extra></extra>\",\"hovertext\":[\"ESPA\\u00d1A\"],\"locationmode\":\"ISO-3\",\"locations\":[\"ESP\"],\"name\":\"16052\",\"showlegend\":true,\"showscale\":false,\"z\":[1],\"type\":\"choropleth\"},{\"colorscale\":[[0.0,\"#EF553B\"],[1.0,\"#EF553B\"]],\"geo\":\"geo\",\"hovertemplate\":\"<b>%{hovertext}</b><br><br>Total_compras=4101<br>Codigo=%{location}<extra></extra>\",\"hovertext\":[\"CANADA\"],\"locationmode\":\"ISO-3\",\"locations\":[\"CAN\"],\"name\":\"4101\",\"showlegend\":true,\"showscale\":false,\"z\":[1],\"type\":\"choropleth\"},{\"colorscale\":[[0.0,\"#00cc96\"],[1.0,\"#00cc96\"]],\"geo\":\"geo\",\"hovertemplate\":\"<b>%{hovertext}</b><br><br>Total_compras=1761<br>Codigo=%{location}<extra></extra>\",\"hovertext\":[\"ESTADOS UNIDOS\"],\"locationmode\":\"ISO-3\",\"locations\":[\"USA\"],\"name\":\"1761\",\"showlegend\":true,\"showscale\":false,\"z\":[1],\"type\":\"choropleth\"},{\"colorscale\":[[0.0,\"#ab63fa\"],[1.0,\"#ab63fa\"]],\"geo\":\"geo\",\"hovertemplate\":\"<b>%{hovertext}</b><br><br>Total_compras=2314<br>Codigo=%{location}<extra></extra>\",\"hovertext\":[\"AUSTRALIA\"],\"locationmode\":\"ISO-3\",\"locations\":[\"AUS\"],\"name\":\"2314\",\"showlegend\":true,\"showscale\":false,\"z\":[1],\"type\":\"choropleth\"},{\"colorscale\":[[0.0,\"#FFA15A\"],[1.0,\"#FFA15A\"]],\"geo\":\"geo\",\"hovertemplate\":\"<b>%{hovertext}</b><br><br>Total_compras=1788<br>Codigo=%{location}<extra></extra>\",\"hovertext\":[\"ALEMANIA\"],\"locationmode\":\"ISO-3\",\"locations\":[\"GER\"],\"name\":\"1788\",\"showlegend\":true,\"showscale\":false,\"z\":[1],\"type\":\"choropleth\"},{\"colorscale\":[[0.0,\"#19d3f3\"],[1.0,\"#19d3f3\"]],\"geo\":\"geo\",\"hovertemplate\":\"<b>%{hovertext}</b><br><br>Total_compras=2099<br>Codigo=%{location}<extra></extra>\",\"hovertext\":[\"INDIA\"],\"locationmode\":\"ISO-3\",\"locations\":[\"IND\"],\"name\":\"2099\",\"showlegend\":true,\"showscale\":false,\"z\":[1],\"type\":\"choropleth\"},{\"colorscale\":[[0.0,\"#FF6692\"],[1.0,\"#FF6692\"]],\"geo\":\"geo\",\"hovertemplate\":\"<b>%{hovertext}</b><br><br>Total_compras=5117<br>Codigo=%{location}<extra></extra>\",\"hovertext\":[\"SUDAFRICA\"],\"locationmode\":\"ISO-3\",\"locations\":[\"ZAF\"],\"name\":\"5117\",\"showlegend\":true,\"showscale\":false,\"z\":[1],\"type\":\"choropleth\"},{\"colorscale\":[[0.0,\"#B6E880\"],[1.0,\"#B6E880\"]],\"geo\":\"geo\",\"hovertemplate\":\"<b>%{hovertext}</b><br><br>Total_compras=59<br>Codigo=%{location}<extra></extra>\",\"hovertext\":[\"MEXICO\"],\"locationmode\":\"ISO-3\",\"locations\":[\"MEX\"],\"name\":\"59\",\"showlegend\":true,\"showscale\":false,\"z\":[1],\"type\":\"choropleth\"}],                        {\"template\":{\"data\":{\"bar\":[{\"error_x\":{\"color\":\"#2a3f5f\"},\"error_y\":{\"color\":\"#2a3f5f\"},\"marker\":{\"line\":{\"color\":\"#E5ECF6\",\"width\":0.5},\"pattern\":{\"fillmode\":\"overlay\",\"size\":10,\"solidity\":0.2}},\"type\":\"bar\"}],\"barpolar\":[{\"marker\":{\"line\":{\"color\":\"#E5ECF6\",\"width\":0.5},\"pattern\":{\"fillmode\":\"overlay\",\"size\":10,\"solidity\":0.2}},\"type\":\"barpolar\"}],\"carpet\":[{\"aaxis\":{\"endlinecolor\":\"#2a3f5f\",\"gridcolor\":\"white\",\"linecolor\":\"white\",\"minorgridcolor\":\"white\",\"startlinecolor\":\"#2a3f5f\"},\"baxis\":{\"endlinecolor\":\"#2a3f5f\",\"gridcolor\":\"white\",\"linecolor\":\"white\",\"minorgridcolor\":\"white\",\"startlinecolor\":\"#2a3f5f\"},\"type\":\"carpet\"}],\"choropleth\":[{\"colorbar\":{\"outlinewidth\":0,\"ticks\":\"\"},\"type\":\"choropleth\"}],\"contour\":[{\"colorbar\":{\"outlinewidth\":0,\"ticks\":\"\"},\"colorscale\":[[0.0,\"#0d0887\"],[0.1111111111111111,\"#46039f\"],[0.2222222222222222,\"#7201a8\"],[0.3333333333333333,\"#9c179e\"],[0.4444444444444444,\"#bd3786\"],[0.5555555555555556,\"#d8576b\"],[0.6666666666666666,\"#ed7953\"],[0.7777777777777778,\"#fb9f3a\"],[0.8888888888888888,\"#fdca26\"],[1.0,\"#f0f921\"]],\"type\":\"contour\"}],\"contourcarpet\":[{\"colorbar\":{\"outlinewidth\":0,\"ticks\":\"\"},\"type\":\"contourcarpet\"}],\"heatmap\":[{\"colorbar\":{\"outlinewidth\":0,\"ticks\":\"\"},\"colorscale\":[[0.0,\"#0d0887\"],[0.1111111111111111,\"#46039f\"],[0.2222222222222222,\"#7201a8\"],[0.3333333333333333,\"#9c179e\"],[0.4444444444444444,\"#bd3786\"],[0.5555555555555556,\"#d8576b\"],[0.6666666666666666,\"#ed7953\"],[0.7777777777777778,\"#fb9f3a\"],[0.8888888888888888,\"#fdca26\"],[1.0,\"#f0f921\"]],\"type\":\"heatmap\"}],\"heatmapgl\":[{\"colorbar\":{\"outlinewidth\":0,\"ticks\":\"\"},\"colorscale\":[[0.0,\"#0d0887\"],[0.1111111111111111,\"#46039f\"],[0.2222222222222222,\"#7201a8\"],[0.3333333333333333,\"#9c179e\"],[0.4444444444444444,\"#bd3786\"],[0.5555555555555556,\"#d8576b\"],[0.6666666666666666,\"#ed7953\"],[0.7777777777777778,\"#fb9f3a\"],[0.8888888888888888,\"#fdca26\"],[1.0,\"#f0f921\"]],\"type\":\"heatmapgl\"}],\"histogram\":[{\"marker\":{\"pattern\":{\"fillmode\":\"overlay\",\"size\":10,\"solidity\":0.2}},\"type\":\"histogram\"}],\"histogram2d\":[{\"colorbar\":{\"outlinewidth\":0,\"ticks\":\"\"},\"colorscale\":[[0.0,\"#0d0887\"],[0.1111111111111111,\"#46039f\"],[0.2222222222222222,\"#7201a8\"],[0.3333333333333333,\"#9c179e\"],[0.4444444444444444,\"#bd3786\"],[0.5555555555555556,\"#d8576b\"],[0.6666666666666666,\"#ed7953\"],[0.7777777777777778,\"#fb9f3a\"],[0.8888888888888888,\"#fdca26\"],[1.0,\"#f0f921\"]],\"type\":\"histogram2d\"}],\"histogram2dcontour\":[{\"colorbar\":{\"outlinewidth\":0,\"ticks\":\"\"},\"colorscale\":[[0.0,\"#0d0887\"],[0.1111111111111111,\"#46039f\"],[0.2222222222222222,\"#7201a8\"],[0.3333333333333333,\"#9c179e\"],[0.4444444444444444,\"#bd3786\"],[0.5555555555555556,\"#d8576b\"],[0.6666666666666666,\"#ed7953\"],[0.7777777777777778,\"#fb9f3a\"],[0.8888888888888888,\"#fdca26\"],[1.0,\"#f0f921\"]],\"type\":\"histogram2dcontour\"}],\"mesh3d\":[{\"colorbar\":{\"outlinewidth\":0,\"ticks\":\"\"},\"type\":\"mesh3d\"}],\"parcoords\":[{\"line\":{\"colorbar\":{\"outlinewidth\":0,\"ticks\":\"\"}},\"type\":\"parcoords\"}],\"pie\":[{\"automargin\":true,\"type\":\"pie\"}],\"scatter\":[{\"marker\":{\"colorbar\":{\"outlinewidth\":0,\"ticks\":\"\"}},\"type\":\"scatter\"}],\"scatter3d\":[{\"line\":{\"colorbar\":{\"outlinewidth\":0,\"ticks\":\"\"}},\"marker\":{\"colorbar\":{\"outlinewidth\":0,\"ticks\":\"\"}},\"type\":\"scatter3d\"}],\"scattercarpet\":[{\"marker\":{\"colorbar\":{\"outlinewidth\":0,\"ticks\":\"\"}},\"type\":\"scattercarpet\"}],\"scattergeo\":[{\"marker\":{\"colorbar\":{\"outlinewidth\":0,\"ticks\":\"\"}},\"type\":\"scattergeo\"}],\"scattergl\":[{\"marker\":{\"colorbar\":{\"outlinewidth\":0,\"ticks\":\"\"}},\"type\":\"scattergl\"}],\"scattermapbox\":[{\"marker\":{\"colorbar\":{\"outlinewidth\":0,\"ticks\":\"\"}},\"type\":\"scattermapbox\"}],\"scatterpolar\":[{\"marker\":{\"colorbar\":{\"outlinewidth\":0,\"ticks\":\"\"}},\"type\":\"scatterpolar\"}],\"scatterpolargl\":[{\"marker\":{\"colorbar\":{\"outlinewidth\":0,\"ticks\":\"\"}},\"type\":\"scatterpolargl\"}],\"scatterternary\":[{\"marker\":{\"colorbar\":{\"outlinewidth\":0,\"ticks\":\"\"}},\"type\":\"scatterternary\"}],\"surface\":[{\"colorbar\":{\"outlinewidth\":0,\"ticks\":\"\"},\"colorscale\":[[0.0,\"#0d0887\"],[0.1111111111111111,\"#46039f\"],[0.2222222222222222,\"#7201a8\"],[0.3333333333333333,\"#9c179e\"],[0.4444444444444444,\"#bd3786\"],[0.5555555555555556,\"#d8576b\"],[0.6666666666666666,\"#ed7953\"],[0.7777777777777778,\"#fb9f3a\"],[0.8888888888888888,\"#fdca26\"],[1.0,\"#f0f921\"]],\"type\":\"surface\"}],\"table\":[{\"cells\":{\"fill\":{\"color\":\"#EBF0F8\"},\"line\":{\"color\":\"white\"}},\"header\":{\"fill\":{\"color\":\"#C8D4E3\"},\"line\":{\"color\":\"white\"}},\"type\":\"table\"}]},\"layout\":{\"annotationdefaults\":{\"arrowcolor\":\"#2a3f5f\",\"arrowhead\":0,\"arrowwidth\":1},\"autotypenumbers\":\"strict\",\"coloraxis\":{\"colorbar\":{\"outlinewidth\":0,\"ticks\":\"\"}},\"colorscale\":{\"diverging\":[[0,\"#8e0152\"],[0.1,\"#c51b7d\"],[0.2,\"#de77ae\"],[0.3,\"#f1b6da\"],[0.4,\"#fde0ef\"],[0.5,\"#f7f7f7\"],[0.6,\"#e6f5d0\"],[0.7,\"#b8e186\"],[0.8,\"#7fbc41\"],[0.9,\"#4d9221\"],[1,\"#276419\"]],\"sequential\":[[0.0,\"#0d0887\"],[0.1111111111111111,\"#46039f\"],[0.2222222222222222,\"#7201a8\"],[0.3333333333333333,\"#9c179e\"],[0.4444444444444444,\"#bd3786\"],[0.5555555555555556,\"#d8576b\"],[0.6666666666666666,\"#ed7953\"],[0.7777777777777778,\"#fb9f3a\"],[0.8888888888888888,\"#fdca26\"],[1.0,\"#f0f921\"]],\"sequentialminus\":[[0.0,\"#0d0887\"],[0.1111111111111111,\"#46039f\"],[0.2222222222222222,\"#7201a8\"],[0.3333333333333333,\"#9c179e\"],[0.4444444444444444,\"#bd3786\"],[0.5555555555555556,\"#d8576b\"],[0.6666666666666666,\"#ed7953\"],[0.7777777777777778,\"#fb9f3a\"],[0.8888888888888888,\"#fdca26\"],[1.0,\"#f0f921\"]]},\"colorway\":[\"#636efa\",\"#EF553B\",\"#00cc96\",\"#ab63fa\",\"#FFA15A\",\"#19d3f3\",\"#FF6692\",\"#B6E880\",\"#FF97FF\",\"#FECB52\"],\"font\":{\"color\":\"#2a3f5f\"},\"geo\":{\"bgcolor\":\"white\",\"lakecolor\":\"white\",\"landcolor\":\"#E5ECF6\",\"showlakes\":true,\"showland\":true,\"subunitcolor\":\"white\"},\"hoverlabel\":{\"align\":\"left\"},\"hovermode\":\"closest\",\"mapbox\":{\"style\":\"light\"},\"paper_bgcolor\":\"white\",\"plot_bgcolor\":\"#E5ECF6\",\"polar\":{\"angularaxis\":{\"gridcolor\":\"white\",\"linecolor\":\"white\",\"ticks\":\"\"},\"bgcolor\":\"#E5ECF6\",\"radialaxis\":{\"gridcolor\":\"white\",\"linecolor\":\"white\",\"ticks\":\"\"}},\"scene\":{\"xaxis\":{\"backgroundcolor\":\"#E5ECF6\",\"gridcolor\":\"white\",\"gridwidth\":2,\"linecolor\":\"white\",\"showbackground\":true,\"ticks\":\"\",\"zerolinecolor\":\"white\"},\"yaxis\":{\"backgroundcolor\":\"#E5ECF6\",\"gridcolor\":\"white\",\"gridwidth\":2,\"linecolor\":\"white\",\"showbackground\":true,\"ticks\":\"\",\"zerolinecolor\":\"white\"},\"zaxis\":{\"backgroundcolor\":\"#E5ECF6\",\"gridcolor\":\"white\",\"gridwidth\":2,\"linecolor\":\"white\",\"showbackground\":true,\"ticks\":\"\",\"zerolinecolor\":\"white\"}},\"shapedefaults\":{\"line\":{\"color\":\"#2a3f5f\"}},\"ternary\":{\"aaxis\":{\"gridcolor\":\"white\",\"linecolor\":\"white\",\"ticks\":\"\"},\"baxis\":{\"gridcolor\":\"white\",\"linecolor\":\"white\",\"ticks\":\"\"},\"bgcolor\":\"#E5ECF6\",\"caxis\":{\"gridcolor\":\"white\",\"linecolor\":\"white\",\"ticks\":\"\"}},\"title\":{\"x\":0.05},\"xaxis\":{\"automargin\":true,\"gridcolor\":\"white\",\"linecolor\":\"white\",\"ticks\":\"\",\"title\":{\"standoff\":15},\"zerolinecolor\":\"white\",\"zerolinewidth\":2},\"yaxis\":{\"automargin\":true,\"gridcolor\":\"white\",\"linecolor\":\"white\",\"ticks\":\"\",\"title\":{\"standoff\":15},\"zerolinecolor\":\"white\",\"zerolinewidth\":2}}},\"geo\":{\"domain\":{\"x\":[0.0,1.0],\"y\":[0.0,1.0]},\"projection\":{\"type\":\"natural earth\"},\"center\":{}},\"legend\":{\"title\":{\"text\":\"Total_compras\"},\"tracegroupgap\":0},\"title\":{\"text\":\"N\\u00famero total de compra por pa\\u00eds\"}},                        {\"responsive\": true}                    ).then(function(){\n",
              "                            \n",
              "var gd = document.getElementById('b9644994-bdcb-4a76-848c-a384d68c90ba');\n",
              "var x = new MutationObserver(function (mutations, observer) {{\n",
              "        var display = window.getComputedStyle(gd).display;\n",
              "        if (!display || display === 'none') {{\n",
              "            console.log([gd, 'removed!']);\n",
              "            Plotly.purge(gd);\n",
              "            observer.disconnect();\n",
              "        }}\n",
              "}});\n",
              "\n",
              "// Listen for the removal of the full notebook cells\n",
              "var notebookContainer = gd.closest('#notebook-container');\n",
              "if (notebookContainer) {{\n",
              "    x.observe(notebookContainer, {childList: true});\n",
              "}}\n",
              "\n",
              "// Listen for the clearing of the current output cell\n",
              "var outputEl = gd.closest('.output');\n",
              "if (outputEl) {{\n",
              "    x.observe(outputEl, {childList: true});\n",
              "}}\n",
              "\n",
              "                        })                };                            </script>        </div>\n",
              "</body>\n",
              "</html>"
            ]
          },
          "metadata": {}
        }
      ]
    },
    {
      "cell_type": "markdown",
      "metadata": {
        "id": "j219FznfnduU"
      },
      "source": [
        "Por la segmentación de los colores del mapa, podemos identificar cual es el pais que más compra (España) y cual es el que menos (Mexico)"
      ]
    },
    {
      "cell_type": "markdown",
      "metadata": {
        "id": "ZzanOR6I3uFt"
      },
      "source": [
        "# Parte 2: ¿Cual es la preferencia del cliente en las compras segun los datos?\n",
        "\n",
        "Averiguar las preferencias de los clientes por diferentes situaciones del mismo como la edad, nivel educativo, estado civil, cantidad de Kids/Teens e ingresos recibidos, tambien averiguar las preferencias del cliente en los descuentos"
      ]
    },
    {
      "cell_type": "markdown",
      "metadata": {
        "id": "uhVE9q7utgvw"
      },
      "source": [
        "*PREFERENCIAS DE LOS CLIENTES EN LAS COMPRAS SEGUN SU EDAD*"
      ]
    },
    {
      "cell_type": "code",
      "metadata": {
        "colab": {
          "base_uri": "https://localhost:8080/"
        },
        "id": "AHfDKxnIddlP",
        "outputId": "216ea4c9-f8c9-47f9-c775-f30089109f31"
      },
      "source": [
        "#Obtenemos el año actual en el cual estamos trabajando\n",
        "date = dt.today()\n",
        "year = date.strftime(\"%Y\")\n",
        "year = int(year)\n",
        "year"
      ],
      "execution_count": 152,
      "outputs": [
        {
          "output_type": "execute_result",
          "data": {
            "text/plain": [
              "2021"
            ]
          },
          "metadata": {},
          "execution_count": 152
        }
      ]
    },
    {
      "cell_type": "code",
      "metadata": {
        "colab": {
          "base_uri": "https://localhost:8080/"
        },
        "id": "n65wZRsw6ZPl",
        "outputId": "48695b06-1610-476a-d53b-b455eec94f08"
      },
      "source": [
        "#Tenemos crear un nuevo campo en el DataFrame que nos de la edad, debido a que solos nos da los años de nacimiento de los clientes\n",
        "data['edad'] = year - data['Year_Birth']\n",
        "data['edad'].unique()"
      ],
      "execution_count": 153,
      "outputs": [
        {
          "output_type": "execute_result",
          "data": {
            "text/plain": [
              "array([ 51,  60,  63,  54,  32,  67,  74,  42,  62,  40,  52,  44,  61,\n",
              "        55,  45,  56,  65,  46,  50,  35,  49,  47,  31,  34,  37,  53,\n",
              "        66,  38,  48,  43,  69,  59,  57,  39,  58,  64,  41,  76,  72,\n",
              "        73,  68,  75,  36,  29,  77,  70,  33,  71,  27,  28,  30, 128,\n",
              "        25,  26, 122,  78,  80,  81, 121])"
            ]
          },
          "metadata": {},
          "execution_count": 153
        }
      ]
    },
    {
      "cell_type": "code",
      "metadata": {
        "colab": {
          "base_uri": "https://localhost:8080/"
        },
        "id": "500GHH-vtLWc",
        "outputId": "664799c3-482e-4ff6-8d7f-d58ddfed7e3d"
      },
      "source": [
        "#Como hay clientes que tienen una edad superior a 100, lo vamos a eliminar\n",
        "data = data[data.edad<100]\n",
        "data = data.reset_index(drop=True)\n",
        "data['edad'].unique()"
      ],
      "execution_count": 173,
      "outputs": [
        {
          "output_type": "execute_result",
          "data": {
            "text/plain": [
              "array([51, 60, 63, 54, 32, 67, 74, 42, 62, 40, 52, 44, 61, 55, 45, 56, 65,\n",
              "       46, 50, 35, 49, 47, 31, 34, 37, 53, 66, 38, 48, 43, 69, 59, 57, 39,\n",
              "       58, 64, 41, 76, 72, 73, 68, 75, 36, 29, 77, 70, 33, 71, 27, 28, 30,\n",
              "       25, 26, 78, 80, 81])"
            ]
          },
          "metadata": {},
          "execution_count": 173
        }
      ]
    },
    {
      "cell_type": "code",
      "metadata": {
        "id": "Ul90egodsO1w"
      },
      "source": [
        "  g=data.groupby(['edad'])['TotalPurchases'].count()"
      ],
      "execution_count": 167,
      "outputs": []
    },
    {
      "cell_type": "code",
      "metadata": {
        "id": "oChR4QUGsVN6"
      },
      "source": [
        "compra_edad = pd.DataFrame(g)"
      ],
      "execution_count": 169,
      "outputs": []
    },
    {
      "cell_type": "code",
      "metadata": {
        "id": "ZEeH03_oscNp"
      },
      "source": [
        "compra_edad.reset_index(level=0,inplace=True)"
      ],
      "execution_count": 170,
      "outputs": []
    },
    {
      "cell_type": "code",
      "metadata": {
        "colab": {
          "base_uri": "https://localhost:8080/",
          "height": 386
        },
        "id": "A9c43CgrsgCZ",
        "outputId": "340ee9de-e320-4486-803b-816cf4f87616"
      },
      "source": [
        "x_values = compra_edad['edad'].unique()\n",
        "y_values = compra_edad['TotalPurchases']\n",
        "plt.bar(x_values, y_values)\n",
        "plt.title('N.compras por edad')\n",
        "ax = plt.subplot() \n",
        "ax.set_xlabel('edad')  #Nombre del eje x\n",
        "ax.set_ylabel('Total compras')  #Nombre del eje y\n",
        "plt.show()\n",
        "plt.close('all')"
      ],
      "execution_count": 172,
      "outputs": [
        {
          "output_type": "stream",
          "name": "stderr",
          "text": [
            "/usr/local/lib/python3.7/dist-packages/ipykernel_launcher.py:5: MatplotlibDeprecationWarning:\n",
            "\n",
            "Adding an axes using the same arguments as a previous axes currently reuses the earlier instance.  In a future version, a new instance will always be created and returned.  Meanwhile, this warning can be suppressed, and the future behavior ensured, by passing a unique label to each axes instance.\n",
            "\n"
          ]
        },
        {
          "output_type": "display_data",
          "data": {
            "image/png": "[encoded data removed]",
            "text/plain": [
              "<Figure size 432x288 with 1 Axes>"
            ]
          },
          "metadata": {
            "needs_background": "light"
          }
        }
      ]
    },
    {
      "cell_type": "markdown",
      "metadata": {
        "id": "d5hgUdjIuWni"
      },
      "source": [
        "Hay más compras en la tienda en las edades de los rangos de 40 a 50 años"
      ]
    },
    {
      "cell_type": "markdown",
      "metadata": {
        "id": "N2YkNYEDH01y"
      },
      "source": [
        "*PREFERENCIAS DE LOS CLIENTES EN LAS COMPRAS SEGUN SUS INGRESOS*"
      ]
    },
    {
      "cell_type": "code",
      "metadata": {
        "colab": {
          "base_uri": "https://localhost:8080/",
          "height": 393
        },
        "id": "BFHwx6qcHyIh",
        "outputId": "a08455fb-5483-4a27-c9b5-6f6cba0cd0cb"
      },
      "source": [
        "sns.lmplot(x='Income', y='TotalPurchases', data=data[data['Income']<200000]);\n",
        "plt.xlabel('Ingresos')\n",
        "plt.ylabel('Total compras')\n",
        "plt.xticks(rotation=45, horizontalalignment='right');"
      ],
      "execution_count": 178,
      "outputs": [
        {
          "output_type": "display_data",
          "data": {
            "image/png": "[encoded data removed]",
            "text/plain": [
              "<Figure size 360x360 with 1 Axes>"
            ]
          },
          "metadata": {
            "needs_background": "light"
          }
        }
      ]
    },
    {
      "cell_type": "markdown",
      "metadata": {
        "id": "9myUkK5VIJZo"
      },
      "source": [
        "*PREFERENCIAS DE LOS CLIENTES EN LAS COMPRAS SEGUN LA CANTIDAD DE HIJOS*"
      ]
    },
    {
      "cell_type": "code",
      "metadata": {
        "colab": {
          "base_uri": "https://localhost:8080/",
          "height": 297
        },
        "id": "CiK_OgclINEF",
        "outputId": "fdf205ca-c8ec-40b2-b879-ed5bee4cec03"
      },
      "source": [
        "data['Hijos']=data['Kidhome']+data['Teenhome']\n",
        "plt.figure(figsize=(4,4))\n",
        "sns.boxplot(x='Hijos', y='TotalPurchases', data=data);\n",
        "plt.ylabel('Total compras')"
      ],
      "execution_count": 179,
      "outputs": [
        {
          "output_type": "execute_result",
          "data": {
            "text/plain": [
              "Text(0, 0.5, 'Total compras')"
            ]
          },
          "metadata": {},
          "execution_count": 179
        },
        {
          "output_type": "display_data",
          "data": {
            "image/png": "[encoded data removed]",
            "text/plain": [
              "<Figure size 288x288 with 1 Axes>"
            ]
          },
          "metadata": {
            "needs_background": "light"
          }
        }
      ]
    },
    {
      "cell_type": "markdown",
      "metadata": {
        "id": "3JAWACxpoM84"
      },
      "source": [
        "Los clientes que no tienen hijos, suelen ser los que más compras realizan en la tienda y los que tienen más hijos, son los que menos que compran. Por lo cual se puede afirmar que las compras depende de la cantidad de hijos que tenga el cliente"
      ]
    },
    {
      "cell_type": "markdown",
      "metadata": {
        "id": "HNXlG_V5ITq0"
      },
      "source": [
        "*PREFERENCIAS DE LOS CLIENTES EN LAS COMPRAS SEGUN NIVEL EDUCATIVO*"
      ]
    },
    {
      "cell_type": "code",
      "metadata": {
        "colab": {
          "base_uri": "https://localhost:8080/",
          "height": 297
        },
        "id": "i7UTEgMXIZTy",
        "outputId": "07410a84-12ca-4a24-e344-a6fbc2f6416a"
      },
      "source": [
        "sns.boxplot(x='Education', y='TotalPurchases', data=data)\n",
        "plt.ylabel('Total compras')\n",
        "plt.xlabel('Nivel de educación')"
      ],
      "execution_count": 180,
      "outputs": [
        {
          "output_type": "execute_result",
          "data": {
            "text/plain": [
              "Text(0.5, 0, 'Nivel de educación')"
            ]
          },
          "metadata": {},
          "execution_count": 180
        },
        {
          "output_type": "display_data",
          "data": {
            "image/png": "[encoded data removed]",
            "text/plain": [
              "<Figure size 432x288 with 1 Axes>"
            ]
          },
          "metadata": {
            "needs_background": "light"
          }
        }
      ]
    },
    {
      "cell_type": "markdown",
      "metadata": {
        "id": "tpESVvhpob1t"
      },
      "source": [
        "Las personas que están estudiando un doctorado (phD) son las personas que suelen gastar más en productos de la tienda y los que tiene un nivel educativo basico son los que menos"
      ]
    },
    {
      "cell_type": "markdown",
      "metadata": {
        "id": "CfFgsSezIgah"
      },
      "source": [
        "*PREFERENCIAS DE LOS CLIENTES EN LAS COMPRAS SEGUN EL ESTADO CIVIL*"
      ]
    },
    {
      "cell_type": "code",
      "metadata": {
        "colab": {
          "base_uri": "https://localhost:8080/"
        },
        "id": "gtB-HNueIih8",
        "outputId": "7eb2cc6d-6def-49a8-dedd-660b241a450c"
      },
      "source": [
        "data['Marital_Status'] = data['Marital_Status'].replace(['Alone','YOLO','Absurd'],'Single')\n",
        "data.Marital_Status.value_counts()"
      ],
      "execution_count": 182,
      "outputs": [
        {
          "output_type": "execute_result",
          "data": {
            "text/plain": [
              "Married     864\n",
              "Together    579\n",
              "Single      486\n",
              "Divorced    231\n",
              "Widow        77\n",
              "Name: Marital_Status, dtype: int64"
            ]
          },
          "metadata": {},
          "execution_count": 182
        }
      ]
    },
    {
      "cell_type": "code",
      "metadata": {
        "colab": {
          "base_uri": "https://localhost:8080/",
          "height": 297
        },
        "id": "cbWCLiWjImnZ",
        "outputId": "3f785d12-1700-4df6-a1d6-89fa7c620671"
      },
      "source": [
        "sns.boxplot(x='Marital_Status', y='TotalPurchases', data=data)\n",
        "plt.xlabel(\"Estado Civil\")\n",
        "plt.ylabel(\"Total comrpras\")"
      ],
      "execution_count": 183,
      "outputs": [
        {
          "output_type": "execute_result",
          "data": {
            "text/plain": [
              "Text(0, 0.5, 'Total comrpras')"
            ]
          },
          "metadata": {},
          "execution_count": 183
        },
        {
          "output_type": "display_data",
          "data": {
            "image/png": "[encoded data removed]",
            "text/plain": [
              "<Figure size 432x288 with 1 Axes>"
            ]
          },
          "metadata": {
            "needs_background": "light"
          }
        }
      ]
    },
    {
      "cell_type": "markdown",
      "metadata": {
        "id": "gssFi1OHo5VV"
      },
      "source": [
        "En el Estado Marital del cliente, no varia mucho el número de compras, pero se puede indicar que los divorciados son los que más compran"
      ]
    },
    {
      "cell_type": "markdown",
      "metadata": {
        "id": "0YbwDAs1ylNH"
      },
      "source": [
        "# Parte 3: ¿Cual campaña tuvo mayor acogida entre los clientes?"
      ]
    },
    {
      "cell_type": "code",
      "metadata": {
        "id": "7BQvEwMLILwq"
      },
      "source": [
        "df_cam = data[['Code_country', 'AcceptedCmp1', 'AcceptedCmp2', 'AcceptedCmp3', 'AcceptedCmp4', 'AcceptedCmp5', 'Response']].melt(\n",
        "    id_vars='Code_country', value_vars = ['AcceptedCmp1', 'AcceptedCmp2', 'AcceptedCmp3', 'AcceptedCmp4', 'AcceptedCmp5', 'Response'], var_name='Campaña', value_name='Aceptacion (%)')\n",
        "df_cam = pd.DataFrame(df_cam.groupby(['Code_country', 'Campaña'])['Aceptacion (%)'].mean()*100).reset_index(drop=False)"
      ],
      "execution_count": 190,
      "outputs": []
    },
    {
      "cell_type": "code",
      "metadata": {
        "id": "6fVhZj9gvZHt"
      },
      "source": [
        "df_cam['Campaña'] = df_cam['Campaña'].replace({'AcceptedCmp1': '1',\n",
        "                                                'AcceptedCmp2': '2',\n",
        "                                                'AcceptedCmp3': '3',\n",
        "                                                'AcceptedCmp4': '4',\n",
        "                                                'AcceptedCmp5': '5',\n",
        "                                                'Response': 'Mas reciente'\n",
        "                                                })"
      ],
      "execution_count": 191,
      "outputs": []
    },
    {
      "cell_type": "code",
      "metadata": {
        "id": "v8voK7UpJxHF",
        "colab": {
          "base_uri": "https://localhost:8080/",
          "height": 542
        },
        "outputId": "ac4f7173-7b45-416b-eb2b-067932f70c19"
      },
      "source": [
        "fig = px.choropleth(df_cam, locationmode='ISO-3', color='Aceptacion (%)', facet_col='Campaña', facet_col_wrap=3,\n",
        "                    facet_row_spacing=0.05, facet_col_spacing=0.01,\n",
        "                    locations='Code_country', projection='natural earth', title='Exito de las diferentes campañas'\n",
        "                   )\n",
        "fig.show()"
      ],
      "execution_count": 192,
      "outputs": [
        {
          "output_type": "display_data",
          "data": {
            "text/html": [
              "<html>\n",
              "<head><meta charset=\"utf-8\" /></head>\n",
              "<body>\n",
              "    <div>            <script src=\"https://cdnjs.cloudflare.com/ajax/libs/mathjax/2.7.5/MathJax.js?config=TeX-AMS-MML_SVG\"></script><script type=\"text/javascript\">if (window.MathJax) {MathJax.Hub.Config({SVG: {font: \"STIX-Web\"}});}</script>                <script type=\"text/javascript\">window.PlotlyConfig = {MathJaxConfig: 'local'};</script>\n",
              "        <script src=\"https://cdn.plot.ly/plotly-2.6.3.min.js\"></script>                <div id=\"a8a41be7-91af-44b9-bdd2-4f3311f9dd60\" class=\"plotly-graph-div\" style=\"height:525px; width:100%;\"></div>            <script type=\"text/javascript\">                                    window.PLOTLYENV=window.PLOTLYENV || {};                                    if (document.getElementById(\"a8a41be7-91af-44b9-bdd2-4f3311f9dd60\")) {                    Plotly.newPlot(                        \"a8a41be7-91af-44b9-bdd2-4f3311f9dd60\",                        [{\"coloraxis\":\"coloraxis\",\"geo\":\"geo4\",\"hovertemplate\":\"Campa\\u00f1a=1<br>Code_country=%{location}<br>Aceptacion (%)=%{z}<extra></extra>\",\"locationmode\":\"ISO-3\",\"locations\":[\"AUS\",\"CAN\",\"ESP\",\"GER\",\"IND\",\"MEX\",\"USA\",\"ZAF\"],\"name\":\"\",\"z\":[4.375,6.7164179104477615,7.129798903107861,5.833333333333333,4.761904761904762,0.0,6.422018348623854,5.952380952380952],\"type\":\"choropleth\"},{\"coloraxis\":\"coloraxis\",\"geo\":\"geo5\",\"hovertemplate\":\"Campa\\u00f1a=2<br>Code_country=%{location}<br>Aceptacion (%)=%{z}<extra></extra>\",\"locationmode\":\"ISO-3\",\"locations\":[\"AUS\",\"CAN\",\"ESP\",\"GER\",\"IND\",\"MEX\",\"USA\",\"ZAF\"],\"name\":\"\",\"z\":[0.0,2.2388059701492535,1.4625228519195612,1.6666666666666667,1.3605442176870748,0.0,0.0,1.1904761904761905],\"type\":\"choropleth\"},{\"coloraxis\":\"coloraxis\",\"geo\":\"geo6\",\"hovertemplate\":\"Campa\\u00f1a=3<br>Code_country=%{location}<br>Aceptacion (%)=%{z}<extra></extra>\",\"locationmode\":\"ISO-3\",\"locations\":[\"AUS\",\"CAN\",\"ESP\",\"GER\",\"IND\",\"MEX\",\"USA\",\"ZAF\"],\"name\":\"\",\"z\":[5.625,6.7164179104477615,7.586837294332724,8.333333333333332,8.843537414965986,33.33333333333333,7.339449541284404,6.25],\"type\":\"choropleth\"},{\"coloraxis\":\"coloraxis\",\"geo\":\"geo\",\"hovertemplate\":\"Campa\\u00f1a=4<br>Code_country=%{location}<br>Aceptacion (%)=%{z}<extra></extra>\",\"locationmode\":\"ISO-3\",\"locations\":[\"AUS\",\"CAN\",\"ESP\",\"GER\",\"IND\",\"MEX\",\"USA\",\"ZAF\"],\"name\":\"\",\"z\":[3.75,8.955223880597014,8.135283363802559,9.166666666666666,7.482993197278912,0.0,5.5045871559633035,5.952380952380952],\"type\":\"choropleth\"},{\"coloraxis\":\"coloraxis\",\"geo\":\"geo2\",\"hovertemplate\":\"Campa\\u00f1a=5<br>Code_country=%{location}<br>Aceptacion (%)=%{z}<extra></extra>\",\"locationmode\":\"ISO-3\",\"locations\":[\"AUS\",\"CAN\",\"ESP\",\"GER\",\"IND\",\"MEX\",\"USA\",\"ZAF\"],\"name\":\"\",\"z\":[8.125,7.835820895522389,8.043875685557587,6.666666666666667,4.081632653061225,0.0,4.587155963302752,6.25],\"type\":\"choropleth\"},{\"coloraxis\":\"coloraxis\",\"geo\":\"geo3\",\"hovertemplate\":\"Campa\\u00f1a=Mas reciente<br>Code_country=%{location}<br>Aceptacion (%)=%{z}<extra></extra>\",\"locationmode\":\"ISO-3\",\"locations\":[\"AUS\",\"CAN\",\"ESP\",\"GER\",\"IND\",\"MEX\",\"USA\",\"ZAF\"],\"name\":\"\",\"z\":[14.374999999999998,14.17910447761194,16.087751371115175,14.166666666666666,8.843537414965986,66.66666666666666,11.926605504587156,15.476190476190476],\"type\":\"choropleth\"}],                        {\"template\":{\"data\":{\"bar\":[{\"error_x\":{\"color\":\"#2a3f5f\"},\"error_y\":{\"color\":\"#2a3f5f\"},\"marker\":{\"line\":{\"color\":\"#E5ECF6\",\"width\":0.5},\"pattern\":{\"fillmode\":\"overlay\",\"size\":10,\"solidity\":0.2}},\"type\":\"bar\"}],\"barpolar\":[{\"marker\":{\"line\":{\"color\":\"#E5ECF6\",\"width\":0.5},\"pattern\":{\"fillmode\":\"overlay\",\"size\":10,\"solidity\":0.2}},\"type\":\"barpolar\"}],\"carpet\":[{\"aaxis\":{\"endlinecolor\":\"#2a3f5f\",\"gridcolor\":\"white\",\"linecolor\":\"white\",\"minorgridcolor\":\"white\",\"startlinecolor\":\"#2a3f5f\"},\"baxis\":{\"endlinecolor\":\"#2a3f5f\",\"gridcolor\":\"white\",\"linecolor\":\"white\",\"minorgridcolor\":\"white\",\"startlinecolor\":\"#2a3f5f\"},\"type\":\"carpet\"}],\"choropleth\":[{\"colorbar\":{\"outlinewidth\":0,\"ticks\":\"\"},\"type\":\"choropleth\"}],\"contour\":[{\"colorbar\":{\"outlinewidth\":0,\"ticks\":\"\"},\"colorscale\":[[0.0,\"#0d0887\"],[0.1111111111111111,\"#46039f\"],[0.2222222222222222,\"#7201a8\"],[0.3333333333333333,\"#9c179e\"],[0.4444444444444444,\"#bd3786\"],[0.5555555555555556,\"#d8576b\"],[0.6666666666666666,\"#ed7953\"],[0.7777777777777778,\"#fb9f3a\"],[0.8888888888888888,\"#fdca26\"],[1.0,\"#f0f921\"]],\"type\":\"contour\"}],\"contourcarpet\":[{\"colorbar\":{\"outlinewidth\":0,\"ticks\":\"\"},\"type\":\"contourcarpet\"}],\"heatmap\":[{\"colorbar\":{\"outlinewidth\":0,\"ticks\":\"\"},\"colorscale\":[[0.0,\"#0d0887\"],[0.1111111111111111,\"#46039f\"],[0.2222222222222222,\"#7201a8\"],[0.3333333333333333,\"#9c179e\"],[0.4444444444444444,\"#bd3786\"],[0.5555555555555556,\"#d8576b\"],[0.6666666666666666,\"#ed7953\"],[0.7777777777777778,\"#fb9f3a\"],[0.8888888888888888,\"#fdca26\"],[1.0,\"#f0f921\"]],\"type\":\"heatmap\"}],\"heatmapgl\":[{\"colorbar\":{\"outlinewidth\":0,\"ticks\":\"\"},\"colorscale\":[[0.0,\"#0d0887\"],[0.1111111111111111,\"#46039f\"],[0.2222222222222222,\"#7201a8\"],[0.3333333333333333,\"#9c179e\"],[0.4444444444444444,\"#bd3786\"],[0.5555555555555556,\"#d8576b\"],[0.6666666666666666,\"#ed7953\"],[0.7777777777777778,\"#fb9f3a\"],[0.8888888888888888,\"#fdca26\"],[1.0,\"#f0f921\"]],\"type\":\"heatmapgl\"}],\"histogram\":[{\"marker\":{\"pattern\":{\"fillmode\":\"overlay\",\"size\":10,\"solidity\":0.2}},\"type\":\"histogram\"}],\"histogram2d\":[{\"colorbar\":{\"outlinewidth\":0,\"ticks\":\"\"},\"colorscale\":[[0.0,\"#0d0887\"],[0.1111111111111111,\"#46039f\"],[0.2222222222222222,\"#7201a8\"],[0.3333333333333333,\"#9c179e\"],[0.4444444444444444,\"#bd3786\"],[0.5555555555555556,\"#d8576b\"],[0.6666666666666666,\"#ed7953\"],[0.7777777777777778,\"#fb9f3a\"],[0.8888888888888888,\"#fdca26\"],[1.0,\"#f0f921\"]],\"type\":\"histogram2d\"}],\"histogram2dcontour\":[{\"colorbar\":{\"outlinewidth\":0,\"ticks\":\"\"},\"colorscale\":[[0.0,\"#0d0887\"],[0.1111111111111111,\"#46039f\"],[0.2222222222222222,\"#7201a8\"],[0.3333333333333333,\"#9c179e\"],[0.4444444444444444,\"#bd3786\"],[0.5555555555555556,\"#d8576b\"],[0.6666666666666666,\"#ed7953\"],[0.7777777777777778,\"#fb9f3a\"],[0.8888888888888888,\"#fdca26\"],[1.0,\"#f0f921\"]],\"type\":\"histogram2dcontour\"}],\"mesh3d\":[{\"colorbar\":{\"outlinewidth\":0,\"ticks\":\"\"},\"type\":\"mesh3d\"}],\"parcoords\":[{\"line\":{\"colorbar\":{\"outlinewidth\":0,\"ticks\":\"\"}},\"type\":\"parcoords\"}],\"pie\":[{\"automargin\":true,\"type\":\"pie\"}],\"scatter\":[{\"marker\":{\"colorbar\":{\"outlinewidth\":0,\"ticks\":\"\"}},\"type\":\"scatter\"}],\"scatter3d\":[{\"line\":{\"colorbar\":{\"outlinewidth\":0,\"ticks\":\"\"}},\"marker\":{\"colorbar\":{\"outlinewidth\":0,\"ticks\":\"\"}},\"type\":\"scatter3d\"}],\"scattercarpet\":[{\"marker\":{\"colorbar\":{\"outlinewidth\":0,\"ticks\":\"\"}},\"type\":\"scattercarpet\"}],\"scattergeo\":[{\"marker\":{\"colorbar\":{\"outlinewidth\":0,\"ticks\":\"\"}},\"type\":\"scattergeo\"}],\"scattergl\":[{\"marker\":{\"colorbar\":{\"outlinewidth\":0,\"ticks\":\"\"}},\"type\":\"scattergl\"}],\"scattermapbox\":[{\"marker\":{\"colorbar\":{\"outlinewidth\":0,\"ticks\":\"\"}},\"type\":\"scattermapbox\"}],\"scatterpolar\":[{\"marker\":{\"colorbar\":{\"outlinewidth\":0,\"ticks\":\"\"}},\"type\":\"scatterpolar\"}],\"scatterpolargl\":[{\"marker\":{\"colorbar\":{\"outlinewidth\":0,\"ticks\":\"\"}},\"type\":\"scatterpolargl\"}],\"scatterternary\":[{\"marker\":{\"colorbar\":{\"outlinewidth\":0,\"ticks\":\"\"}},\"type\":\"scatterternary\"}],\"surface\":[{\"colorbar\":{\"outlinewidth\":0,\"ticks\":\"\"},\"colorscale\":[[0.0,\"#0d0887\"],[0.1111111111111111,\"#46039f\"],[0.2222222222222222,\"#7201a8\"],[0.3333333333333333,\"#9c179e\"],[0.4444444444444444,\"#bd3786\"],[0.5555555555555556,\"#d8576b\"],[0.6666666666666666,\"#ed7953\"],[0.7777777777777778,\"#fb9f3a\"],[0.8888888888888888,\"#fdca26\"],[1.0,\"#f0f921\"]],\"type\":\"surface\"}],\"table\":[{\"cells\":{\"fill\":{\"color\":\"#EBF0F8\"},\"line\":{\"color\":\"white\"}},\"header\":{\"fill\":{\"color\":\"#C8D4E3\"},\"line\":{\"color\":\"white\"}},\"type\":\"table\"}]},\"layout\":{\"annotationdefaults\":{\"arrowcolor\":\"#2a3f5f\",\"arrowhead\":0,\"arrowwidth\":1},\"autotypenumbers\":\"strict\",\"coloraxis\":{\"colorbar\":{\"outlinewidth\":0,\"ticks\":\"\"}},\"colorscale\":{\"diverging\":[[0,\"#8e0152\"],[0.1,\"#c51b7d\"],[0.2,\"#de77ae\"],[0.3,\"#f1b6da\"],[0.4,\"#fde0ef\"],[0.5,\"#f7f7f7\"],[0.6,\"#e6f5d0\"],[0.7,\"#b8e186\"],[0.8,\"#7fbc41\"],[0.9,\"#4d9221\"],[1,\"#276419\"]],\"sequential\":[[0.0,\"#0d0887\"],[0.1111111111111111,\"#46039f\"],[0.2222222222222222,\"#7201a8\"],[0.3333333333333333,\"#9c179e\"],[0.4444444444444444,\"#bd3786\"],[0.5555555555555556,\"#d8576b\"],[0.6666666666666666,\"#ed7953\"],[0.7777777777777778,\"#fb9f3a\"],[0.8888888888888888,\"#fdca26\"],[1.0,\"#f0f921\"]],\"sequentialminus\":[[0.0,\"#0d0887\"],[0.1111111111111111,\"#46039f\"],[0.2222222222222222,\"#7201a8\"],[0.3333333333333333,\"#9c179e\"],[0.4444444444444444,\"#bd3786\"],[0.5555555555555556,\"#d8576b\"],[0.6666666666666666,\"#ed7953\"],[0.7777777777777778,\"#fb9f3a\"],[0.8888888888888888,\"#fdca26\"],[1.0,\"#f0f921\"]]},\"colorway\":[\"#636efa\",\"#EF553B\",\"#00cc96\",\"#ab63fa\",\"#FFA15A\",\"#19d3f3\",\"#FF6692\",\"#B6E880\",\"#FF97FF\",\"#FECB52\"],\"font\":{\"color\":\"#2a3f5f\"},\"geo\":{\"bgcolor\":\"white\",\"lakecolor\":\"white\",\"landcolor\":\"#E5ECF6\",\"showlakes\":true,\"showland\":true,\"subunitcolor\":\"white\"},\"hoverlabel\":{\"align\":\"left\"},\"hovermode\":\"closest\",\"mapbox\":{\"style\":\"light\"},\"paper_bgcolor\":\"white\",\"plot_bgcolor\":\"#E5ECF6\",\"polar\":{\"angularaxis\":{\"gridcolor\":\"white\",\"linecolor\":\"white\",\"ticks\":\"\"},\"bgcolor\":\"#E5ECF6\",\"radialaxis\":{\"gridcolor\":\"white\",\"linecolor\":\"white\",\"ticks\":\"\"}},\"scene\":{\"xaxis\":{\"backgroundcolor\":\"#E5ECF6\",\"gridcolor\":\"white\",\"gridwidth\":2,\"linecolor\":\"white\",\"showbackground\":true,\"ticks\":\"\",\"zerolinecolor\":\"white\"},\"yaxis\":{\"backgroundcolor\":\"#E5ECF6\",\"gridcolor\":\"white\",\"gridwidth\":2,\"linecolor\":\"white\",\"showbackground\":true,\"ticks\":\"\",\"zerolinecolor\":\"white\"},\"zaxis\":{\"backgroundcolor\":\"#E5ECF6\",\"gridcolor\":\"white\",\"gridwidth\":2,\"linecolor\":\"white\",\"showbackground\":true,\"ticks\":\"\",\"zerolinecolor\":\"white\"}},\"shapedefaults\":{\"line\":{\"color\":\"#2a3f5f\"}},\"ternary\":{\"aaxis\":{\"gridcolor\":\"white\",\"linecolor\":\"white\",\"ticks\":\"\"},\"baxis\":{\"gridcolor\":\"white\",\"linecolor\":\"white\",\"ticks\":\"\"},\"bgcolor\":\"#E5ECF6\",\"caxis\":{\"gridcolor\":\"white\",\"linecolor\":\"white\",\"ticks\":\"\"}},\"title\":{\"x\":0.05},\"xaxis\":{\"automargin\":true,\"gridcolor\":\"white\",\"linecolor\":\"white\",\"ticks\":\"\",\"title\":{\"standoff\":15},\"zerolinecolor\":\"white\",\"zerolinewidth\":2},\"yaxis\":{\"automargin\":true,\"gridcolor\":\"white\",\"linecolor\":\"white\",\"ticks\":\"\",\"title\":{\"standoff\":15},\"zerolinecolor\":\"white\",\"zerolinewidth\":2}}},\"geo\":{\"domain\":{\"x\":[0.0,0.32666666666666666],\"y\":[0.0,0.475]},\"projection\":{\"type\":\"natural earth\"},\"center\":{}},\"geo2\":{\"domain\":{\"x\":[0.33666666666666667,0.6633333333333333],\"y\":[0.0,0.475]},\"projection\":{\"type\":\"natural earth\"},\"center\":{}},\"geo3\":{\"domain\":{\"x\":[0.6733333333333333,1.0],\"y\":[0.0,0.475]},\"projection\":{\"type\":\"natural earth\"},\"center\":{}},\"geo4\":{\"domain\":{\"x\":[0.0,0.32666666666666666],\"y\":[0.525,1.0]},\"projection\":{\"type\":\"natural earth\"},\"center\":{}},\"geo5\":{\"domain\":{\"x\":[0.33666666666666667,0.6633333333333333],\"y\":[0.525,1.0]},\"projection\":{\"type\":\"natural earth\"},\"center\":{}},\"geo6\":{\"domain\":{\"x\":[0.6733333333333333,1.0],\"y\":[0.525,1.0]},\"projection\":{\"type\":\"natural earth\"},\"center\":{}},\"annotations\":[{\"font\":{},\"showarrow\":false,\"text\":\"Campa\\u00f1a=4\",\"x\":0.16333333333333333,\"xanchor\":\"center\",\"xref\":\"paper\",\"y\":0.475,\"yanchor\":\"bottom\",\"yref\":\"paper\"},{\"font\":{},\"showarrow\":false,\"text\":\"Campa\\u00f1a=5\",\"x\":0.5,\"xanchor\":\"center\",\"xref\":\"paper\",\"y\":0.475,\"yanchor\":\"bottom\",\"yref\":\"paper\"},{\"font\":{},\"showarrow\":false,\"text\":\"Campa\\u00f1a=Mas reciente\",\"x\":0.8366666666666667,\"xanchor\":\"center\",\"xref\":\"paper\",\"y\":0.475,\"yanchor\":\"bottom\",\"yref\":\"paper\"},{\"font\":{},\"showarrow\":false,\"text\":\"Campa\\u00f1a=1\",\"x\":0.16333333333333333,\"xanchor\":\"center\",\"xref\":\"paper\",\"y\":1.0,\"yanchor\":\"bottom\",\"yref\":\"paper\"},{\"font\":{},\"showarrow\":false,\"text\":\"Campa\\u00f1a=2\",\"x\":0.5,\"xanchor\":\"center\",\"xref\":\"paper\",\"y\":1.0,\"yanchor\":\"bottom\",\"yref\":\"paper\"},{\"font\":{},\"showarrow\":false,\"text\":\"Campa\\u00f1a=3\",\"x\":0.8366666666666667,\"xanchor\":\"center\",\"xref\":\"paper\",\"y\":1.0,\"yanchor\":\"bottom\",\"yref\":\"paper\"}],\"coloraxis\":{\"colorbar\":{\"title\":{\"text\":\"Aceptacion (%)\"}},\"colorscale\":[[0.0,\"#0d0887\"],[0.1111111111111111,\"#46039f\"],[0.2222222222222222,\"#7201a8\"],[0.3333333333333333,\"#9c179e\"],[0.4444444444444444,\"#bd3786\"],[0.5555555555555556,\"#d8576b\"],[0.6666666666666666,\"#ed7953\"],[0.7777777777777778,\"#fb9f3a\"],[0.8888888888888888,\"#fdca26\"],[1.0,\"#f0f921\"]]},\"legend\":{\"tracegroupgap\":0},\"title\":{\"text\":\"Exito de las diferentes campa\\u00f1as\"}},                        {\"responsive\": true}                    ).then(function(){\n",
              "                            \n",
              "var gd = document.getElementById('a8a41be7-91af-44b9-bdd2-4f3311f9dd60');\n",
              "var x = new MutationObserver(function (mutations, observer) {{\n",
              "        var display = window.getComputedStyle(gd).display;\n",
              "        if (!display || display === 'none') {{\n",
              "            console.log([gd, 'removed!']);\n",
              "            Plotly.purge(gd);\n",
              "            observer.disconnect();\n",
              "        }}\n",
              "}});\n",
              "\n",
              "// Listen for the removal of the full notebook cells\n",
              "var notebookContainer = gd.closest('#notebook-container');\n",
              "if (notebookContainer) {{\n",
              "    x.observe(notebookContainer, {childList: true});\n",
              "}}\n",
              "\n",
              "// Listen for the clearing of the current output cell\n",
              "var outputEl = gd.closest('.output');\n",
              "if (outputEl) {{\n",
              "    x.observe(outputEl, {childList: true});\n",
              "}}\n",
              "\n",
              "                        })                };                            </script>        </div>\n",
              "</body>\n",
              "</html>"
            ]
          },
          "metadata": {}
        }
      ]
    },
    {
      "cell_type": "markdown",
      "metadata": {
        "id": "0hyouoz_pJTn"
      },
      "source": [
        "Viendo las diferentes campañas y las acogidas que tuvo en los diferentes paises, podemos indicar que no hubo gran acogida en muchas de las campañas, pero en la campaña 3, el país de Mexico acogio bien la campaña y la campaña más reciente, Mexico tambien tuvo una gran acogida, pero no es el unico país ya que vemos un incremento de acogemiento en los demás paises"
      ]
    },
    {
      "cell_type": "markdown",
      "metadata": {
        "id": "mbb0B95uHdR9"
      },
      "source": [
        "# Parte 4: ¿Que porcentaje de clientes realizan compras por catalogo, via online y directamente con la tienda?\n",
        "\n",
        "Se quiere verificar en que medio los clientes prefieren realizar sus compras con la tienda"
      ]
    },
    {
      "cell_type": "code",
      "metadata": {
        "colab": {
          "base_uri": "https://localhost:8080/",
          "height": 295
        },
        "id": "E2ZOHSONz8vk",
        "outputId": "098d60fe-bdf3-49f8-f2a0-6184d93a0914"
      },
      "source": [
        "#Creamos la grafica de barras donde detectamos donde se compra más\n",
        "#valores = valores[[\"productos\", \"cantidad\"]]\n",
        "x = ['Sitio Web', 'Catalogo', 'Tienda']\n",
        "y = [data['NumWebPurchases'].sum(), data['NumCatalogPurchases'].sum(), data['NumStorePurchases'].sum()]\n",
        "plt.bar(x, y, color = \"#82eace\")\n",
        "plt.title(\"Ventas en la tienda\")\n",
        "plt.xlabel(\"Productos\")\n",
        "plt.ylabel(\"Cantidad de los productos vendidos\")\n",
        "plt.show()"
      ],
      "execution_count": 27,
      "outputs": [
        {
          "output_type": "display_data",
          "data": {
            "image/png": "[encoded data removed]",
            "text/plain": [
              "<Figure size 432x288 with 1 Axes>"
            ]
          },
          "metadata": {
            "needs_background": "light"
          }
        }
      ]
    },
    {
      "cell_type": "markdown",
      "metadata": {
        "id": "9z-g24oU2oEr"
      },
      "source": [
        "Como podemos apreciar, en la tienda se presentan más ventas presenciales y debería reforzar más las ventas por medio del catalogo."
      ]
    },
    {
      "cell_type": "markdown",
      "metadata": {
        "id": "dsx0PVrVyupP"
      },
      "source": [
        "# Parte 5: ¿Cual es la recompra en relacion al ingreso?"
      ]
    },
    {
      "cell_type": "code",
      "metadata": {
        "id": "MV5zlNZg2caO"
      },
      "source": [
        "#Punto de relacion de ingresos con recompra\n",
        "data['Frecuencia_compra'] = data['NumWebPurchases']+data['NumCatalogPurchases']+data['NumStorePurchases']+data['NumDealsPurchases']"
      ],
      "execution_count": 196,
      "outputs": []
    },
    {
      "cell_type": "code",
      "metadata": {
        "id": "_a29cAUB2mqV"
      },
      "source": [
        "data = data[data['Income']<150000]#ingresos menores a 150.000\n",
        "data = data.reset_index(drop=True)"
      ],
      "execution_count": 197,
      "outputs": []
    },
    {
      "cell_type": "code",
      "metadata": {
        "id": "nnok-SIS2qK6"
      },
      "source": [
        "data['Dependientes'] = data['Kidhome']+data['Teenhome']"
      ],
      "execution_count": 194,
      "outputs": []
    },
    {
      "cell_type": "code",
      "metadata": {
        "colab": {
          "base_uri": "https://localhost:8080/",
          "height": 404
        },
        "id": "-nPk3MMF2s5D",
        "outputId": "49eb2212-a666-4f70-8f10-a6259fb8d144"
      },
      "source": [
        "plt.figure(figsize=(10,6))#Relacion entre ingresos y la frecuencia de compra\n",
        "sns.scatterplot(data=data, x='Income', y='Frecuencia_compra',hue='Dependientes')\n",
        "plt.title(\"Correlación de ingresos con la frecuencia de compra\")\n",
        "plt.xlabel(\"Ingresos\")\n",
        "plt.ylabel(\"Frecuencia de compra\")\n",
        "plt.show()"
      ],
      "execution_count": 200,
      "outputs": [
        {
          "output_type": "display_data",
          "data": {
            "image/png": "[encoded data removed]",
            "text/plain": [
              "<Figure size 720x432 with 1 Axes>"
            ]
          },
          "metadata": {
            "needs_background": "light"
          }
        }
      ]
    },
    {
      "cell_type": "markdown",
      "metadata": {
        "id": "O50HWzXQ3BRa"
      },
      "source": [
        "Existe una correlación positiva entre los ingresos de los clientes y la frecuencia de compra.\n",
        "La mayoría de los compradores de alta frecuencia no tienen más de dos hijos.\n",
        "La mayoría de los clientes de altos ingresos (más de $ 80000) no tienen hijos"
      ]
    },
    {
      "cell_type": "markdown",
      "metadata": {
        "id": "krh4e2Hoy0-x"
      },
      "source": [
        "# Parte 6: ¿Cual es el lifetime value del cliente?\n",
        "\n",
        "El valor de la vida del cliente es una métrica realmente importante para cualquier tipo de empresa. Resulta así tras conocer que adquirir nuevos clientes es mucho más caro que conservar a los existentes, por lo que ampliar el LTV ayuda a que los negocios sean mucho más sostenibles; además, los resultados favorecen la creación de nuevas y mejores estrategias de retención de clientes entre ellas campañas de marketing\n",
        "\n",
        "Estos valores nos indican cuanto le retribuye respecto a la inversión de la empresa los clientes en un tiempo determinado,en este caso por mes."
      ]
    },
    {
      "cell_type": "code",
      "metadata": {
        "id": "X_OG33nN7pI5",
        "colab": {
          "base_uri": "https://localhost:8080/",
          "height": 424
        },
        "outputId": "7ce07006-c647-467b-f057-6d655595f647"
      },
      "source": [
        "#Creamos un nuevo dataframe con los valores necesarios para obtener el lifetime value del cliente\n",
        "clv = pd.DataFrame()\n",
        "clv['ID'] = data['ID']\n",
        "clv['Dt_Customer'] = data['Dt_Customer']\n",
        "clv['MntWines'] = data['MntWines']\n",
        "clv['MntFruits'] = data['MntFruits']\n",
        "clv['MntMeatProducts'] = data['MntMeatProducts']\n",
        "clv['MntFishProducts'] = data['MntFishProducts']\n",
        "clv['MntSweetProducts'] = data['MntSweetProducts']\n",
        "clv['MntGoldProds'] = data['MntGoldProds']\n",
        "clv"
      ],
      "execution_count": 40,
      "outputs": [
        {
          "output_type": "execute_result",
          "data": {
            "text/html": [
              "<div>\n",
              "<style scoped>\n",
              "    .dataframe tbody tr th:only-of-type {\n",
              "        vertical-align: middle;\n",
              "    }\n",
              "\n",
              "    .dataframe tbody tr th {\n",
              "        vertical-align: top;\n",
              "    }\n",
              "\n",
              "    .dataframe thead th {\n",
              "        text-align: right;\n",
              "    }\n",
              "</style>\n",
              "<table border=\"1\" class=\"dataframe\">\n",
              "  <thead>\n",
              "    <tr style=\"text-align: right;\">\n",
              "      <th></th>\n",
              "      <th>ID</th>\n",
              "      <th>Dt_Customer</th>\n",
              "      <th>MntWines</th>\n",
              "      <th>MntFruits</th>\n",
              "      <th>MntMeatProducts</th>\n",
              "      <th>MntFishProducts</th>\n",
              "      <th>MntSweetProducts</th>\n",
              "      <th>MntGoldProds</th>\n",
              "    </tr>\n",
              "  </thead>\n",
              "  <tbody>\n",
              "    <tr>\n",
              "      <th>0</th>\n",
              "      <td>1826</td>\n",
              "      <td>6/16/14</td>\n",
              "      <td>189</td>\n",
              "      <td>104</td>\n",
              "      <td>379</td>\n",
              "      <td>111</td>\n",
              "      <td>189</td>\n",
              "      <td>218</td>\n",
              "    </tr>\n",
              "    <tr>\n",
              "      <th>1</th>\n",
              "      <td>1</td>\n",
              "      <td>6/15/14</td>\n",
              "      <td>464</td>\n",
              "      <td>5</td>\n",
              "      <td>64</td>\n",
              "      <td>7</td>\n",
              "      <td>0</td>\n",
              "      <td>37</td>\n",
              "    </tr>\n",
              "    <tr>\n",
              "      <th>2</th>\n",
              "      <td>10476</td>\n",
              "      <td>5/13/14</td>\n",
              "      <td>134</td>\n",
              "      <td>11</td>\n",
              "      <td>59</td>\n",
              "      <td>15</td>\n",
              "      <td>2</td>\n",
              "      <td>30</td>\n",
              "    </tr>\n",
              "    <tr>\n",
              "      <th>3</th>\n",
              "      <td>1386</td>\n",
              "      <td>5/11/14</td>\n",
              "      <td>10</td>\n",
              "      <td>0</td>\n",
              "      <td>1</td>\n",
              "      <td>0</td>\n",
              "      <td>0</td>\n",
              "      <td>0</td>\n",
              "    </tr>\n",
              "    <tr>\n",
              "      <th>4</th>\n",
              "      <td>5371</td>\n",
              "      <td>4/8/14</td>\n",
              "      <td>6</td>\n",
              "      <td>16</td>\n",
              "      <td>24</td>\n",
              "      <td>11</td>\n",
              "      <td>0</td>\n",
              "      <td>34</td>\n",
              "    </tr>\n",
              "    <tr>\n",
              "      <th>...</th>\n",
              "      <td>...</td>\n",
              "      <td>...</td>\n",
              "      <td>...</td>\n",
              "      <td>...</td>\n",
              "      <td>...</td>\n",
              "      <td>...</td>\n",
              "      <td>...</td>\n",
              "      <td>...</td>\n",
              "    </tr>\n",
              "    <tr>\n",
              "      <th>2232</th>\n",
              "      <td>10142</td>\n",
              "      <td>3/7/13</td>\n",
              "      <td>372</td>\n",
              "      <td>18</td>\n",
              "      <td>126</td>\n",
              "      <td>47</td>\n",
              "      <td>48</td>\n",
              "      <td>78</td>\n",
              "    </tr>\n",
              "    <tr>\n",
              "      <th>2233</th>\n",
              "      <td>5263</td>\n",
              "      <td>1/22/13</td>\n",
              "      <td>5</td>\n",
              "      <td>10</td>\n",
              "      <td>13</td>\n",
              "      <td>3</td>\n",
              "      <td>8</td>\n",
              "      <td>16</td>\n",
              "    </tr>\n",
              "    <tr>\n",
              "      <th>2234</th>\n",
              "      <td>22</td>\n",
              "      <td>12/3/12</td>\n",
              "      <td>185</td>\n",
              "      <td>2</td>\n",
              "      <td>88</td>\n",
              "      <td>15</td>\n",
              "      <td>5</td>\n",
              "      <td>14</td>\n",
              "    </tr>\n",
              "    <tr>\n",
              "      <th>2235</th>\n",
              "      <td>528</td>\n",
              "      <td>11/29/12</td>\n",
              "      <td>267</td>\n",
              "      <td>38</td>\n",
              "      <td>701</td>\n",
              "      <td>149</td>\n",
              "      <td>165</td>\n",
              "      <td>63</td>\n",
              "    </tr>\n",
              "    <tr>\n",
              "      <th>2236</th>\n",
              "      <td>4070</td>\n",
              "      <td>9/1/12</td>\n",
              "      <td>169</td>\n",
              "      <td>24</td>\n",
              "      <td>553</td>\n",
              "      <td>188</td>\n",
              "      <td>0</td>\n",
              "      <td>144</td>\n",
              "    </tr>\n",
              "  </tbody>\n",
              "</table>\n",
              "<p>2237 rows × 8 columns</p>\n",
              "</div>"
            ],
            "text/plain": [
              "         ID Dt_Customer  ...  MntSweetProducts  MntGoldProds\n",
              "0      1826     6/16/14  ...               189           218\n",
              "1         1     6/15/14  ...                 0            37\n",
              "2     10476     5/13/14  ...                 2            30\n",
              "3      1386     5/11/14  ...                 0             0\n",
              "4      5371      4/8/14  ...                 0            34\n",
              "...     ...         ...  ...               ...           ...\n",
              "2232  10142      3/7/13  ...                48            78\n",
              "2233   5263     1/22/13  ...                 8            16\n",
              "2234     22     12/3/12  ...                 5            14\n",
              "2235    528    11/29/12  ...               165            63\n",
              "2236   4070      9/1/12  ...                 0           144\n",
              "\n",
              "[2237 rows x 8 columns]"
            ]
          },
          "metadata": {},
          "execution_count": 40
        }
      ]
    },
    {
      "cell_type": "code",
      "metadata": {
        "colab": {
          "base_uri": "https://localhost:8080/",
          "height": 424
        },
        "id": "zlkIw0Yaxv0i",
        "outputId": "94cded3e-375e-40a5-e69b-c37b9f441eb4"
      },
      "source": [
        "#Sacamos el total de compras\n",
        "purchases_col=[col for col in clv.columns if 'Mnt' in col]#variable para las columnas que contienen la palabra 'Purchase' sumar aplicado en forma de filas.\n",
        "clv['Recompra']=clv[purchases_col].sum(axis=1)\n",
        "clv"
      ],
      "execution_count": 41,
      "outputs": [
        {
          "output_type": "execute_result",
          "data": {
            "text/html": [
              "<div>\n",
              "<style scoped>\n",
              "    .dataframe tbody tr th:only-of-type {\n",
              "        vertical-align: middle;\n",
              "    }\n",
              "\n",
              "    .dataframe tbody tr th {\n",
              "        vertical-align: top;\n",
              "    }\n",
              "\n",
              "    .dataframe thead th {\n",
              "        text-align: right;\n",
              "    }\n",
              "</style>\n",
              "<table border=\"1\" class=\"dataframe\">\n",
              "  <thead>\n",
              "    <tr style=\"text-align: right;\">\n",
              "      <th></th>\n",
              "      <th>ID</th>\n",
              "      <th>Dt_Customer</th>\n",
              "      <th>MntWines</th>\n",
              "      <th>MntFruits</th>\n",
              "      <th>MntMeatProducts</th>\n",
              "      <th>MntFishProducts</th>\n",
              "      <th>MntSweetProducts</th>\n",
              "      <th>MntGoldProds</th>\n",
              "      <th>Recompra</th>\n",
              "    </tr>\n",
              "  </thead>\n",
              "  <tbody>\n",
              "    <tr>\n",
              "      <th>0</th>\n",
              "      <td>1826</td>\n",
              "      <td>6/16/14</td>\n",
              "      <td>189</td>\n",
              "      <td>104</td>\n",
              "      <td>379</td>\n",
              "      <td>111</td>\n",
              "      <td>189</td>\n",
              "      <td>218</td>\n",
              "      <td>1190</td>\n",
              "    </tr>\n",
              "    <tr>\n",
              "      <th>1</th>\n",
              "      <td>1</td>\n",
              "      <td>6/15/14</td>\n",
              "      <td>464</td>\n",
              "      <td>5</td>\n",
              "      <td>64</td>\n",
              "      <td>7</td>\n",
              "      <td>0</td>\n",
              "      <td>37</td>\n",
              "      <td>577</td>\n",
              "    </tr>\n",
              "    <tr>\n",
              "      <th>2</th>\n",
              "      <td>10476</td>\n",
              "      <td>5/13/14</td>\n",
              "      <td>134</td>\n",
              "      <td>11</td>\n",
              "      <td>59</td>\n",
              "      <td>15</td>\n",
              "      <td>2</td>\n",
              "      <td>30</td>\n",
              "      <td>251</td>\n",
              "    </tr>\n",
              "    <tr>\n",
              "      <th>3</th>\n",
              "      <td>1386</td>\n",
              "      <td>5/11/14</td>\n",
              "      <td>10</td>\n",
              "      <td>0</td>\n",
              "      <td>1</td>\n",
              "      <td>0</td>\n",
              "      <td>0</td>\n",
              "      <td>0</td>\n",
              "      <td>11</td>\n",
              "    </tr>\n",
              "    <tr>\n",
              "      <th>4</th>\n",
              "      <td>5371</td>\n",
              "      <td>4/8/14</td>\n",
              "      <td>6</td>\n",
              "      <td>16</td>\n",
              "      <td>24</td>\n",
              "      <td>11</td>\n",
              "      <td>0</td>\n",
              "      <td>34</td>\n",
              "      <td>91</td>\n",
              "    </tr>\n",
              "    <tr>\n",
              "      <th>...</th>\n",
              "      <td>...</td>\n",
              "      <td>...</td>\n",
              "      <td>...</td>\n",
              "      <td>...</td>\n",
              "      <td>...</td>\n",
              "      <td>...</td>\n",
              "      <td>...</td>\n",
              "      <td>...</td>\n",
              "      <td>...</td>\n",
              "    </tr>\n",
              "    <tr>\n",
              "      <th>2232</th>\n",
              "      <td>10142</td>\n",
              "      <td>3/7/13</td>\n",
              "      <td>372</td>\n",
              "      <td>18</td>\n",
              "      <td>126</td>\n",
              "      <td>47</td>\n",
              "      <td>48</td>\n",
              "      <td>78</td>\n",
              "      <td>689</td>\n",
              "    </tr>\n",
              "    <tr>\n",
              "      <th>2233</th>\n",
              "      <td>5263</td>\n",
              "      <td>1/22/13</td>\n",
              "      <td>5</td>\n",
              "      <td>10</td>\n",
              "      <td>13</td>\n",
              "      <td>3</td>\n",
              "      <td>8</td>\n",
              "      <td>16</td>\n",
              "      <td>55</td>\n",
              "    </tr>\n",
              "    <tr>\n",
              "      <th>2234</th>\n",
              "      <td>22</td>\n",
              "      <td>12/3/12</td>\n",
              "      <td>185</td>\n",
              "      <td>2</td>\n",
              "      <td>88</td>\n",
              "      <td>15</td>\n",
              "      <td>5</td>\n",
              "      <td>14</td>\n",
              "      <td>309</td>\n",
              "    </tr>\n",
              "    <tr>\n",
              "      <th>2235</th>\n",
              "      <td>528</td>\n",
              "      <td>11/29/12</td>\n",
              "      <td>267</td>\n",
              "      <td>38</td>\n",
              "      <td>701</td>\n",
              "      <td>149</td>\n",
              "      <td>165</td>\n",
              "      <td>63</td>\n",
              "      <td>1383</td>\n",
              "    </tr>\n",
              "    <tr>\n",
              "      <th>2236</th>\n",
              "      <td>4070</td>\n",
              "      <td>9/1/12</td>\n",
              "      <td>169</td>\n",
              "      <td>24</td>\n",
              "      <td>553</td>\n",
              "      <td>188</td>\n",
              "      <td>0</td>\n",
              "      <td>144</td>\n",
              "      <td>1078</td>\n",
              "    </tr>\n",
              "  </tbody>\n",
              "</table>\n",
              "<p>2237 rows × 9 columns</p>\n",
              "</div>"
            ],
            "text/plain": [
              "         ID Dt_Customer  MntWines  ...  MntSweetProducts  MntGoldProds  Recompra\n",
              "0      1826     6/16/14       189  ...               189           218      1190\n",
              "1         1     6/15/14       464  ...                 0            37       577\n",
              "2     10476     5/13/14       134  ...                 2            30       251\n",
              "3      1386     5/11/14        10  ...                 0             0        11\n",
              "4      5371      4/8/14         6  ...                 0            34        91\n",
              "...     ...         ...       ...  ...               ...           ...       ...\n",
              "2232  10142      3/7/13       372  ...                48            78       689\n",
              "2233   5263     1/22/13         5  ...                 8            16        55\n",
              "2234     22     12/3/12       185  ...                 5            14       309\n",
              "2235    528    11/29/12       267  ...               165            63      1383\n",
              "2236   4070      9/1/12       169  ...                 0           144      1078\n",
              "\n",
              "[2237 rows x 9 columns]"
            ]
          },
          "metadata": {},
          "execution_count": 41
        }
      ]
    },
    {
      "cell_type": "code",
      "metadata": {
        "id": "ugSjJCT-xyU7"
      },
      "source": [
        "#Creamos un diccionario con el valor de cada producto\n",
        "productos = {'Wines': 10, 'Fruits': 2, 'Meats': 5, 'Fish': 4, 'Sweet': 3, 'Gold': 20}"
      ],
      "execution_count": 42,
      "outputs": []
    },
    {
      "cell_type": "code",
      "metadata": {
        "colab": {
          "base_uri": "https://localhost:8080/",
          "height": 424
        },
        "id": "owxHKYDFx1wl",
        "outputId": "94946f85-46dd-4ab6-a80a-90535916a97e"
      },
      "source": [
        "#Cambiamos los campos que estan por unidad a precio del producto\n",
        "clv['MntWines'] = clv['MntWines'] * int(productos['Wines'])\n",
        "clv['MntFruits'] = clv['MntFruits'] * int(productos['Fruits'])\n",
        "clv['MntMeatProducts'] = clv['MntMeatProducts'] * int(productos['Meats'])\n",
        "clv['MntFishProducts'] = clv['MntFishProducts'] * int(productos['Fish'])\n",
        "clv['MntSweetProducts'] = clv['MntSweetProducts'] * int(productos['Sweet'])\n",
        "clv['MntGoldProds'] = clv['MntGoldProds'] * int(productos['Gold'])\n",
        "clv"
      ],
      "execution_count": 43,
      "outputs": [
        {
          "output_type": "execute_result",
          "data": {
            "text/html": [
              "<div>\n",
              "<style scoped>\n",
              "    .dataframe tbody tr th:only-of-type {\n",
              "        vertical-align: middle;\n",
              "    }\n",
              "\n",
              "    .dataframe tbody tr th {\n",
              "        vertical-align: top;\n",
              "    }\n",
              "\n",
              "    .dataframe thead th {\n",
              "        text-align: right;\n",
              "    }\n",
              "</style>\n",
              "<table border=\"1\" class=\"dataframe\">\n",
              "  <thead>\n",
              "    <tr style=\"text-align: right;\">\n",
              "      <th></th>\n",
              "      <th>ID</th>\n",
              "      <th>Dt_Customer</th>\n",
              "      <th>MntWines</th>\n",
              "      <th>MntFruits</th>\n",
              "      <th>MntMeatProducts</th>\n",
              "      <th>MntFishProducts</th>\n",
              "      <th>MntSweetProducts</th>\n",
              "      <th>MntGoldProds</th>\n",
              "      <th>Recompra</th>\n",
              "    </tr>\n",
              "  </thead>\n",
              "  <tbody>\n",
              "    <tr>\n",
              "      <th>0</th>\n",
              "      <td>1826</td>\n",
              "      <td>6/16/14</td>\n",
              "      <td>1890</td>\n",
              "      <td>208</td>\n",
              "      <td>1895</td>\n",
              "      <td>444</td>\n",
              "      <td>567</td>\n",
              "      <td>4360</td>\n",
              "      <td>1190</td>\n",
              "    </tr>\n",
              "    <tr>\n",
              "      <th>1</th>\n",
              "      <td>1</td>\n",
              "      <td>6/15/14</td>\n",
              "      <td>4640</td>\n",
              "      <td>10</td>\n",
              "      <td>320</td>\n",
              "      <td>28</td>\n",
              "      <td>0</td>\n",
              "      <td>740</td>\n",
              "      <td>577</td>\n",
              "    </tr>\n",
              "    <tr>\n",
              "      <th>2</th>\n",
              "      <td>10476</td>\n",
              "      <td>5/13/14</td>\n",
              "      <td>1340</td>\n",
              "      <td>22</td>\n",
              "      <td>295</td>\n",
              "      <td>60</td>\n",
              "      <td>6</td>\n",
              "      <td>600</td>\n",
              "      <td>251</td>\n",
              "    </tr>\n",
              "    <tr>\n",
              "      <th>3</th>\n",
              "      <td>1386</td>\n",
              "      <td>5/11/14</td>\n",
              "      <td>100</td>\n",
              "      <td>0</td>\n",
              "      <td>5</td>\n",
              "      <td>0</td>\n",
              "      <td>0</td>\n",
              "      <td>0</td>\n",
              "      <td>11</td>\n",
              "    </tr>\n",
              "    <tr>\n",
              "      <th>4</th>\n",
              "      <td>5371</td>\n",
              "      <td>4/8/14</td>\n",
              "      <td>60</td>\n",
              "      <td>32</td>\n",
              "      <td>120</td>\n",
              "      <td>44</td>\n",
              "      <td>0</td>\n",
              "      <td>680</td>\n",
              "      <td>91</td>\n",
              "    </tr>\n",
              "    <tr>\n",
              "      <th>...</th>\n",
              "      <td>...</td>\n",
              "      <td>...</td>\n",
              "      <td>...</td>\n",
              "      <td>...</td>\n",
              "      <td>...</td>\n",
              "      <td>...</td>\n",
              "      <td>...</td>\n",
              "      <td>...</td>\n",
              "      <td>...</td>\n",
              "    </tr>\n",
              "    <tr>\n",
              "      <th>2232</th>\n",
              "      <td>10142</td>\n",
              "      <td>3/7/13</td>\n",
              "      <td>3720</td>\n",
              "      <td>36</td>\n",
              "      <td>630</td>\n",
              "      <td>188</td>\n",
              "      <td>144</td>\n",
              "      <td>1560</td>\n",
              "      <td>689</td>\n",
              "    </tr>\n",
              "    <tr>\n",
              "      <th>2233</th>\n",
              "      <td>5263</td>\n",
              "      <td>1/22/13</td>\n",
              "      <td>50</td>\n",
              "      <td>20</td>\n",
              "      <td>65</td>\n",
              "      <td>12</td>\n",
              "      <td>24</td>\n",
              "      <td>320</td>\n",
              "      <td>55</td>\n",
              "    </tr>\n",
              "    <tr>\n",
              "      <th>2234</th>\n",
              "      <td>22</td>\n",
              "      <td>12/3/12</td>\n",
              "      <td>1850</td>\n",
              "      <td>4</td>\n",
              "      <td>440</td>\n",
              "      <td>60</td>\n",
              "      <td>15</td>\n",
              "      <td>280</td>\n",
              "      <td>309</td>\n",
              "    </tr>\n",
              "    <tr>\n",
              "      <th>2235</th>\n",
              "      <td>528</td>\n",
              "      <td>11/29/12</td>\n",
              "      <td>2670</td>\n",
              "      <td>76</td>\n",
              "      <td>3505</td>\n",
              "      <td>596</td>\n",
              "      <td>495</td>\n",
              "      <td>1260</td>\n",
              "      <td>1383</td>\n",
              "    </tr>\n",
              "    <tr>\n",
              "      <th>2236</th>\n",
              "      <td>4070</td>\n",
              "      <td>9/1/12</td>\n",
              "      <td>1690</td>\n",
              "      <td>48</td>\n",
              "      <td>2765</td>\n",
              "      <td>752</td>\n",
              "      <td>0</td>\n",
              "      <td>2880</td>\n",
              "      <td>1078</td>\n",
              "    </tr>\n",
              "  </tbody>\n",
              "</table>\n",
              "<p>2237 rows × 9 columns</p>\n",
              "</div>"
            ],
            "text/plain": [
              "         ID Dt_Customer  MntWines  ...  MntSweetProducts  MntGoldProds  Recompra\n",
              "0      1826     6/16/14      1890  ...               567          4360      1190\n",
              "1         1     6/15/14      4640  ...                 0           740       577\n",
              "2     10476     5/13/14      1340  ...                 6           600       251\n",
              "3      1386     5/11/14       100  ...                 0             0        11\n",
              "4      5371      4/8/14        60  ...                 0           680        91\n",
              "...     ...         ...       ...  ...               ...           ...       ...\n",
              "2232  10142      3/7/13      3720  ...               144          1560       689\n",
              "2233   5263     1/22/13        50  ...                24           320        55\n",
              "2234     22     12/3/12      1850  ...                15           280       309\n",
              "2235    528    11/29/12      2670  ...               495          1260      1383\n",
              "2236   4070      9/1/12      1690  ...                 0          2880      1078\n",
              "\n",
              "[2237 rows x 9 columns]"
            ]
          },
          "metadata": {},
          "execution_count": 43
        }
      ]
    },
    {
      "cell_type": "code",
      "metadata": {
        "id": "-R0SOwAdx99S"
      },
      "source": [
        "#Creamos el nuevo campo con la suma de todos los campos\n",
        "clv['total_compra'] = clv['MntWines'] + clv['MntFruits'] + clv['MntMeatProducts'] + clv['MntFishProducts'] + clv['MntSweetProducts'] + clv['MntGoldProds']"
      ],
      "execution_count": 44,
      "outputs": []
    },
    {
      "cell_type": "code",
      "metadata": {
        "colab": {
          "base_uri": "https://localhost:8080/"
        },
        "id": "0OJWgP81yEcd",
        "outputId": "35fb54cd-b836-414b-bbe0-de4dad671f5c"
      },
      "source": [
        "clv['Dt_Customer']=pd.to_datetime(clv['Dt_Customer']) #variable que necesita una transformacion. Convertir de formato objet a tipo fecha.\n",
        "clv['Dt_Customer']"
      ],
      "execution_count": 45,
      "outputs": [
        {
          "output_type": "execute_result",
          "data": {
            "text/plain": [
              "0      2014-06-16\n",
              "1      2014-06-15\n",
              "2      2014-05-13\n",
              "3      2014-05-11\n",
              "4      2014-04-08\n",
              "          ...    \n",
              "2232   2013-03-07\n",
              "2233   2013-01-22\n",
              "2234   2012-12-03\n",
              "2235   2012-11-29\n",
              "2236   2012-09-01\n",
              "Name: Dt_Customer, Length: 2237, dtype: datetime64[ns]"
            ]
          },
          "metadata": {},
          "execution_count": 45
        }
      ]
    },
    {
      "cell_type": "code",
      "metadata": {
        "colab": {
          "base_uri": "https://localhost:8080/"
        },
        "id": "hak5EkrryWxv",
        "outputId": "eaa28269-2e93-477e-d592-fce1567864a8"
      },
      "source": [
        "max_date = clv['Dt_Customer'].dt.date.max() #Encontramos la fecha maxima\n",
        "min_date = clv['Dt_Customer'].dt.date.min() #Encontramos la fecha minima\n",
        "total_cantidad = clv['Recompra'].sum() #Sumamos el total de los productos comprados\n",
        "total_ventas = clv['total_compra'].sum() #Sumamos el valor de las ventas\n",
        " \n",
        "print(f\"El rango de fechas de las compras es de {min_date} a {max_date}\")\n",
        "print(f\"Cantidad total de ventas: {total_cantidad} y total de ventas por periodo: {total_ventas}\")"
      ],
      "execution_count": 46,
      "outputs": [
        {
          "output_type": "stream",
          "name": "stdout",
          "text": [
            "El rango de fechas de las compras es de 2012-07-30 a 2014-06-29\n",
            "Cantidad total de ventas: 1355048 y total de ventas por periodo: 11269454\n"
          ]
        }
      ]
    },
    {
      "cell_type": "code",
      "metadata": {
        "id": "KoKkjX6nyk8I"
      },
      "source": [
        "#Asignamos una columna con el nombre de fecha, donde nos va a indicar los dias que lleva en la tienda\n",
        "clv['fecha']= pd.to_datetime(clv['Dt_Customer'], dayfirst=True,format = '%Y-%m-%d')\n",
        "clv['fecha'] = pd.to_numeric(clv['fecha'].dt.date.apply(lambda x: (max_date - x)).dt.days, downcast='integer',errors=\"ignore\")"
      ],
      "execution_count": 47,
      "outputs": []
    },
    {
      "cell_type": "code",
      "metadata": {
        "id": "MW0Trym9yx4m"
      },
      "source": [
        "#Creamos un nuevo DataFeame donde se evidencie los campos, del tiempo del cliente (en dias), las veces que compro y el total de las compras\n",
        "cliente = pd.DataFrame()\n",
        "cliente['Periodo_cliente'] = clv['fecha']\n",
        "cliente['Frecuencia'] = clv['Recompra']\n",
        "cliente['Ventas']= clv['total_compra']"
      ],
      "execution_count": 49,
      "outputs": []
    },
    {
      "cell_type": "code",
      "metadata": {
        "colab": {
          "base_uri": "https://localhost:8080/"
        },
        "id": "zG6vXau3y-27",
        "outputId": "3b50c214-8ff4-4d83-c80c-166d009a2fb9"
      },
      "source": [
        "#Sacamos los valores que necesitamos para obtener el VLC\n",
        "promedio_ventas = round(np.mean(cliente['Ventas']), 2)\n",
        "print(f\"Promedio ventas: $ {promedio_ventas}\")\n",
        "\n",
        "frecuencia_compra = round(np.mean(cliente['Frecuencia']), 2)\n",
        "print(f\"Frecuencia compra: $ {frecuencia_compra}\")\n",
        "\n",
        "tasa_retencion = cliente[cliente['Frecuencia']>10].shape[0]/cliente.shape[0]\n",
        "tasa_cancelacion = round(1-tasa_retencion, 2)\n",
        "print(f\"Tasa cancelación: $ {tasa_cancelacion} %\")"
      ],
      "execution_count": 50,
      "outputs": [
        {
          "output_type": "stream",
          "name": "stdout",
          "text": [
            "Promedio ventas: $ 5037.75\n",
            "Frecuencia compra: $ 605.74\n",
            "Tasa cancelación: $ 0.01 %\n"
          ]
        }
      ]
    },
    {
      "cell_type": "code",
      "metadata": {
        "colab": {
          "base_uri": "https://localhost:8080/"
        },
        "id": "7Hk6GWQtzFA7",
        "outputId": "403f8d04-f4f1-4671-93e1-38f5650c746a"
      },
      "source": [
        "margen_beneficio = 0.05\n",
        "CLV = round(((promedio_ventas * frecuencia_compra / tasa_retencion)) * margen_beneficio, 2)\n",
        "print(f\"El valor de vida del cliente (CLV) para cada cliente es: $ {CLV}\")"
      ],
      "execution_count": 51,
      "outputs": [
        {
          "output_type": "stream",
          "name": "stdout",
          "text": [
            "El valor de vida del cliente (CLV) para cada cliente es: $ 153539.24\n"
          ]
        }
      ]
    },
    {
      "cell_type": "code",
      "metadata": {
        "colab": {
          "base_uri": "https://localhost:8080/"
        },
        "id": "TGhjdazWzIit",
        "outputId": "54d2bc03-1a02-4598-f932-11e96b6ab931"
      },
      "source": [
        "cliente['Ventas'].describe()"
      ],
      "execution_count": 52,
      "outputs": [
        {
          "output_type": "execute_result",
          "data": {
            "text/plain": [
              "count     2237.000000\n",
              "mean      5037.753241\n",
              "std       4858.565002\n",
              "min         44.000000\n",
              "25%        636.000000\n",
              "50%       3453.000000\n",
              "75%       8497.000000\n",
              "max      21793.000000\n",
              "Name: Ventas, dtype: float64"
            ]
          },
          "metadata": {},
          "execution_count": 52
        }
      ]
    },
    {
      "cell_type": "markdown",
      "metadata": {
        "id": "9QVJqz9wzMNH"
      },
      "source": [
        "Se verificara que el valor CLV del cliente es un valor que tiene sentido"
      ]
    },
    {
      "cell_type": "code",
      "metadata": {
        "id": "ImQW7BlvzM6y"
      },
      "source": [
        "cliente['inicio_cliente'] = (pd.to_datetime(data['Dt_Customer'], errors=\"coerce\").dt.month) #Este campo es el mes en el cual el cliente inicio"
      ],
      "execution_count": 53,
      "outputs": []
    },
    {
      "cell_type": "code",
      "metadata": {
        "colab": {
          "base_uri": "https://localhost:8080/"
        },
        "id": "Y6GvkZIDzagP",
        "outputId": "2d15f6b1-0b08-47ce-eae3-5e1106243f5d"
      },
      "source": [
        "meses = ['Enero', 'Febrero', 'Marzo', 'Abril', 'Mayo', 'Junio', 'Julio', 'Agosto', 'Septiembre', 'Octubre', 'Noviembre', 'Diciembre']  \n",
        "\n",
        "mensual_clv = []\n",
        "\n",
        "for i in range(1, 13): \n",
        "  cliente_m = cliente[cliente['inicio_cliente'] == i]\n",
        "  promedio_ventas = round(np.mean(cliente_m['Ventas']), 2)\n",
        "  frecuencia_ventas = round(np.mean(cliente_m['Frecuencia']), 2)\n",
        "  indice_retencion = cliente_m[cliente_m['Frecuencia'] > 15].shape[0]/cliente_m.shape[0] #Intentamos hayar el CLV con una frecuencia que fuera mayor a 1, pero nos daba 0.0 y generaba error\n",
        "  tasa_cancelacion = round(1-indice_retencion, 2)\n",
        "  CLV = round(((promedio_ventas * frecuencia_ventas / tasa_cancelacion)) * margen_beneficio, 2)\n",
        "  mensual_clv.append(meses[i-1])\n",
        "  mensual_clv.append(CLV)\n",
        "mensual_clv"
      ],
      "execution_count": 54,
      "outputs": [
        {
          "output_type": "execute_result",
          "data": {
            "text/plain": [
              "['Enero',\n",
              " 7643680.04,\n",
              " 'Febrero',\n",
              " 16337211.56,\n",
              " 'Marzo',\n",
              " 12418957.11,\n",
              " 'Abril',\n",
              " 6496627.73,\n",
              " 'Mayo',\n",
              " 7213444.57,\n",
              " 'Junio',\n",
              " 2078630.4,\n",
              " 'Julio',\n",
              " 11228485.63,\n",
              " 'Agosto',\n",
              " 9210492.76,\n",
              " 'Septiembre',\n",
              " 9723369.84,\n",
              " 'Octubre',\n",
              " 16379896.3,\n",
              " 'Noviembre',\n",
              " 22272476.3,\n",
              " 'Diciembre',\n",
              " 6327529.58]"
            ]
          },
          "metadata": {},
          "execution_count": 54
        }
      ]
    },
    {
      "cell_type": "markdown",
      "metadata": {
        "id": "vkxy0CIw1JFY"
      },
      "source": [
        "Ahora, si observa el resultado, tenemos 12 valores de CLV diferentes durante 12 meses desde enero hasta diciembre. Y los clientes que se adquieren en diferentes meses tienen diferentes valores CLV adjuntos. Esto se debe a que podrían adquirirse mediante diferentes campañas, etc., por lo que su comportamiento puede ser diferente al de los demás."
      ]
    },
    {
      "cell_type": "markdown",
      "metadata": {
        "id": "9gmdXdquy6bm"
      },
      "source": [
        "# Parte 7: ¿Cual es el nivel de sastifaccion del cliente con los productos que ofrece la tienda durante los dos ultimos años?"
      ]
    },
    {
      "cell_type": "code",
      "metadata": {
        "id": "4Y_JiUbyJdDD"
      },
      "source": [
        "#Para saber que porcentaje de sastifaccion hay en los clientes, toca verificar la cantidad de quejas\n",
        "sastifaccion = data['Complain'].count()\n",
        "cantidad = data.groupby('Complain')['Complain'].count()\n",
        "positivo = cantidad[0] * 100 / sastifaccion\n",
        "negativo = cantidad[1] * 100 / sastifaccion"
      ],
      "execution_count": 101,
      "outputs": []
    },
    {
      "cell_type": "code",
      "metadata": {
        "colab": {
          "base_uri": "https://localhost:8080/",
          "height": 282
        },
        "id": "MjuoYDLPc7yi",
        "outputId": "92ba82b6-7377-4c4b-c4c9-4de269d0b2a3"
      },
      "source": [
        "#Graficamos\n",
        "val = [positivo, negativo]\n",
        "labels = ['SIN QUEJAS', 'CON QUEJAS']\n",
        "expl = [0, 0]\n",
        "plt.pie(val, labels=labels, explode=expl, startangle=150, shadow=True, autopct='%1.1f%%', radius=1, colors=['#d682ea', '#82eae4'])\n",
        "plt.title(\"Sastifacción de los clientes\")"
      ],
      "execution_count": 127,
      "outputs": [
        {
          "output_type": "execute_result",
          "data": {
            "text/plain": [
              "Text(0.5, 1.0, 'Sastifacción de los clientes')"
            ]
          },
          "metadata": {},
          "execution_count": 127
        },
        {
          "output_type": "display_data",
          "data": {
            "image/png": "[encoded data removed]",
            "text/plain": [
              "<Figure size 432x288 with 1 Axes>"
            ]
          },
          "metadata": {}
        }
      ]
    },
    {
      "cell_type": "markdown",
      "metadata": {
        "id": "4ZEsRBoGp3of"
      },
      "source": [
        "Esto nos indica que la tienda tiene sastifecho a sus clientes, ya que no se presentaron muchas quejas en los ultimos dos años."
      ]
    },
    {
      "cell_type": "markdown",
      "metadata": {
        "id": "s2ScEb1FvC2J"
      },
      "source": [
        "***Integrantes del proyecto:***\n",
        "\n",
        "\n",
        "*   Angela Liliam Benavides Suarez\n",
        "*   Gabriela León González\n",
        "\n"
      ]
    }
  ]
}