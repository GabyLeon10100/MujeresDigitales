{
  "nbformat": 4,
  "nbformat_minor": 0,
  "metadata": {
    "colab": {
      "name": "Clase8_taller2.ipynb",
      "provenance": [],
      "authorship_tag": "ABX9TyOveT7HCGtUQTJUHQlpv960",
      "include_colab_link": true
    },
    "kernelspec": {
      "name": "python3",
      "display_name": "Python 3"
    },
    "language_info": {
      "name": "python"
    }
  },
  "cells": [
    {
      "cell_type": "markdown",
      "metadata": {
        "id": "view-in-github",
        "colab_type": "text"
      },
      "source": [
        "<a href=\"https://colab.research.google.com/github/GabyLeon10100/MujeresDigitales/blob/main/Clase8_taller2.ipynb\" target=\"_parent\"><img src=\"https://colab.research.google.com/assets/colab-badge.svg\" alt=\"Open In Colab\"/></a>"
      ]
    },
    {
      "cell_type": "markdown",
      "metadata": {
        "id": "jaf_MmaFMwWx"
      },
      "source": [
        "**Ejercicio de práctica**\n",
        "\n",
        "---\n",
        "Se le pide a la analista realizar una estimación poblacional a partir de información descriptiva relevante sobre la población de los países en vía de desarrollo.\n",
        "\n",
        "Para ello de inicio se solicita que se cree un programa que permita ingresar como prueba 5 países y su respectiva población e identificar que país tiene la mayoria de cantidad de habitantes.\n"
      ]
    },
    {
      "cell_type": "code",
      "metadata": {
        "colab": {
          "base_uri": "https://localhost:8080/"
        },
        "id": "TuW4xT67NAre",
        "outputId": "4e111355-9e58-4f11-c9f0-734b5c0bfb54"
      },
      "source": [
        "def poblacion():\n",
        "  pais=[]\n",
        "  for x in range(2):\n",
        "    nombre = input(\"Ingresa el nombre del país\")\n",
        "    cant = int(input(\"Ingrese la cantidad de habitantes:\"))\n",
        "    pais.append((nombre, cant))\n",
        "  return pais\n",
        "\n",
        "def view(pais):\n",
        "  print(\"Habitantes por país\")\n",
        "  for x in range(len(pais)):\n",
        "    print(pais[x][0], pais[x][1])\n",
        "\n",
        "def mayor(pais):\n",
        "  p=0\n",
        "  for x in range(1, len(pais)):\n",
        "    if pais[x][1]>pais[p][1]:\n",
        "      pos=x\n",
        "    print(\"El país con la más alta poblacion registrada es:\", pais[pos][0])\n",
        "\n",
        "pais = poblacion()\n",
        "view(pais)\n",
        "mayor(pais)"
      ],
      "execution_count": 12,
      "outputs": [
        {
          "output_type": "stream",
          "text": [
            "Ingresa el nombre del paísColombia\n",
            "Ingrese la cantidad de habitantes:2000\n",
            "Ingresa el nombre del paísPeru\n",
            "Ingrese la cantidad de habitantes:3500\n",
            "Habitantes por país\n",
            "Colombia 2000\n",
            "Peru 3500\n",
            "El país con la más alta poblacion registrada es: Peru\n"
          ],
          "name": "stdout"
        }
      ]
    }
  ]
}