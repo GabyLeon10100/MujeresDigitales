{
  "nbformat": 4,
  "nbformat_minor": 0,
  "metadata": {
    "colab": {
      "name": "Clase1.ipynb",
      "provenance": [],
      "authorship_tag": "ABX9TyM47+ldGRYnOKEMUcZ1FNr8",
      "include_colab_link": true
    },
    "kernelspec": {
      "name": "python3",
      "display_name": "Python 3"
    },
    "language_info": {
      "name": "python"
    }
  },
  "cells": [
    {
      "cell_type": "markdown",
      "metadata": {
        "id": "view-in-github",
        "colab_type": "text"
      },
      "source": [
        "<a href=\"https://colab.research.google.com/github/GabyLeon10100/MujeresDigitales/blob/main/Clase1.ipynb\" target=\"_parent\"><img src=\"https://colab.research.google.com/assets/colab-badge.svg\" alt=\"Open In Colab\"/></a>"
      ]
    },
    {
      "cell_type": "markdown",
      "metadata": {
        "id": "8GNh3-LU9heb"
      },
      "source": [
        "**Introducción**\n",
        "\n",
        "---\n",
        "Para manejar un código limpio en python: Podemos seguir las siguientes recomendaciones:\n",
        "\n",
        "\n",
        "1. Manejar siempre minusculas\n",
        "2. Se le puede añadir números\n",
        "3. Aparecerá un error si no están seguidos la declaración de la variable con el número asignado\n",
        "\n",
        "\n",
        "En Python hay varios tipos de datos compuestos y están disponibles por defecto en los interpretes.\n",
        "**¿De qué tipos?**\n",
        "1. Númericos\n",
        "2. Secuencias\n",
        "3. Mapeos\n",
        "4. Conjuntos usados para agrupar otros valores\n",
        "\n",
        "**Diferencia entre constantes y variables**\n",
        "En matematicas llamamos constante a una magnitud que no cambia con el paso del tiempo.\n",
        "Ejemplo: Contabilidad: Gastos Fijos_ Muebles de oficina\n",
        "Ejemplo 2: 6\n",
        "\n",
        "Por otro lado, el concepto de variable, como la cantidad que es susceptible a tomar distintios valores númericos **Ejemplo**\n"
      ]
    },
    {
      "cell_type": "code",
      "metadata": {
        "colab": {
          "base_uri": "https://localhost:8080/"
        },
        "id": "0DIbCqvK_V7K",
        "outputId": "20242014-c957-4ddc-8aeb-2d5e9631b157"
      },
      "source": [
        "x = 80\n",
        "print(x)"
      ],
      "execution_count": 2,
      "outputs": [
        {
          "output_type": "stream",
          "text": [
            "80\n"
          ],
          "name": "stdout"
        }
      ]
    },
    {
      "cell_type": "markdown",
      "metadata": {
        "id": "M_lKmoUT_rsN"
      },
      "source": [
        "**Tipos de datos**\n",
        "\n",
        "\n",
        "---\n",
        "\n",
        "**Enteros**\n",
        "\n",
        "*   Son los números que no tienen decimales\n",
        "*   Pueden ser positivos y negativos\n",
        "\n"
      ]
    },
    {
      "cell_type": "code",
      "metadata": {
        "colab": {
          "base_uri": "https://localhost:8080/"
        },
        "id": "ADPljFhf_9Rp",
        "outputId": "1e9e522b-d5fd-4eab-c629-1f6ef08bb743"
      },
      "source": [
        "a = int(3.444)\n",
        "print(a)"
      ],
      "execution_count": 3,
      "outputs": [
        {
          "output_type": "stream",
          "text": [
            "3\n"
          ],
          "name": "stdout"
        }
      ]
    },
    {
      "cell_type": "markdown",
      "metadata": {
        "id": "03VUc1GSAMPH"
      },
      "source": [
        "El comando int es para hacer alusión a números enteros. A parte el comando float, permite valores con decimales."
      ]
    },
    {
      "cell_type": "code",
      "metadata": {
        "colab": {
          "base_uri": "https://localhost:8080/"
        },
        "id": "45C4oK3G_8Ex",
        "outputId": "8013b630-0b4e-485e-ae9c-1cf1dc4e8571"
      },
      "source": [
        "b = float(8)\n",
        "print(b)"
      ],
      "execution_count": 5,
      "outputs": [
        {
          "output_type": "stream",
          "text": [
            "8.0\n"
          ],
          "name": "stdout"
        }
      ]
    },
    {
      "cell_type": "markdown",
      "metadata": {
        "id": "5qTDax2hAob8"
      },
      "source": [
        "**Tipo cadena**\n",
        "\n",
        "\n",
        "---\n",
        "\n",
        "Las cadenas son texto encerrado entre comillas(simples '' o dobles \"\") y se pueden conformar de diferentes caracteres (númericos, alfabeticos o especiales). \n",
        "Tener en cuenta, las cadenas admiten operadores como la suma y la resta. (Variable String)."
      ]
    },
    {
      "cell_type": "code",
      "metadata": {
        "colab": {
          "base_uri": "https://localhost:8080/"
        },
        "id": "yRoRtKYMBDZ9",
        "outputId": "6f21a9a1-e94a-44bf-fb74-fdd285124aed"
      },
      "source": [
        "val1 = \"Gabriela\"\n",
        "print(val1)\n",
        "\n",
        "val2 = \"Hola mundo\"\n",
        "print(val2)"
      ],
      "execution_count": 7,
      "outputs": [
        {
          "output_type": "stream",
          "text": [
            "Gabriela\n",
            "Hola mundo\n"
          ],
          "name": "stdout"
        }
      ]
    },
    {
      "cell_type": "code",
      "metadata": {
        "colab": {
          "base_uri": "https://localhost:8080/"
        },
        "id": "vyOEGGaqBUYV",
        "outputId": "4a6476ec-9e83-452e-f260-52c77b990197"
      },
      "source": [
        "n = \"Aprender\"\n",
        "z = \"Python\"\n",
        "nz = n + \" \" + z\n",
        "print(nz)"
      ],
      "execution_count": 10,
      "outputs": [
        {
          "output_type": "stream",
          "text": [
            "Aprender Python\n"
          ],
          "name": "stdout"
        }
      ]
    },
    {
      "cell_type": "markdown",
      "metadata": {
        "id": "bcc-sl1BC7t4"
      },
      "source": [
        "**Tipo Booleanos**\n",
        "\n",
        "---\n",
        "\n",
        "Esté tipo de variable solo tendrá un valor VERDADERO o FALSO.\n",
        "**Nota:** Son valores muy usados en condiciones y bucles."
      ]
    },
    {
      "cell_type": "code",
      "metadata": {
        "colab": {
          "base_uri": "https://localhost:8080/"
        },
        "id": "Dn6cRHJ7D3xo",
        "outputId": "90ede1d0-c274-4fc9-daeb-fe5c5e1cca9e"
      },
      "source": [
        "lola = True\n",
        "print(\"El valor es verdadero:\",lola,\"el cuál es tipo\",type(lola))"
      ],
      "execution_count": 14,
      "outputs": [
        {
          "output_type": "stream",
          "text": [
            "El valor es verdadero: True el cuál es tipo <class 'bool'>\n"
          ],
          "name": "stdout"
        }
      ]
    },
    {
      "cell_type": "markdown",
      "metadata": {
        "id": "XCGRnMbsER3L"
      },
      "source": [
        "Python cuenta con tipos de datos que admiten colecciones:\n",
        "1. Listas\n",
        "2. Tuplas\n",
        "3. Diccionarios\n",
        "\n",
        "**Tipo de conjuntos**\n",
        "Son una colección de datos sin elementos que repiten."
      ]
    },
    {
      "cell_type": "code",
      "metadata": {
        "colab": {
          "base_uri": "https://localhost:8080/"
        },
        "id": "BAdHJVpxEmxc",
        "outputId": "4cc93dfb-4d7a-44e9-cd1b-fcec192a0c4b"
      },
      "source": [
        "fruta = \"Pera\", \"Manzana\", \"Naranja\"\n",
        "print(fruta)"
      ],
      "execution_count": 15,
      "outputs": [
        {
          "output_type": "stream",
          "text": [
            "('Pera', 'Manzana', 'Naranja')\n"
          ],
          "name": "stdout"
        }
      ]
    },
    {
      "cell_type": "markdown",
      "metadata": {
        "id": "ojbtzuoeEy4d"
      },
      "source": [
        "**Tipo listas**\n",
        "\n",
        "---\n",
        "\n",
        "Son las que almacenan vectores. Las listas siempre empiezan a nombrarse desde el elemento cero(0). A partir de allí empieza el conteo."
      ]
    },
    {
      "cell_type": "code",
      "metadata": {
        "colab": {
          "base_uri": "https://localhost:8080/"
        },
        "id": "ENxMZHDrE-5l",
        "outputId": "a0680bd8-acd7-4e30-8469-2134f6c08df2"
      },
      "source": [
        "lista = ['45', 'uva', 'lila', 'perro', \"celular\", \"micro\", \"botella\", \"tetero\", \"10\"]\n",
        "print(lista)\n",
        "elementos = lista[-1]\n",
        "print(elementos)"
      ],
      "execution_count": 20,
      "outputs": [
        {
          "output_type": "stream",
          "text": [
            "['45', 'uva', 'lila', 'perro', 'celular', 'micro', 'botella', 'tetero', '10']\n",
            "10\n"
          ],
          "name": "stdout"
        }
      ]
    },
    {
      "cell_type": "markdown",
      "metadata": {
        "id": "48nXljTSGgHz"
      },
      "source": [
        "**Tipo tuplas**\n",
        "\n",
        "---\n",
        "Es una lista que no se puede modificar después de la creación de está:\n"
      ]
    },
    {
      "cell_type": "code",
      "metadata": {
        "colab": {
          "base_uri": "https://localhost:8080/"
        },
        "id": "Jll6SmdIGvLY",
        "outputId": "0100cc5f-3581-4065-f6be-5f8208c414cb"
      },
      "source": [
        "tupla = 23, 28, \"hola\"\n",
        "print(tupla)"
      ],
      "execution_count": 21,
      "outputs": [
        {
          "output_type": "stream",
          "text": [
            "(23, 28, 'hola')\n"
          ],
          "name": "stdout"
        }
      ]
    },
    {
      "cell_type": "markdown",
      "metadata": {
        "id": "_S_c1tlGHdfu"
      },
      "source": [
        "**Tipo diccionarios**\n",
        "---\n",
        "Define los datos uno a uno entre un campo (ID - Identificador - Clave) y un valor."
      ]
    },
    {
      "cell_type": "code",
      "metadata": {
        "colab": {
          "base_uri": "https://localhost:8080/"
        },
        "id": "2CKtGYfDH89V",
        "outputId": "167f1c17-6666-4059-dcca-3d9f7c944094"
      },
      "source": [
        "datos={\n",
        "         \"nombres\" : \"Gabriela\",\n",
        "         \"apellidos\" : \"León González\",\n",
        "         \"Cedula\" : 1234567891,\n",
        "         \"est_civil\" : \"soltera\",\n",
        "         \"lugar_nacimiento\" : \"Bogotá D.C\",\n",
        "         \"fecha_nacimiento\" : \"02/01/2001\"\n",
        "}\n",
        "print(\"ID del diccionario\", datos.keys())\n",
        "print(\"Valores del diccionario\", datos.values())\n",
        "print(\"Parejitas\", datos.items())"
      ],
      "execution_count": 25,
      "outputs": [
        {
          "output_type": "stream",
          "text": [
            "ID del diccionario dict_keys(['nombres', 'apellidos', 'Cedula', 'est_civil', 'lugar_nacimiento', 'fecha_nacimiento'])\n",
            "Valores del diccionario dict_values(['Gabriela', 'León González', 1234567891, 'soltera', 'Bogotá D.C', '02/01/2001'])\n",
            "Parejitas dict_items([('nombres', 'Gabriela'), ('apellidos', 'León González'), ('Cedula', 1234567891), ('est_civil', 'soltera'), ('lugar_nacimiento', 'Bogotá D.C'), ('fecha_nacimiento', '02/01/2001')])\n"
          ],
          "name": "stdout"
        }
      ]
    },
    {
      "cell_type": "markdown",
      "metadata": {
        "id": "aO1vyXTtLnFy"
      },
      "source": [
        "**Tarea**\n",
        "---\n",
        "Realizar 2 ejercicios por cada tipo de datos.\n"
      ]
    },
    {
      "cell_type": "markdown",
      "metadata": {
        "id": "Ttry3nMfNCd8"
      },
      "source": [
        "**ENTERO**"
      ]
    },
    {
      "cell_type": "code",
      "metadata": {
        "colab": {
          "base_uri": "https://localhost:8080/"
        },
        "id": "ZNCC7Tn4NHPT",
        "outputId": "a1187506-015a-41e6-9413-7e9ea5c8a1e7"
      },
      "source": [
        "print(\"Número entero negativo:\")\n",
        "negativo = -80\n",
        "print(negativo)\n",
        "print(\"---------------------\")\n",
        "print(\"Ahora convertimos el número positivo, seleccionando solo su valor absoluto:\")\n",
        "negativo = abs(negativo)\n",
        "print(negativo)"
      ],
      "execution_count": 29,
      "outputs": [
        {
          "output_type": "stream",
          "text": [
            "Número entero negativo:\n",
            "-80\n",
            "---------------------\n",
            "Ahora convertimos el número positivo, seleccionando solo su valor absoluto:\n",
            "80\n"
          ],
          "name": "stdout"
        }
      ]
    },
    {
      "cell_type": "code",
      "metadata": {
        "colab": {
          "base_uri": "https://localhost:8080/"
        },
        "id": "dUS6H5l5OVNB",
        "outputId": "42d3eb48-d53c-41a2-ca13-e22f94211988"
      },
      "source": [
        "print(\"Los números enteros pueden ser positivos y negativos pero sin decimales\")\n",
        "neg = -5\n",
        "pos = 5\n",
        "print(neg, \"Es el contrario de:\", pos)"
      ],
      "execution_count": 31,
      "outputs": [
        {
          "output_type": "stream",
          "text": [
            "Los números enteros pueden ser positivos y negativos pero sin decimales\n",
            "-5 Es el contrario de: 5\n"
          ],
          "name": "stdout"
        }
      ]
    },
    {
      "cell_type": "markdown",
      "metadata": {
        "id": "Xg1_NrQNOwpl"
      },
      "source": [
        "**FLOAT**"
      ]
    },
    {
      "cell_type": "code",
      "metadata": {
        "colab": {
          "base_uri": "https://localhost:8080/"
        },
        "id": "m5GHwQNfO0Dq",
        "outputId": "78d3a39e-d33c-45a8-cdd2-21b7c1fc7a7b"
      },
      "source": [
        "print(\"Un número decimal, puede contener demasiado decimales en su interior\")\n",
        "decimal = 5.12345678910111\n",
        "print(decimal)"
      ],
      "execution_count": 34,
      "outputs": [
        {
          "output_type": "stream",
          "text": [
            "Un número decimal, puede contener demasiado decimales en su interior\n",
            "5.12345678910111\n"
          ],
          "name": "stdout"
        }
      ]
    },
    {
      "cell_type": "code",
      "metadata": {
        "colab": {
          "base_uri": "https://localhost:8080/"
        },
        "id": "3idxdhobPElW",
        "outputId": "a69a0e73-d853-42cf-8a0a-3924bbe6c398"
      },
      "source": [
        "print(\"Pero podemos convertir en un tamaño más entendible ese decimal\")\n",
        "decimal = round(decimal, 2)\n",
        "print(decimal)"
      ],
      "execution_count": 36,
      "outputs": [
        {
          "output_type": "stream",
          "text": [
            "Pero podemos convertir en un tamaño más entendible ese decimal\n",
            "5.12\n"
          ],
          "name": "stdout"
        }
      ]
    },
    {
      "cell_type": "markdown",
      "metadata": {
        "id": "gZ_KO_gPPYDR"
      },
      "source": [
        "**CADENA**"
      ]
    },
    {
      "cell_type": "code",
      "metadata": {
        "colab": {
          "base_uri": "https://localhost:8080/"
        },
        "id": "wXiYWcsPPaUA",
        "outputId": "35a77219-2370-4f9d-9ada-536059fb91cc"
      },
      "source": [
        "p1 = \"Un\"\n",
        "p2 = \"parrafo\"\n",
        "p3 = \"puede\"\n",
        "p4 = \"estar\"\n",
        "p5 = \"en\"\n",
        "p6 = \"muchas\"\n",
        "p7 = \"variables\"\n",
        "print(p1 + \" \" + p2 + \" \"  + p3 + \" \" +  p4 + \" \" + p5 + \" \" + p6 + \" \" + p7)"
      ],
      "execution_count": 37,
      "outputs": [
        {
          "output_type": "stream",
          "text": [
            "Un parrafo puede estar en muchas variables\n"
          ],
          "name": "stdout"
        }
      ]
    },
    {
      "cell_type": "code",
      "metadata": {
        "colab": {
          "base_uri": "https://localhost:8080/"
        },
        "id": "hQ6idaShQICx",
        "outputId": "af8cc575-40fe-40d3-e2b9-cc2581ff6c4c"
      },
      "source": [
        "print(\"Se puede hacer operaciones con cadenas, como repetirla x cantidad de veces\")\n",
        "repeticion = \"Mujeres digitales \"\n",
        "print(repeticion * 5)"
      ],
      "execution_count": 41,
      "outputs": [
        {
          "output_type": "stream",
          "text": [
            "Se puede hacer operaciones con cadenas, como repetirla x cantidad de veces\n",
            "Mujeres digitales Mujeres digitales Mujeres digitales Mujeres digitales Mujeres digitales \n"
          ],
          "name": "stdout"
        }
      ]
    },
    {
      "cell_type": "markdown",
      "metadata": {
        "id": "8DgH2RwSQ0XO"
      },
      "source": [
        "**BOOLEANO**"
      ]
    },
    {
      "cell_type": "code",
      "metadata": {
        "colab": {
          "base_uri": "https://localhost:8080/"
        },
        "id": "J8peskeaQ9Q1",
        "outputId": "8eb76c62-e34b-4970-efa7-bcafaa5068ce"
      },
      "source": [
        "print(\"Se puede asignar valores booleanos a las variables\")\n",
        "post = True\n",
        "nega = False\n",
        "print(\"post es: \", post, \"y nega es:\", nega)"
      ],
      "execution_count": 49,
      "outputs": [
        {
          "output_type": "stream",
          "text": [
            "Se puede asignar valores booleanos a las variables\n",
            "post es:  True y nega es: False\n"
          ],
          "name": "stdout"
        }
      ]
    },
    {
      "cell_type": "code",
      "metadata": {
        "colab": {
          "base_uri": "https://localhost:8080/"
        },
        "id": "3F05KkA2R4ES",
        "outputId": "ea3b063e-f27e-4a3e-ca9b-50156b90da1b"
      },
      "source": [
        "print(\"También se puede realizar operaciónes para que de un resultado de tipo Booleano\")\n",
        "print(post == nega)"
      ],
      "execution_count": 50,
      "outputs": [
        {
          "output_type": "stream",
          "text": [
            "También se puede realizar operaciónes para que de un resultado de tipo Booleano\n",
            "False\n"
          ],
          "name": "stdout"
        }
      ]
    },
    {
      "cell_type": "markdown",
      "metadata": {
        "id": "Lbg6WsuGSOU2"
      },
      "source": [
        "**LISTAS**"
      ]
    },
    {
      "cell_type": "code",
      "metadata": {
        "colab": {
          "base_uri": "https://localhost:8080/"
        },
        "id": "TOUWzoKMSRcN",
        "outputId": "e0381afc-2d1f-4350-e75c-84fd37154238"
      },
      "source": [
        "print(\"Se puede declarar una lista vacia\")\n",
        "lista1 = []\n",
        "print(\"Lista1 es de tipo \", type(lista1))"
      ],
      "execution_count": 53,
      "outputs": [
        {
          "output_type": "stream",
          "text": [
            "Se puede declarar una lista vacia\n",
            "Lista1 es de tipo  <class 'list'>\n"
          ],
          "name": "stdout"
        }
      ]
    },
    {
      "cell_type": "code",
      "metadata": {
        "colab": {
          "base_uri": "https://localhost:8080/"
        },
        "id": "u1ISfvD_SpYs",
        "outputId": "cff884a1-ab1f-4d3b-eb6e-cdb8a80b1952"
      },
      "source": [
        "lista1.clear()\n",
        "print(\"Se puede ir añadiendo datos a nuestra lista usando la función append, que añade los datos al final de la lista\")\n",
        "lista1.append(\"prueba\")\n",
        "print(lista1)\n",
        "lista1.append(\"con\")\n",
        "print(lista1)\n",
        "lista1.append(\"listas\")\n",
        "print(lista1)"
      ],
      "execution_count": 58,
      "outputs": [
        {
          "output_type": "stream",
          "text": [
            "Se puede ir añadiendo datos a nuestra lista usando la función append, que añade los datos al final de la lista\n",
            "['prueba']\n",
            "['prueba', 'con']\n",
            "['prueba', 'con', 'listas']\n"
          ],
          "name": "stdout"
        }
      ]
    },
    {
      "cell_type": "markdown",
      "metadata": {
        "id": "A3LzbKRMTlD_"
      },
      "source": [
        "**TUPLAS**"
      ]
    },
    {
      "cell_type": "code",
      "metadata": {
        "colab": {
          "base_uri": "https://localhost:8080/"
        },
        "id": "TOlQe0iKTrkt",
        "outputId": "ddbe253f-b1f1-4558-cab0-b181360d7bc0"
      },
      "source": [
        "print(\"Las tuplas son inmutables por eso se deben asignar de una vez sus valores\")\n",
        "tupla1 = \"casa\", \"apartamento\", \"mansion\", \"casa\"\n",
        "print(tupla1)"
      ],
      "execution_count": 68,
      "outputs": [
        {
          "output_type": "stream",
          "text": [
            "Las tuplas son inmutables por eso se deben asignar de una vez sus valores\n",
            "('casa', 'apartamento', 'mansion', 'casa')\n"
          ],
          "name": "stdout"
        }
      ]
    },
    {
      "cell_type": "code",
      "metadata": {
        "colab": {
          "base_uri": "https://localhost:8080/"
        },
        "id": "Yxfi5RTqT-KN",
        "outputId": "e4d591ff-f729-4c14-f818-716f887e1892"
      },
      "source": [
        "print(\"Se puede contar las veces que se repite un elemento en la tupla\")\n",
        "print(tupla1.count(\"casa\"))"
      ],
      "execution_count": 69,
      "outputs": [
        {
          "output_type": "stream",
          "text": [
            "Se puede contar las veces que se repite un elemento en la tupla\n",
            "2\n"
          ],
          "name": "stdout"
        }
      ]
    },
    {
      "cell_type": "markdown",
      "metadata": {
        "id": "Ddj_3PaLU-mg"
      },
      "source": [
        "**DICCIONARIOS**"
      ]
    },
    {
      "cell_type": "code",
      "metadata": {
        "colab": {
          "base_uri": "https://localhost:8080/"
        },
        "id": "QohZG2KxVB5f",
        "outputId": "2f71c89d-ba6c-4c2f-afea-a60186dc6471"
      },
      "source": [
        "print(\"Para poder crear un diccionario se debe tener en cuenta que debe tener su id\")\n",
        "mascota = {\n",
        "    \"tipo\" : \"perro\",\n",
        "    \"nombre\" : \"Peluchin\",\n",
        "    \"edad\" : 11,\n",
        "    \"raza\" : \"schnauzer\"\n",
        "}\n",
        "print(mascota)"
      ],
      "execution_count": 71,
      "outputs": [
        {
          "output_type": "stream",
          "text": [
            "Para poder crear un diccionario se debe tener en cuenta que debe tener su id\n",
            "{'tipo': 'perro', 'nombre': 'Peluchin', 'edad': 11, 'raza': 'schnauzer'}\n"
          ],
          "name": "stdout"
        }
      ]
    },
    {
      "cell_type": "code",
      "metadata": {
        "colab": {
          "base_uri": "https://localhost:8080/"
        },
        "id": "_6lRxg0vV5XL",
        "outputId": "8304bc63-b1e1-48ca-a73e-8242ec5e211f"
      },
      "source": [
        "print(\"Hay dos formas de obtener los valores de un diccionario\")\n",
        "print(mascota[\"edad\"])\n",
        "print(mascota.get(\"edad\"))"
      ],
      "execution_count": 76,
      "outputs": [
        {
          "output_type": "stream",
          "text": [
            "Hay dos formas de obtener los valores de un diccionario\n",
            "11\n",
            "11\n"
          ],
          "name": "stdout"
        }
      ]
    },
    {
      "cell_type": "markdown",
      "metadata": {
        "id": "4ijDfZCWXOEP"
      },
      "source": [
        "**CONJUNTOS**"
      ]
    },
    {
      "cell_type": "code",
      "metadata": {
        "colab": {
          "base_uri": "https://localhost:8080/"
        },
        "id": "8MGiAQ2NXS2A",
        "outputId": "0b3fcd9e-843b-4572-bf39-6d1f2fa0fbe0"
      },
      "source": [
        "print(\"La ventaja de esté tipo es que no se puede repetir los datos\")\n",
        "conjuntos = {\"Gabriela\", \"Olga\", \"Luis\", \"Laura\", \"Vanessa\", \"Luis\"}\n",
        "print(conjuntos)"
      ],
      "execution_count": 80,
      "outputs": [
        {
          "output_type": "stream",
          "text": [
            "La ventaja de esté tipo es que no se puede repetir los datos\n",
            "{'Luis', 'Gabriela', 'Olga', 'Laura', 'Vanessa'}\n"
          ],
          "name": "stdout"
        }
      ]
    },
    {
      "cell_type": "code",
      "metadata": {
        "colab": {
          "base_uri": "https://localhost:8080/"
        },
        "id": "3nzx0i9xXr60",
        "outputId": "940efbfe-93e3-4995-ee93-0721fefd602e"
      },
      "source": [
        "print(\"Se añade nuevos elementos son ADD\")\n",
        "conjuntos.add(\"Valentina\")\n",
        "print(conjuntos)"
      ],
      "execution_count": 82,
      "outputs": [
        {
          "output_type": "stream",
          "text": [
            "Se añade nuevos elementos son ADD\n",
            "{'Luis', 'Gabriela', 'Valentina', 'Olga', 'Laura', 'Vanessa'}\n"
          ],
          "name": "stdout"
        }
      ]
    }
  ]
}