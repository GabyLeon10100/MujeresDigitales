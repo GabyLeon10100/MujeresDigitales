{
  "nbformat": 4,
  "nbformat_minor": 0,
  "metadata": {
    "colab": {
      "name": "Clase2.ipynb",
      "provenance": [],
      "authorship_tag": "ABX9TyPA90942ROcdqMUhBNq0OuE",
      "include_colab_link": true
    },
    "kernelspec": {
      "name": "python3",
      "display_name": "Python 3"
    },
    "language_info": {
      "name": "python"
    }
  },
  "cells": [
    {
      "cell_type": "markdown",
      "metadata": {
        "id": "view-in-github",
        "colab_type": "text"
      },
      "source": [
        "<a href=\"https://colab.research.google.com/github/GabyLeon10100/MujeresDigitales/blob/main/Clase2.ipynb\" target=\"_parent\"><img src=\"https://colab.research.google.com/assets/colab-badge.svg\" alt=\"Open In Colab\"/></a>"
      ]
    },
    {
      "cell_type": "markdown",
      "metadata": {
        "id": "cCJ7Nj0RawI1"
      },
      "source": [
        "**Operadores aritméticos**\n",
        "\n",
        "---\n",
        "Permiten realizar diferentes procesos de cálculo en cualquier lenguaje de programación.\n",
        "\n",
        "Los operadores más básicos:\n",
        "1. Suma\n",
        "2. Resta\n",
        "3. Multiplicación\n",
        "4. División\n"
      ]
    },
    {
      "cell_type": "markdown",
      "metadata": {
        "id": "Vyt4UcKHbKYH"
      },
      "source": [
        "**Suma y resta**\n",
        "\n",
        "---\n",
        "Simbolo suma (+) el cual se utilizará en medio de la declaración de las variables a operar.**texto en negrita**\n"
      ]
    },
    {
      "cell_type": "code",
      "metadata": {
        "colab": {
          "base_uri": "https://localhost:8080/"
        },
        "id": "PQ1PeY4AbTfQ",
        "outputId": "bf165d89-e75e-48b3-82bd-ae0a40c874f5"
      },
      "source": [
        "print(10+300)\n",
        "a = 20\n",
        "b = 35\n",
        "print (a + b)\n",
        "print (a - b)"
      ],
      "execution_count": 3,
      "outputs": [
        {
          "output_type": "stream",
          "text": [
            "310\n",
            "55\n",
            "-15\n"
          ],
          "name": "stdout"
        }
      ]
    },
    {
      "cell_type": "code",
      "metadata": {
        "colab": {
          "base_uri": "https://localhost:8080/"
        },
        "id": "LC_mR_GEbtd3",
        "outputId": "4a1aae02-8478-406a-807a-4aad23aafb6c"
      },
      "source": [
        "numero_botellas = 12\n",
        "print(numero_botellas + 8)"
      ],
      "execution_count": 4,
      "outputs": [
        {
          "output_type": "stream",
          "text": [
            "20\n"
          ],
          "name": "stdout"
        }
      ]
    },
    {
      "cell_type": "markdown",
      "metadata": {
        "id": "dVCeEjvAb8KL"
      },
      "source": [
        "**Sumas entre los diferentes tipos de variables**\n",
        "\n",
        "---\n",
        "Recordemos los tipos de variables vistos en la clase de ayer:\n",
        "1. Declaración de variables númericas enteros\n",
        "2. Flotantes (incorpora y flexibiliza los decimales)\n",
        "3. Tipo cadena"
      ]
    },
    {
      "cell_type": "code",
      "metadata": {
        "colab": {
          "base_uri": "https://localhost:8080/"
        },
        "id": "TvTbAdGtcOji",
        "outputId": "07cd8889-cfa3-4aed-b129-bf882bcd3169"
      },
      "source": [
        "q1 = 100\n",
        "q2 = 24.5\n",
        "print(type(q1+q2))"
      ],
      "execution_count": 5,
      "outputs": [
        {
          "output_type": "stream",
          "text": [
            "<class 'float'>\n"
          ],
          "name": "stdout"
        }
      ]
    },
    {
      "cell_type": "code",
      "metadata": {
        "colab": {
          "base_uri": "https://localhost:8080/"
        },
        "id": "6NpPVHI9cXS2",
        "outputId": "dea45e72-5f01-4e9e-f0e5-db6f8926e62d"
      },
      "source": [
        "v1 = \"quiero\"\n",
        "v2 = \"un celular\"\n",
        "print(v1+\" \"+v2)"
      ],
      "execution_count": 7,
      "outputs": [
        {
          "output_type": "stream",
          "text": [
            "quiero un celular\n"
          ],
          "name": "stdout"
        }
      ]
    },
    {
      "cell_type": "code",
      "metadata": {
        "colab": {
          "base_uri": "https://localhost:8080/"
        },
        "id": "8Rqbx-DEcm40",
        "outputId": "aeb01dd6-15ff-41a1-c649-b5a47ed89be2"
      },
      "source": [
        "xq2 = 235\n",
        "xq3 = 400\n",
        "print(xq2 - xq3)"
      ],
      "execution_count": 8,
      "outputs": [
        {
          "output_type": "stream",
          "text": [
            "-165\n"
          ],
          "name": "stdout"
        }
      ]
    },
    {
      "cell_type": "markdown",
      "metadata": {
        "id": "JBo35kJ2dJ_J"
      },
      "source": [
        "**IMPORTANTE**\n",
        "La resta no funciona directamente para vatiable con tipo cadena"
      ]
    },
    {
      "cell_type": "code",
      "metadata": {
        "colab": {
          "base_uri": "https://localhost:8080/",
          "height": 173
        },
        "id": "SGEkDFm6dR3-",
        "outputId": "fd9d6860-3057-4c42-b100-e3921f3a3f3b"
      },
      "source": [
        "print(v1-v2)"
      ],
      "execution_count": 9,
      "outputs": [
        {
          "output_type": "error",
          "ename": "TypeError",
          "evalue": "ignored",
          "traceback": [
            "\u001b[0;31m---------------------------------------------------------------------------\u001b[0m",
            "\u001b[0;31mTypeError\u001b[0m                                 Traceback (most recent call last)",
            "\u001b[0;32m<ipython-input-9-88a62e09bd6f>\u001b[0m in \u001b[0;36m<module>\u001b[0;34m()\u001b[0m\n\u001b[0;32m----> 1\u001b[0;31m \u001b[0mprint\u001b[0m\u001b[0;34m(\u001b[0m\u001b[0mv1\u001b[0m\u001b[0;34m-\u001b[0m\u001b[0mv2\u001b[0m\u001b[0;34m)\u001b[0m\u001b[0;34m\u001b[0m\u001b[0;34m\u001b[0m\u001b[0m\n\u001b[0m",
            "\u001b[0;31mTypeError\u001b[0m: unsupported operand type(s) for -: 'str' and 'str'"
          ]
        }
      ]
    },
    {
      "cell_type": "markdown",
      "metadata": {
        "id": "Qy_uKZUXd3gC"
      },
      "source": [
        "**Multiplicación**\n",
        "\n",
        "---\n",
        "\n",
        "Definamos la multiplicación como la suma de varias veces un número,cantidad de veces indicadas por el otro número. El símbolo que se maneja es (*)"
      ]
    },
    {
      "cell_type": "markdown",
      "metadata": {
        "id": "wRyL4B0_eIlN"
      },
      "source": [
        "**IMPORTANTE**\n",
        "Se aplica la ley conmutativa.\n",
        "Recordemos que la ley conmutativa es que el orden de los factores no altera su resultado, está ley se aplica para la suma y la multiplicación."
      ]
    },
    {
      "cell_type": "code",
      "metadata": {
        "colab": {
          "base_uri": "https://localhost:8080/"
        },
        "id": "IFrPFlmvebNU",
        "outputId": "f828722e-ab37-41fb-a8b5-ceb31876c535"
      },
      "source": [
        "cali = 5\n",
        "palmira = 6\n",
        "print(cali * palmira)\n",
        "print(palmira * cali)"
      ],
      "execution_count": 10,
      "outputs": [
        {
          "output_type": "stream",
          "text": [
            "30\n",
            "30\n"
          ],
          "name": "stdout"
        }
      ]
    },
    {
      "cell_type": "markdown",
      "metadata": {
        "id": "IohA_cFLel76"
      },
      "source": [
        "**División**\n",
        "\n",
        "---\n",
        "ACLARACIÓN: **NO** aplica la ley conmutativa. El símbolo de división (/).\n"
      ]
    },
    {
      "cell_type": "code",
      "metadata": {
        "colab": {
          "base_uri": "https://localhost:8080/"
        },
        "id": "W5VCfAMsew8s",
        "outputId": "3575fced-ebfd-4ad1-cf49-8a701c7358a2"
      },
      "source": [
        "a = 20\n",
        "b = 4\n",
        "print(a/b)"
      ],
      "execution_count": 11,
      "outputs": [
        {
          "output_type": "stream",
          "text": [
            "5.0\n"
          ],
          "name": "stdout"
        }
      ]
    },
    {
      "cell_type": "markdown",
      "metadata": {
        "id": "klSGRjtcfB7p"
      },
      "source": [
        "Para el **print** podemos separar las operaciones por variable con (,) lo cual, no afectará la impresión de los resultados por operación asignada"
      ]
    },
    {
      "cell_type": "code",
      "metadata": {
        "colab": {
          "base_uri": "https://localhost:8080/"
        },
        "id": "bOjPnj6RfPti",
        "outputId": "466f4b5d-9b0e-49f6-e157-68887db86c53"
      },
      "source": [
        "print(a/b, b/a, a+b, a-b)"
      ],
      "execution_count": 12,
      "outputs": [
        {
          "output_type": "stream",
          "text": [
            "5.0 0.2 24 16\n"
          ],
          "name": "stdout"
        }
      ]
    },
    {
      "cell_type": "markdown",
      "metadata": {
        "id": "H090yhtSfV61"
      },
      "source": [
        "**Tipos de división**\n",
        "\n",
        "---\n",
        "1. División exacta (//)\n",
        "2. División inexacta (/)"
      ]
    },
    {
      "cell_type": "code",
      "metadata": {
        "colab": {
          "base_uri": "https://localhost:8080/"
        },
        "id": "WBXXHG7xfiic",
        "outputId": "7410073c-28a6-499a-92c4-569c43e5f365"
      },
      "source": [
        "print(15//4)\n",
        "print(15/4)"
      ],
      "execution_count": 14,
      "outputs": [
        {
          "output_type": "stream",
          "text": [
            "3\n",
            "3.75\n"
          ],
          "name": "stdout"
        }
      ]
    },
    {
      "cell_type": "markdown",
      "metadata": {
        "id": "YY6mogIJfwwW"
      },
      "source": [
        "Nota: Operación de división, al igual que una división normal, **NO** es posible dividir entre cero. ¿Por qué? porque en matemáticas es un resultado indefinido.\n",
        "4. Potenciación \n",
        "5. Módulo"
      ]
    },
    {
      "cell_type": "markdown",
      "metadata": {
        "id": "naNKXNxVgGta"
      },
      "source": [
        "**Potenciación**\n",
        "\n",
        "---\n",
        "En Python el simbolo es (**)\n",
        "El pirmer valor es la base y el último valor es exponente"
      ]
    },
    {
      "cell_type": "code",
      "metadata": {
        "colab": {
          "base_uri": "https://localhost:8080/"
        },
        "id": "Z2LhR1aagPvF",
        "outputId": "78c788cc-45e2-47de-fdaa-b9072695d424"
      },
      "source": [
        "print(2**4)"
      ],
      "execution_count": 15,
      "outputs": [
        {
          "output_type": "stream",
          "text": [
            "16\n"
          ],
          "name": "stdout"
        }
      ]
    },
    {
      "cell_type": "markdown",
      "metadata": {
        "id": "8PkokohBgg-Q"
      },
      "source": [
        "**Módulo**\n",
        "\n",
        "---\n",
        "\n",
        "Residuo de la operación de la división\n",
        "El simbolo usado para mostrar el residuo es (%).\n",
        "El primer valor es el dividendo y el último valor es el divisor"
      ]
    },
    {
      "cell_type": "code",
      "metadata": {
        "colab": {
          "base_uri": "https://localhost:8080/"
        },
        "id": "gLHA19MUgrir",
        "outputId": "2466aa9b-61d8-4d12-8b59-21dc7867d3f4"
      },
      "source": [
        "print(81%9)"
      ],
      "execution_count": 16,
      "outputs": [
        {
          "output_type": "stream",
          "text": [
            "0\n"
          ],
          "name": "stdout"
        }
      ]
    },
    {
      "cell_type": "markdown",
      "metadata": {
        "id": "241MwGMQhPJA"
      },
      "source": [
        "**OPERADORES DE COMPARACIÓN**\n",
        "\n",
        "---\n",
        "\n",
        "Sirven para comparar varios valores. En la vida cotidiana a la hora de tomar decisiones tenemos que decidir entre un camino u otro, ejemplo: compras, decisiones de vida, caminos por recorrer."
      ]
    },
    {
      "cell_type": "markdown",
      "metadata": {
        "id": "uJ5mkXHBhtnL"
      },
      "source": [
        "**Igualdad**\n",
        "\n",
        "---\n",
        "Símbolo en Python es (==)\n"
      ]
    },
    {
      "cell_type": "code",
      "metadata": {
        "colab": {
          "base_uri": "https://localhost:8080/"
        },
        "id": "_RlfgW3Zh1xc",
        "outputId": "fb0f89d4-07ce-40ec-956a-3ef3b301934f"
      },
      "source": [
        "x = 30\n",
        "z = 31\n",
        "print(x == z)"
      ],
      "execution_count": 17,
      "outputs": [
        {
          "output_type": "stream",
          "text": [
            "False\n"
          ],
          "name": "stdout"
        }
      ]
    },
    {
      "cell_type": "code",
      "metadata": {
        "colab": {
          "base_uri": "https://localhost:8080/"
        },
        "id": "DhzlRdZviE-x",
        "outputId": "f91704ea-a2d9-423d-b131-e194d837a38a"
      },
      "source": [
        "x = \"casa\"\n",
        "z = \"casa\"\n",
        "print(x == z)"
      ],
      "execution_count": 18,
      "outputs": [
        {
          "output_type": "stream",
          "text": [
            "True\n"
          ],
          "name": "stdout"
        }
      ]
    },
    {
      "cell_type": "markdown",
      "metadata": {
        "id": "2sM5BRRPisrT"
      },
      "source": [
        "**Diferencia**\n",
        "\n",
        "---\n",
        "\n",
        "A diferencia del operador de igualdad, el símbolo está combinando con el símbolo de admiración, es decir (!=)"
      ]
    },
    {
      "cell_type": "code",
      "metadata": {
        "colab": {
          "base_uri": "https://localhost:8080/"
        },
        "id": "pG4l_OiFi7Cq",
        "outputId": "ccd8135b-ed4b-4e2e-8c74-00375a8bd24d"
      },
      "source": [
        "x = \"casa\"\n",
        "z = \"caza\"\n",
        "print(x != z)"
      ],
      "execution_count": 19,
      "outputs": [
        {
          "output_type": "stream",
          "text": [
            "True\n"
          ],
          "name": "stdout"
        }
      ]
    },
    {
      "cell_type": "markdown",
      "metadata": {
        "id": "RovKZBuGi_2q"
      },
      "source": [
        "**Mayor que**\n",
        "\n",
        "---\n",
        "Simbolo en Python (>)\n",
        "Siempre en comparativa se designa cual es menor o el mayor, por el valor que está a la izquierda de la operación\n"
      ]
    },
    {
      "cell_type": "code",
      "metadata": {
        "colab": {
          "base_uri": "https://localhost:8080/"
        },
        "id": "sPR_aayOjGbq",
        "outputId": "4f028878-d9ed-4022-9c95-77be26b385de"
      },
      "source": [
        "print(30>29.8)\n",
        "print(20>10)"
      ],
      "execution_count": 21,
      "outputs": [
        {
          "output_type": "stream",
          "text": [
            "True\n",
            "True\n"
          ],
          "name": "stdout"
        }
      ]
    },
    {
      "cell_type": "markdown",
      "metadata": {
        "id": "nAs7b-ZpjXsZ"
      },
      "source": [
        "**Menor que**\n",
        "\n",
        "---\n",
        "Caso contrario, el símbolo es (<)\n"
      ]
    },
    {
      "cell_type": "code",
      "metadata": {
        "colab": {
          "base_uri": "https://localhost:8080/"
        },
        "id": "upUl1u8TjdgN",
        "outputId": "75d66b5a-7a3f-435e-e0be-2a64b2052dd7"
      },
      "source": [
        "x = 4\n",
        "y = 3\n",
        "print(x<y)"
      ],
      "execution_count": 22,
      "outputs": [
        {
          "output_type": "stream",
          "text": [
            "False\n"
          ],
          "name": "stdout"
        }
      ]
    },
    {
      "cell_type": "markdown",
      "metadata": {
        "id": "8MkrFxyHjjCb"
      },
      "source": [
        "**Mayor o igual que**\n",
        "\n",
        "---\n",
        "Es similar al mayor que, con la diferencia de que la forma es que dará resultado verdadero en si ambos son iguales y flexibiliza dando verdadero de igual forma si el valor de la izquierda es mayor que el de la derecha. El símbolo es (>=)\n"
      ]
    },
    {
      "cell_type": "code",
      "metadata": {
        "colab": {
          "base_uri": "https://localhost:8080/"
        },
        "id": "ZypK4XN_j62V",
        "outputId": "ad4905d2-f8fa-4841-94ec-e1b0af8fd246"
      },
      "source": [
        "x = 10\n",
        "y = 10\n",
        "print(x >= y)"
      ],
      "execution_count": 23,
      "outputs": [
        {
          "output_type": "stream",
          "text": [
            "True\n"
          ],
          "name": "stdout"
        }
      ]
    },
    {
      "cell_type": "markdown",
      "metadata": {
        "id": "pP5i4R0Yk3Wf"
      },
      "source": [
        "**Menor o igual que**\n",
        "\n",
        "---\n",
        "El símbolo es (<=)\n"
      ]
    },
    {
      "cell_type": "code",
      "metadata": {
        "colab": {
          "base_uri": "https://localhost:8080/"
        },
        "id": "MtqxvzKRk8Km",
        "outputId": "fe7373ed-6441-4128-e0ae-0c00bb675d33"
      },
      "source": [
        "c = 45\n",
        "print(c<=46)"
      ],
      "execution_count": 24,
      "outputs": [
        {
          "output_type": "stream",
          "text": [
            "True\n"
          ],
          "name": "stdout"
        }
      ]
    },
    {
      "cell_type": "markdown",
      "metadata": {
        "id": "Wdpx_2GElA4Z"
      },
      "source": [
        "**Tener en cuenta:** En comparaciones los resultados que nos arrojan siempre es de tipo Booleano es decir: True or False (Verdadero o Falso)"
      ]
    },
    {
      "cell_type": "markdown",
      "metadata": {
        "id": "mvAAE7zJlS67"
      },
      "source": [
        "**OPERADORES LÓGICOS**\n",
        "\n",
        "---\n",
        "Python inclute tres operadores lógicos base:\n",
        "1. AND (y)\n",
        "2. OR (o)\n",
        "3. NOT (No)\n",
        "\n",
        "Los operadores lógicos funcionan solo con valores o variables booleanas, a su vez, devuelven como respuesta valores booleanos."
      ]
    },
    {
      "cell_type": "markdown",
      "metadata": {
        "id": "gXXJyKkplmvM"
      },
      "source": [
        "**Operador AND**\n",
        "\n",
        "---\n",
        "Este operador solo devolverá (Verdadero) si ambos valores lo son. ¿Cómo usar el operador AND? Para usar este operador basta con escribir un valor Booleano luego la palabra and y por último otro valor booleano.\n",
        "**Ejemplo**\n"
      ]
    },
    {
      "cell_type": "code",
      "metadata": {
        "colab": {
          "base_uri": "https://localhost:8080/"
        },
        "id": "IT8uwDG5mBZ1",
        "outputId": "87c3a134-86b7-4731-b72b-e7d651fad290"
      },
      "source": [
        "print(True and False)"
      ],
      "execution_count": 25,
      "outputs": [
        {
          "output_type": "stream",
          "text": [
            "False\n"
          ],
          "name": "stdout"
        }
      ]
    },
    {
      "cell_type": "markdown",
      "metadata": {
        "id": "TprF8FhPmT15"
      },
      "source": [
        "**Ejemplo de contextualización AND:**\n",
        "1. True and True = **True**\n",
        "2. True and False = False\n",
        "3. False and False = False\n",
        "4. False and True = False"
      ]
    },
    {
      "cell_type": "markdown",
      "metadata": {
        "id": "D-RjAFRUmhSZ"
      },
      "source": [
        "**Operador OR**\n",
        "\n",
        "---\n",
        "\n",
        "A diferencia del operador AND, OR devuelve a todo verdadero a menos de que ambos valores sean **FALSOS**"
      ]
    },
    {
      "cell_type": "code",
      "metadata": {
        "colab": {
          "base_uri": "https://localhost:8080/"
        },
        "id": "3cZvrPt_mxis",
        "outputId": "1a1e0443-2c1e-4701-fa7d-770119fc52de"
      },
      "source": [
        "print(True or True)\n",
        "print(False or False)"
      ],
      "execution_count": 26,
      "outputs": [
        {
          "output_type": "stream",
          "text": [
            "True\n",
            "False\n"
          ],
          "name": "stdout"
        }
      ]
    },
    {
      "cell_type": "markdown",
      "metadata": {
        "id": "3tnewMncm6hY"
      },
      "source": [
        "**Ejemplo de contextualización OR:**\n",
        "1. True and True = **True**\n",
        "2. True and False = **True**\n",
        "3. False and False = False\n",
        "4. False and True = **True**"
      ]
    },
    {
      "cell_type": "code",
      "metadata": {
        "colab": {
          "base_uri": "https://localhost:8080/"
        },
        "id": "_ALQ6JIfnL5A",
        "outputId": "2c5b9ca2-5eb0-4db1-bac4-3013956a9660"
      },
      "source": [
        "a = 3\n",
        "b = 2\n",
        "print(a>4 or a==4)\n",
        "print(b==b and a>=b)"
      ],
      "execution_count": 28,
      "outputs": [
        {
          "output_type": "stream",
          "text": [
            "False\n",
            "True\n"
          ],
          "name": "stdout"
        }
      ]
    },
    {
      "cell_type": "markdown",
      "metadata": {
        "id": "fP6JFUPAncUV"
      },
      "source": [
        "**Operador NOT**\n",
        "\n",
        "---\n",
        "Este operador es negación, en español \"No\". es especial, dado que por sí solo no sirve para hacer ninguna operación, lo único que hace es negar, o en otras palabras más simples, invertir el valor booleano que viene después de él\n"
      ]
    },
    {
      "cell_type": "code",
      "metadata": {
        "colab": {
          "base_uri": "https://localhost:8080/"
        },
        "id": "aAvHPrQKn2Q_",
        "outputId": "1ebf3d69-c0e7-4e7d-9ffa-52b67deb815c"
      },
      "source": [
        "print(not False)\n",
        "print(not True)"
      ],
      "execution_count": 29,
      "outputs": [
        {
          "output_type": "stream",
          "text": [
            "True\n",
            "False\n"
          ],
          "name": "stdout"
        }
      ]
    },
    {
      "cell_type": "markdown",
      "metadata": {
        "id": "YNsX3HcloCv1"
      },
      "source": [
        "**PRECEDENCIA OPERADORES**\n",
        "\n",
        "---\n",
        "Es muy importante manejar el orden de las operaciones al realizarlas, para no caer en problemas de código error.\n",
        "\n",
        "El orden debe ser:\n",
        "1. De izquierda a derecha\n",
        "2. Parentesis\n",
        "3. Potenciación o radicación\n",
        "4. Multiplicación y división\n",
        "5. Suma y resta\n",
        "\n",
        "**Ejemplo**\n",
        "4-2(10) = ?\n",
        "1. Primero el parentesis:\n",
        "4-2*10 = ?\n",
        "2. Se continúa con la multiplicación:\n",
        "4-20 = ?\n",
        "3. Por último la resta\n",
        "4-20 = -16"
      ]
    },
    {
      "cell_type": "code",
      "metadata": {
        "colab": {
          "base_uri": "https://localhost:8080/"
        },
        "id": "ZLjCaW40pIqK",
        "outputId": "cc613eeb-c1cb-4b8d-a930-5ebbd52bce3f"
      },
      "source": [
        "a = False\n",
        "b = True\n",
        "c = True\n",
        "print(not c and (a or b))"
      ],
      "execution_count": 30,
      "outputs": [
        {
          "output_type": "stream",
          "text": [
            "False\n"
          ],
          "name": "stdout"
        }
      ]
    },
    {
      "cell_type": "markdown",
      "metadata": {
        "id": "z1d_QdDdpyXl"
      },
      "source": [
        "**Resumen**\n",
        "\n",
        "---\n",
        "1. Aplicación de ley conmutativa: Sólo para sumas y resta (Operadores básicos)\n",
        "2. Los resultados con operadores lógicos son de tipo Booleano.\n",
        "3. **No** se puede realizar resta entre variables de tipo cadena (El procedimiento si abarca números es la conversión desde el inicio)\n",
        "4. Si aplicamos el condicional AND, para que el resultado sea TRUE, la única forma es que ambos valores sean verdaderos\n",
        "5. En cambio con el OR, si cumple que alguno de los dos valores son True, el resultado será TRUE\n"
      ]
    },
    {
      "cell_type": "markdown",
      "metadata": {
        "id": "ccNmr8EqqtH5"
      },
      "source": [
        "**Tarea**\n",
        "---\n",
        "5 ejercicios mezclando los temas vistos\n"
      ]
    },
    {
      "cell_type": "markdown",
      "metadata": {
        "id": "6gCqebix0Ftb"
      },
      "source": [
        "**Primero**"
      ]
    },
    {
      "cell_type": "code",
      "metadata": {
        "colab": {
          "base_uri": "https://localhost:8080/"
        },
        "id": "glc3P9lO0HQT",
        "outputId": "01555442-4274-4c22-b501-f820cc8f436f"
      },
      "source": [
        "print(12+21*36/8 > 78*9+56-41)"
      ],
      "execution_count": 2,
      "outputs": [
        {
          "output_type": "stream",
          "text": [
            "False\n"
          ],
          "name": "stdout"
        }
      ]
    },
    {
      "cell_type": "markdown",
      "metadata": {
        "id": "844XXLiZFdgf"
      },
      "source": [
        "Para saber cual es la respuesta correspondiente, tocaria resolver los dos terminos.\n",
        "1. 12 + 21 * 36 / 8\n",
        "*   Resolvemos primero la multiplicación ya que está antes de la división de izquierda a derecha: 21 * 36 = 756 entonces queda **12 + 756 / 8**\n",
        "*   Continuamos con la división: 756/8 = 94.5 entonces queda **12 + 94.5**\n",
        "*   Por ultimo resolvemos la suma: 12 + 94.5 = **106.5**\n",
        "2. 78 * 9 + 56 - 41\n",
        "*   Primero la multiplicación: 78 * 9 = 702 entonces queda **702 + 56 - 41**\n",
        "*   Realizamos la suma: 702 + 56 = 758 entonces queda **758 - 41**\n",
        "* por ultimo la resta: 758 - 51 = **717**\n",
        "\n",
        "Ahora que ya tenemos un resultado más entendible, vamos a verificar si el primer termino es mayor o no.\n",
        "106.5 > 717 sería **FALSO**\n",
        "\n",
        "\n",
        "\n",
        "\n"
      ]
    },
    {
      "cell_type": "markdown",
      "metadata": {
        "id": "E58o_0rEID51"
      },
      "source": [
        "**Segundo**"
      ]
    },
    {
      "cell_type": "code",
      "metadata": {
        "colab": {
          "base_uri": "https://localhost:8080/"
        },
        "id": "YFKLVh0IIF1y",
        "outputId": "b933ad30-5548-4094-8b30-5289711c76fc"
      },
      "source": [
        "print(58*6/384**2 <= 78%2*78-85 or 56-231+56/523 >= 58/56+525-62)"
      ],
      "execution_count": 3,
      "outputs": [
        {
          "output_type": "stream",
          "text": [
            "False\n"
          ],
          "name": "stdout"
        }
      ]
    },
    {
      "cell_type": "markdown",
      "metadata": {
        "id": "l6cWNL9jJG0F"
      },
      "source": [
        "Vamos a comprobar el resultado:\n",
        "**Primer Booleano**\n",
        "1. Resolvemos el término que esté más a la izquierda que es:\n",
        "*58 * 6 / 384 ** 2*\n",
        "* Realizamos la potencia: 384 ** 2 = 147456 entonces queda 58 * 6 / 147456\n",
        "* Sigue la multiplicación: 58 * 6 = 348 entonces queda 348 / 147456\n",
        "* Por último la división: 0.00236\n",
        "2. Luego resolvemos el siguiente término para poder indicar el Booleanos que nos debe dar:\n",
        "*78 % 2 * 78 - 85*\n",
        "* Resolvemos el residuo: 78 % 2 = 0 entonces queda 0 * 78 - 85\n",
        "* Resolvemos la multiplicación: 0 * 78 = 0 entonces queda 0 - 85\n",
        "* Resolvemos la resta: 0 - 85 = -85\n",
        "0.00236 <= - 85 este resultado nos dará **FALSO**\n",
        "**Segundo Booleano**\n",
        "3. Resolvemos el primer término para encontrar el segundo boolano:\n",
        "*56 - 231 + 56 / 523*\n",
        "* Resolvemos la división: 56 / 523 = 0.10707456978967496 entonces queda 56 - 231 + 0.10707456978967496\n",
        "* Resolvemos la resta: 56 - 231 = -175 entonces queda - 175 + 0.10707456978967496\n",
        "* Resolvemos la suma: -174.8929254302103\n",
        "4. Resolvemos el segundo término:\n",
        "*58 / 56 + 525 - 62*\n",
        "* Resolvemos la división: 1.0357142857142858 entonces queda 1.0357142857142858 + 525 - 62\n",
        "* Resolvemos la suma: 526.0357142857143 entonces queda 526.0357142857143 - 62\n",
        "* Resolvemos la resta: 526.0357142857143 - 62 = 464.03571428571433\n",
        "-174.8929254302103 >= 464.03571428571433 esté resultado nos dará **FALSO**\n",
        "5. Por último verificamos toda la operación:\n",
        "*Falso OR Falso* = **FALSO**\n",
        "\n"
      ]
    },
    {
      "cell_type": "markdown",
      "metadata": {
        "id": "0bTy2Yk1N2NG"
      },
      "source": [
        "**Tercero**"
      ]
    },
    {
      "cell_type": "code",
      "metadata": {
        "colab": {
          "base_uri": "https://localhost:8080/"
        },
        "id": "U8MWl-u6ONRS",
        "outputId": "aa41757a-19f4-4484-805a-c14fc5dec965"
      },
      "source": [
        "print(True and (True == True) or False)"
      ],
      "execution_count": 5,
      "outputs": [
        {
          "output_type": "stream",
          "text": [
            "True\n"
          ],
          "name": "stdout"
        }
      ]
    },
    {
      "cell_type": "markdown",
      "metadata": {
        "id": "Snn1mD23Oyyt"
      },
      "source": [
        "Para saber el resultado:\n",
        "1. Debemos realizar la operación que está en el parentesis: True == True = True\n",
        "2. Resolvemos el and\n",
        "True and True = True\n",
        "3. Resolvemos el or\n",
        "True or False = True\n",
        "Como resultado final nos da un **TRUE**"
      ]
    },
    {
      "cell_type": "markdown",
      "metadata": {
        "id": "5-UH3XkAPYTS"
      },
      "source": [
        "**Cuarto**"
      ]
    },
    {
      "cell_type": "code",
      "metadata": {
        "colab": {
          "base_uri": "https://localhost:8080/"
        },
        "id": "z7S4YyXoPaYZ",
        "outputId": "1769bc06-b1a9-4f55-e9c1-9a80302caa3c"
      },
      "source": [
        "print(not(52+5/54*56 != 56+23-23 and 56/76**2 < 53-56))"
      ],
      "execution_count": 9,
      "outputs": [
        {
          "output_type": "stream",
          "text": [
            "True\n"
          ],
          "name": "stdout"
        }
      ]
    },
    {
      "cell_type": "markdown",
      "metadata": {
        "id": "p_Pf_J8JP3Y9"
      },
      "source": [
        "Resolvemos el primer Booleano:\n",
        "1. Resolvemos el término que está más a la izquierda, que es:\n",
        "*52 + 5 / 54 * 56*\n",
        "* Resolvemos la división: 5 / 54 = 0.09259259259259259\n",
        "* Resolvemos la multiplicación = 0.09259259259259259 * 56 = 5.185185185185185\n",
        "* Resolvemos la suma: 52 + 5.185185185185185 = 57.18518518518518\n",
        "2. Resolvemos el segundo término que es:\n",
        "*56 + 23 - 23 =\n",
        "* Resolvemos la suma: 56 + 23 = 79\n",
        "* Resolvemos la resta = 79 - 23 = 56\n",
        "Ahora sacamos el resultado boolano: 57.18518518518518 != 56 el resultado es **TRUE**\n",
        "Resolvemos el segundo Booleano:\n",
        "3. El primer termino es:\n",
        "*56 / 76 ** 2*\n",
        "* Primero realizamos la potencia: 76 ** 2 = 5776\n",
        "* Realizamos la división 56 / 5776 = 0.009695290858725761\n",
        "4. El segundo término es:\n",
        "*53 - 56*\n",
        "* Resolvemos la ecuación: 53 - 56 = -3\n",
        "Ahora sacamos el resultado boolano 0.009695290858725761 < -3 el resultado es **FALSO**\n",
        "Como tenemos un True AND False = False, pero como tenemos una negación anterior, el resultado nos darán un **TRUE**"
      ]
    },
    {
      "cell_type": "markdown",
      "metadata": {
        "id": "4oG4kYXjSQiF"
      },
      "source": [
        "**Quinto**"
      ]
    },
    {
      "cell_type": "code",
      "metadata": {
        "colab": {
          "base_uri": "https://localhost:8080/"
        },
        "id": "IjU10oRtSRZN",
        "outputId": "82b69668-03c3-484b-a57e-b11ffed3973d"
      },
      "source": [
        "print(56-34*56**5 <= 43+233-46*566)"
      ],
      "execution_count": 10,
      "outputs": [
        {
          "output_type": "stream",
          "text": [
            "True\n"
          ],
          "name": "stdout"
        }
      ]
    },
    {
      "cell_type": "markdown",
      "metadata": {
        "id": "82aUGkejS9WQ"
      },
      "source": [
        "Para saber cual es la respuesta correspondiente, tocaria resolver los dos terminos.\n",
        "1. 56 - 34 * 56 ** 5\n",
        "* Realizamos la potencia: 56 ** 5 = 550731776\n",
        "* Realizamos la multiplicación: 34 * 550731776 = 18724880384\n",
        "* Realizamos la resta: 56 - 18724880384 = -18724880328\n",
        "2. 43 + 233 - 46 * 566\n",
        "* Realizamos la multiplicación: 46 * 566 = 26036\n",
        "* Realizamos la suma: 43 + 233 = 276\n",
        "* Realizamos la resta: 276 - 26036 = -25760\n",
        "Comparamos: -18724880328 <= -25760 efectivamente el primer término es menor al segundo, por lo tanto la respuesta es **TRUE**\n"
      ]
    }
  ]
}