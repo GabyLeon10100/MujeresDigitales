{
  "nbformat": 4,
  "nbformat_minor": 0,
  "metadata": {
    "colab": {
      "name": "Clase6_7.ipynb",
      "provenance": [],
      "authorship_tag": "ABX9TyPD8B0Z/Wa6EVvXvNIKeOSM",
      "include_colab_link": true
    },
    "kernelspec": {
      "name": "python3",
      "display_name": "Python 3"
    },
    "language_info": {
      "name": "python"
    }
  },
  "cells": [
    {
      "cell_type": "markdown",
      "metadata": {
        "id": "view-in-github",
        "colab_type": "text"
      },
      "source": [
        "<a href=\"https://colab.research.google.com/github/GabyLeon10100/MujeresDigitales/blob/main/Clase6_7.ipynb\" target=\"_parent\"><img src=\"https://colab.research.google.com/assets/colab-badge.svg\" alt=\"Open In Colab\"/></a>"
      ]
    },
    {
      "cell_type": "markdown",
      "metadata": {
        "id": "cUYPcSoPD6Cq"
      },
      "source": [
        "**CONTINUACIÓN DE LOS EJEMPLOS DEL USO DE LISTA DE COMPRENSIÓN**\n",
        "\n",
        "---\n",
        "COMPRENSIÓN DE CONJUNTOS\n",
        "\n",
        "---\n",
        "La comprensión es muy similar a la que veniamos manejando con lista. La única diferencia es que se usa los {}\n",
        "\n",
        "Recordemos que los conjuntos también denominados *sets* no permiten duplicas, es decirm cada elemento es único. Si se llaga añadir un elemento repetido, no arrojará error, pero no se mostrará en el print\n",
        "\n"
      ]
    },
    {
      "cell_type": "code",
      "metadata": {
        "colab": {
          "base_uri": "https://localhost:8080/"
        },
        "id": "5tJjLpNbEaCq",
        "outputId": "aa617cd7-e231-4140-c122-b79e227ed4ee"
      },
      "source": [
        "sa = \"ema ama a mama\"\n",
        "sa2 = {i for i in sa if i == \"m\"}\n",
        "print(sa2)"
      ],
      "execution_count": null,
      "outputs": [
        {
          "output_type": "stream",
          "text": [
            "{'m'}\n"
          ],
          "name": "stdout"
        }
      ]
    },
    {
      "cell_type": "markdown",
      "metadata": {
        "id": "ehayFWg1EyC_"
      },
      "source": [
        "Ahora, veamos a continuación el caso de diccionarios de comprensión. La única diferencia que tiene respecto a las listas o conjuntos de comprensión es la especificación de llaves o claves(key)"
      ]
    },
    {
      "cell_type": "code",
      "metadata": {
        "colab": {
          "base_uri": "https://localhost:8080/"
        },
        "id": "LkfdWIxzFAIJ",
        "outputId": "0e2df754-259a-4ee2-d6ba-093f4b0dd578"
      },
      "source": [
        "lista1 = ['nombre', 'apellido', 'ciudad']\n",
        "lista2 = ['Ana', 'Rodriguez', 'Popayan']\n",
        "\n",
        "dict = {i:j for i, j in zip(lista1, lista2)}\n",
        "print(dict)"
      ],
      "execution_count": null,
      "outputs": [
        {
          "output_type": "stream",
          "text": [
            "{'nombre': 'Ana', 'apellido': 'Rodriguez', 'ciudad': 'Popayan'}\n"
          ],
          "name": "stdout"
        }
      ]
    },
    {
      "cell_type": "markdown",
      "metadata": {
        "id": "AnID6EaUFe_G"
      },
      "source": [
        "Podemos observar que anadiendo : asignamos un valor a la llave declarada, a su vez, usamos zip() el cual tiene como función iterar dos listas en paralelo. Es decir con zip podemos convertir dos listas en un diccionario y el for se manejaria iterando los valores en simultaneo."
      ]
    },
    {
      "cell_type": "markdown",
      "metadata": {
        "id": "70NpdbxsFxQy"
      },
      "source": [
        "**OTRAS ESTRUCTURAS DE CONTROL**\n",
        "\n",
        "---\n",
        "1. Switch\n",
        "2. Break\n",
        "3. Continue\n",
        "4. Complemento de iteración (Enumarate).\n",
        "\n",
        "**1. Switch**\n",
        "Es una herramienta que permite ejecutar diferentes secciones de código dependiendo de las condiciones impuestas. Su función es muy similar a usar if anidados o varios por separado al mismo tiempo.\n",
        "\n",
        "Sin embargo en python no hay un switch directo.\n",
        "\n",
        "**2. Break**\n",
        "Nos permite alterar el comportamiento de los ciclos de While y For. Directamente su función es la de finalizar los ciclos.\n"
      ]
    },
    {
      "cell_type": "code",
      "metadata": {
        "colab": {
          "base_uri": "https://localhost:8080/"
        },
        "id": "TqgiX1yNGeqb",
        "outputId": "19fe2bd7-4885-4de4-ac15-c4ba35476fe7"
      },
      "source": [
        "x = \"Andrea\"\n",
        "for i in  x:\n",
        "  if i == \"e\":\n",
        "    print(\"Se obtuvo la letra e\")\n",
        "    break\n",
        "print(i)"
      ],
      "execution_count": null,
      "outputs": [
        {
          "output_type": "stream",
          "text": [
            "Se obtuvo la letra e\n",
            "e\n"
          ],
          "name": "stdout"
        }
      ]
    },
    {
      "cell_type": "code",
      "metadata": {
        "colab": {
          "base_uri": "https://localhost:8080/"
        },
        "id": "6ZhKo_6fHBRd",
        "outputId": "aab48855-c93c-4223-a4f4-c5d02b2b0a37"
      },
      "source": [
        "x = 15\n",
        "while True:\n",
        "  x -= 1\n",
        "  print(x)\n",
        "  if x == 0:\n",
        "    break\n",
        "print(\"Se finaliza el ciclo\")"
      ],
      "execution_count": null,
      "outputs": [
        {
          "output_type": "stream",
          "text": [
            "14\n",
            "13\n",
            "12\n",
            "11\n",
            "10\n",
            "9\n",
            "8\n",
            "7\n",
            "6\n",
            "5\n",
            "4\n",
            "3\n",
            "2\n",
            "1\n",
            "0\n",
            "Se finaliza el ciclo\n"
          ],
          "name": "stdout"
        }
      ]
    },
    {
      "cell_type": "code",
      "metadata": {
        "colab": {
          "base_uri": "https://localhost:8080/"
        },
        "id": "JZ02vMWFHudl",
        "outputId": "31008e49-3d58-4f6f-b3bf-9a50a5069d68"
      },
      "source": [
        "#Uso de break con los ciclos anidados:\n",
        "for i in range(1,8):\n",
        "  for j in range(1,8):\n",
        "    break\n",
        "  print(i,j)\n",
        "\n",
        "#El break no afecta el for externo, rompe el ciclo anidado en su conjunto pero no afecta directamente el ciclo exterior"
      ],
      "execution_count": null,
      "outputs": [
        {
          "output_type": "stream",
          "text": [
            "1 1\n",
            "2 1\n",
            "3 1\n",
            "4 1\n",
            "5 1\n",
            "6 1\n",
            "7 1\n"
          ],
          "name": "stdout"
        }
      ]
    },
    {
      "cell_type": "markdown",
      "metadata": {
        "id": "SYsUuYw5Jc4x"
      },
      "source": [
        "**3. Continue**\n",
        "Se salta todo el código restante en la iteración actual y vuelve al principio en caso que queda elementos por iterar.\n",
        "\n",
        "Diferencias entre break y continue: La principal diferencia es que continue no rompe el ciclo, si no que pasa a la iteración pendiente"
      ]
    },
    {
      "cell_type": "code",
      "metadata": {
        "colab": {
          "base_uri": "https://localhost:8080/"
        },
        "id": "Yg6yjnYpJvdo",
        "outputId": "d96a585b-214d-40b8-b549-f217ad00e381"
      },
      "source": [
        "x = \"Andrea\"\n",
        "for i in x:\n",
        "  if i == \"r\":\n",
        "    continue\n",
        "  print(i)"
      ],
      "execution_count": null,
      "outputs": [
        {
          "output_type": "stream",
          "text": [
            "A\n",
            "n\n",
            "d\n",
            "e\n",
            "a\n"
          ],
          "name": "stdout"
        }
      ]
    },
    {
      "cell_type": "code",
      "metadata": {
        "colab": {
          "base_uri": "https://localhost:8080/"
        },
        "id": "B9suHntNKAUT",
        "outputId": "95a237c5-67d5-4ee6-a785-fa2d07776a80"
      },
      "source": [
        "x = 15\n",
        "while x > 0:\n",
        "  x -= 1\n",
        "  if x == 3:\n",
        "    continue\n",
        "  print(x)"
      ],
      "execution_count": null,
      "outputs": [
        {
          "output_type": "stream",
          "text": [
            "14\n",
            "13\n",
            "12\n",
            "11\n",
            "10\n",
            "9\n",
            "8\n",
            "7\n",
            "6\n",
            "5\n",
            "4\n",
            "2\n",
            "1\n",
            "0\n"
          ],
          "name": "stdout"
        }
      ]
    },
    {
      "cell_type": "markdown",
      "metadata": {
        "id": "ag8JaNkoKULa"
      },
      "source": [
        "** 4. enumerate**\n",
        "Python nos permite iterar colecciones de objetos y elementos de la misma forma. Sin embargo hay una opción que es que en algunas situaciones que queramos acceder a un elemento ordenado podemos hacerlo nombrabdo el indice de cada elemento llamado."
      ]
    },
    {
      "cell_type": "code",
      "metadata": {
        "colab": {
          "base_uri": "https://localhost:8080/"
        },
        "id": "KMDBn1QuK4ri",
        "outputId": "831c1337-3df5-4f80-ad53-b8d850afb888"
      },
      "source": [
        "w = [\"sa\", \"se\", \"si\", \"so\", \"su\"]\n",
        "indice = 1\n",
        "for i in w:\n",
        "  print(indice, i)\n",
        "  indice +=1"
      ],
      "execution_count": null,
      "outputs": [
        {
          "output_type": "stream",
          "text": [
            "1 sa\n",
            "2 se\n",
            "3 si\n",
            "4 so\n",
            "5 su\n"
          ],
          "name": "stdout"
        }
      ]
    },
    {
      "cell_type": "code",
      "metadata": {
        "colab": {
          "base_uri": "https://localhost:8080/"
        },
        "id": "3rG4otqaLIQX",
        "outputId": "05a5121e-156f-4480-c51b-c1cc10b5f8ad"
      },
      "source": [
        "w = [\"sa\", \"se\", \"si\", \"so\", \"su\"]\n",
        "for indice, i in enumerate(w):\n",
        "  print(indice, i)\n",
        "\n",
        "x = list(enumerate(w))\n",
        "print(x)"
      ],
      "execution_count": null,
      "outputs": [
        {
          "output_type": "stream",
          "text": [
            "0 sa\n",
            "1 se\n",
            "2 si\n",
            "3 so\n",
            "4 su\n",
            "[(0, 'sa'), (1, 'se'), (2, 'si'), (3, 'so'), (4, 'su')]\n"
          ],
          "name": "stdout"
        }
      ]
    },
    {
      "cell_type": "markdown",
      "metadata": {
        "id": "3KjIwzZbLuGq"
      },
      "source": [
        "**Uso zip()**\n",
        "\n",
        "---\n",
        "Si pasamos dos listas a zip, el resultado será una tupla donde cada elemento tendrá todos y cada uno de los elementos de las entradas\n"
      ]
    },
    {
      "cell_type": "code",
      "metadata": {
        "colab": {
          "base_uri": "https://localhost:8080/"
        },
        "id": "5emMAOw_MCG8",
        "outputId": "6363f7de-006e-4a54-a076-0728487a303a"
      },
      "source": [
        "a = [1,2,3]\n",
        "b = [\"a\", \"b\", \"c\"]\n",
        "x = (\"q\", \"w\", \"e\")\n",
        "z = (10, 20, 30)\n",
        "c = zip(a, b)\n",
        "print(list(c))\n",
        "\n",
        "\n",
        "for i, j, k, l in zip(a,b, x,z):\n",
        "  print(i,j,k,l)"
      ],
      "execution_count": null,
      "outputs": [
        {
          "output_type": "stream",
          "text": [
            "[(1, 'a'), (2, 'b'), (3, 'c')]\n",
            "1 a q 10\n",
            "2 b w 20\n",
            "3 c e 30\n"
          ],
          "name": "stdout"
        }
      ]
    },
    {
      "cell_type": "code",
      "metadata": {
        "colab": {
          "base_uri": "https://localhost:8080/"
        },
        "id": "tX5KOeiGNSl9",
        "outputId": "39b9b311-3d48-4516-bd6c-76054ef862f8"
      },
      "source": [
        "c = [(1, 'a'), (2, 'b'), (3, 'c')]\n",
        "a, b = zip(*c)\n",
        "print(a)\n",
        "print(b)"
      ],
      "execution_count": null,
      "outputs": [
        {
          "output_type": "stream",
          "text": [
            "(1, 2, 3)\n",
            "('a', 'b', 'c')\n"
          ],
          "name": "stdout"
        }
      ]
    },
    {
      "cell_type": "markdown",
      "metadata": {
        "id": "qVFhiZ1hOltI"
      },
      "source": [
        "**FUNCIONES**\n",
        "\n",
        "---\n",
        "La función nos permite ordenar de manera adecuada la generación de objetos y bloques por ciclos y demás estructura.\n",
        "\n",
        "La sintaxis es la siguiente:\n",
        "\n",
        "def nombre_funcion(argumentos):\n",
        "  código\n",
        "\n",
        "nombre_funcion(argumentos2)\n"
      ]
    },
    {
      "cell_type": "code",
      "metadata": {
        "colab": {
          "base_uri": "https://localhost:8080/"
        },
        "id": "GmL3Dx36O8_W",
        "outputId": "31bd3377-9894-4666-a0b1-b52f3d32d0da"
      },
      "source": [
        "def f(a):\n",
        "  return 2 * a\n",
        "\n",
        "y = f(3)\n",
        "print(y)"
      ],
      "execution_count": null,
      "outputs": [
        {
          "output_type": "stream",
          "text": [
            "6\n"
          ],
          "name": "stdout"
        }
      ]
    },
    {
      "cell_type": "markdown",
      "metadata": {
        "id": "ufUCPT_lPVYU"
      },
      "source": [
        "Las funciones no solo realaizan una operación en sus entradas (argumentos de inicio). Sino también parten de los siguientes principios:\n",
        "\n",
        "**1. Reusabilidad:** Si tenemos un fragmento usado en muchos sitios y se guarda en una función. Nos evitará tener códigos repetidos, además de la conveniencia que tiene por ser facimente editable.\n",
        "\n",
        "**2. Modularidad:** Permite legibilidad de forma más sencilla, es decir, los largos bloques de código se pueden agrupar en módulos o funciones y la lectura va a ser mucho más sencilla."
      ]
    },
    {
      "cell_type": "code",
      "metadata": {
        "colab": {
          "base_uri": "https://localhost:8080/"
        },
        "id": "BSskw1InQCRY",
        "outputId": "5d7ee766-4908-4aa6-f497-62f2fcb6ff98"
      },
      "source": [
        "# Ejemplo 1: Función sin argumentos de entrada ni parámetros de salida:\n",
        "\n",
        "def s(): # Declaración de función\n",
        "  print(\"Hi Gabriela\")\n",
        "s() #Al cerrar la deficion de la funcion me va a ejecutar el código"
      ],
      "execution_count": null,
      "outputs": [
        {
          "output_type": "stream",
          "text": [
            "Hi Gabriela\n"
          ],
          "name": "stdout"
        }
      ]
    },
    {
      "cell_type": "code",
      "metadata": {
        "colab": {
          "base_uri": "https://localhost:8080/"
        },
        "id": "fMAuRlERQYLG",
        "outputId": "27801b14-a9e7-4d2d-ecc3-bf94db4e88a4"
      },
      "source": [
        "#Ejemplo 2: Incluir argumentos de entrada y salida\n",
        "def s(apellido):\n",
        "  print(\"Hi Gabriela\", apellido)\n",
        "s(\"León\")"
      ],
      "execution_count": null,
      "outputs": [
        {
          "output_type": "stream",
          "text": [
            "Hi Gabriela León\n"
          ],
          "name": "stdout"
        }
      ]
    },
    {
      "cell_type": "code",
      "metadata": {
        "colab": {
          "base_uri": "https://localhost:8080/"
        },
        "id": "95LjWu0nQsAw",
        "outputId": "080e54c7-732c-4bdd-df97-eeeb716fef0a"
      },
      "source": [
        "# Ejemplo 3: Usando dos argumentos de entrada y salida y operacion matematico\n",
        "def suma(a,b):\n",
        "  return a+b\n",
        "suma(3,5)"
      ],
      "execution_count": null,
      "outputs": [
        {
          "output_type": "execute_result",
          "data": {
            "text/plain": [
              "8"
            ]
          },
          "metadata": {},
          "execution_count": 32
        }
      ]
    },
    {
      "cell_type": "code",
      "metadata": {
        "colab": {
          "base_uri": "https://localhost:8080/"
        },
        "id": "sFfUdZ7aRI4g",
        "outputId": "7e8c2035-30a6-4090-8eee-7f2049221f78"
      },
      "source": [
        "# Ejemplo 4: Reusabilidad del código\n",
        "suma(a=4, b=20)"
      ],
      "execution_count": null,
      "outputs": [
        {
          "output_type": "execute_result",
          "data": {
            "text/plain": [
              "24"
            ]
          },
          "metadata": {},
          "execution_count": 33
        }
      ]
    },
    {
      "cell_type": "code",
      "metadata": {
        "colab": {
          "base_uri": "https://localhost:8080/"
        },
        "id": "eb4OyH7gRdag",
        "outputId": "8d854dfb-008c-47a6-f654-da4b89eec0ae"
      },
      "source": [
        "# Ejemplo 5: Argumentos fijos desde el inicio\n",
        "def suma(a, b, c, d=1):\n",
        "  return a+b+c+d\n",
        "suma(2,3,4)"
      ],
      "execution_count": 9,
      "outputs": [
        {
          "output_type": "execute_result",
          "data": {
            "text/plain": [
              "10"
            ]
          },
          "metadata": {},
          "execution_count": 9
        }
      ]
    },
    {
      "cell_type": "code",
      "metadata": {
        "colab": {
          "base_uri": "https://localhost:8080/"
        },
        "id": "Y_B-MdsdSivo",
        "outputId": "d20b61b6-4ba2-47d2-cabf-aa6a255cbff7"
      },
      "source": [
        "# Ejemplo 6: Argumentos de longitud variable\n",
        "\n",
        "def suma(number):\n",
        "  total = 0\n",
        "  for i in number:\n",
        "    total += i\n",
        "  return total\n",
        "suma([1,3,5,4])"
      ],
      "execution_count": null,
      "outputs": [
        {
          "output_type": "execute_result",
          "data": {
            "text/plain": [
              "13"
            ]
          },
          "metadata": {},
          "execution_count": 39
        }
      ]
    },
    {
      "cell_type": "markdown",
      "metadata": {
        "id": "Byss9hpiTUvt"
      },
      "source": [
        "Se realizó la suma de todos los números de entrada. Para ello la declaración de los argumentos de salida seria como una lista.\n",
        "\n",
        "La forma de sintaxis anterior es valida, sin embargo, tenemos un solo argumento que es una lista de números.\n",
        "\n",
        "Si declaramos un argumento con *, esto hará que el argumento en guarfafo como tupla manera automática."
      ]
    },
    {
      "cell_type": "code",
      "metadata": {
        "colab": {
          "base_uri": "https://localhost:8080/"
        },
        "id": "jkEdhNHcThz7",
        "outputId": "c42ad11f-bb35-4dfb-c529-2695b1e914af"
      },
      "source": [
        "def suma(*number):\n",
        "  print(type(number))\n",
        "  total = 0\n",
        "  for i in number:\n",
        "    total += i\n",
        "  return total\n",
        "\n",
        "suma(1,3,5,4)"
      ],
      "execution_count": 4,
      "outputs": [
        {
          "output_type": "stream",
          "text": [
            "<class 'tuple'>\n"
          ],
          "name": "stdout"
        },
        {
          "output_type": "execute_result",
          "data": {
            "text/plain": [
              "13"
            ]
          },
          "metadata": {},
          "execution_count": 4
        }
      ]
    },
    {
      "cell_type": "markdown",
      "metadata": {
        "id": "19BcL4Sv52Ho"
      },
      "source": [
        "**CLASE 7**\n",
        "\n",
        "---\n",
        "\n",
        "\n",
        "**Continuación de Funciones**"
      ]
    },
    {
      "cell_type": "code",
      "metadata": {
        "colab": {
          "base_uri": "https://localhost:8080/"
        },
        "id": "WqXgqCiW595q",
        "outputId": "8b42a39e-5424-4d6f-983b-636b2cf1c232"
      },
      "source": [
        "suma(2)\n",
        "suma(1,2,5,6,7,9) # Al realizar el cambio y/o edición de la función suma que veniamos usando, se puede añadir n elementos para iterar la función"
      ],
      "execution_count": 7,
      "outputs": [
        {
          "output_type": "stream",
          "text": [
            "<class 'tuple'>\n",
            "<class 'tuple'>\n"
          ],
          "name": "stdout"
        },
        {
          "output_type": "execute_result",
          "data": {
            "text/plain": [
              "30"
            ]
          },
          "metadata": {},
          "execution_count": 7
        }
      ]
    },
    {
      "cell_type": "markdown",
      "metadata": {
        "id": "rZCMbHSi6xpx"
      },
      "source": [
        "El uso de **:\n",
        "Nos permite tener como parámetro de entrada una lista de elementos en forma de clave y valor. La forma de iterar sera usando el comando *item()*"
      ]
    },
    {
      "cell_type": "code",
      "metadata": {
        "colab": {
          "base_uri": "https://localhost:8080/"
        },
        "id": "CSg9L26Q63Kb",
        "outputId": "871446fe-1bb8-4bcf-8dd5-f0690fb2779b"
      },
      "source": [
        "def suma(**dado):\n",
        "  suma = 0\n",
        "  for i, j in dado.items():\n",
        "    suma += j\n",
        "  return suma\n",
        "  \n",
        "suma(a=3, b=30, c=7)"
      ],
      "execution_count": 13,
      "outputs": [
        {
          "output_type": "execute_result",
          "data": {
            "text/plain": [
              "40"
            ]
          },
          "metadata": {},
          "execution_count": 13
        }
      ]
    },
    {
      "cell_type": "markdown",
      "metadata": {
        "id": "3a3JTjyH7zS5"
      },
      "source": [
        "**Ampliemos la definición del comando Return**\n",
        "\n",
        "\n",
        "\n",
        "---\n",
        "\n",
        "1. Devolver parámetros \n",
        "\n",
        "\n"
      ]
    },
    {
      "cell_type": "code",
      "metadata": {
        "colab": {
          "base_uri": "https://localhost:8080/",
          "height": 36
        },
        "id": "-t8uYkl98AO9",
        "outputId": "3b3dd090-4726-4033-c28f-eee395695903"
      },
      "source": [
        "def w():\n",
        "  return \"Hi\"\n",
        "w()"
      ],
      "execution_count": 14,
      "outputs": [
        {
          "output_type": "execute_result",
          "data": {
            "application/vnd.google.colaboratory.intrinsic+json": {
              "type": "string"
            },
            "text/plain": [
              "'Hi'"
            ]
          },
          "metadata": {},
          "execution_count": 14
        }
      ]
    },
    {
      "cell_type": "markdown",
      "metadata": {
        "id": "nVt9zdBg8JpW"
      },
      "source": [
        "2. Devolver varias variables"
      ]
    },
    {
      "cell_type": "code",
      "metadata": {
        "colab": {
          "base_uri": "https://localhost:8080/"
        },
        "id": "fR5loYGg8Nl3",
        "outputId": "8b8ee12c-6eed-4a9c-bb74-3c7cd0bb49e6"
      },
      "source": [
        "def sd(a, b, c):\n",
        "  q = a+b+c #Declaracoón de variable con una suma de argumentos\n",
        "  z = q/3 # Declaracion de variable con el promedio\n",
        "  return q, z\n",
        "q, z = sd(2,4,6)\n",
        "print(q)\n",
        "print(z)"
      ],
      "execution_count": 16,
      "outputs": [
        {
          "output_type": "stream",
          "text": [
            "12\n",
            "4.0\n"
          ],
          "name": "stdout"
        }
      ]
    },
    {
      "cell_type": "markdown",
      "metadata": {
        "id": "klzQYFBD8oSQ"
      },
      "source": [
        "**Formas de hacer documentación en programación y por bloques de código o línea**\n",
        "\n",
        "---\n"
      ]
    },
    {
      "cell_type": "code",
      "metadata": {
        "colab": {
          "base_uri": "https://localhost:8080/"
        },
        "id": "H84lBVef8QKQ",
        "outputId": "f3638ed0-ce75-419d-e472-e3baf89b4e81"
      },
      "source": [
        "def paula(a,b):\n",
        "  \"\"\"\n",
        "  Descripción de la función, los parámetros que se van a usar, explicar como se usa y que operaciones devuelve esta función (docstring)\n",
        "  \"\"\"\n",
        "  return a + b\n",
        "paula(2,3)"
      ],
      "execution_count": 17,
      "outputs": [
        {
          "output_type": "execute_result",
          "data": {
            "text/plain": [
              "5"
            ]
          },
          "metadata": {},
          "execution_count": 17
        }
      ]
    },
    {
      "cell_type": "code",
      "metadata": {
        "colab": {
          "base_uri": "https://localhost:8080/"
        },
        "id": "Q0LLRZtD9RsN",
        "outputId": "0ad18cec-dcac-4668-8e10-273256418a1b"
      },
      "source": [
        "help(paula)"
      ],
      "execution_count": 18,
      "outputs": [
        {
          "output_type": "stream",
          "text": [
            "Help on function paula in module __main__:\n",
            "\n",
            "paula(a, b)\n",
            "    Descripción de la función, los parámetros que se van a usar, explicar como se usa y que operaciones devuelve esta función (docstring)\n",
            "\n"
          ],
          "name": "stdout"
        }
      ]
    },
    {
      "cell_type": "code",
      "metadata": {
        "colab": {
          "base_uri": "https://localhost:8080/"
        },
        "id": "0W0NiW949ZnC",
        "outputId": "7a06c9cf-2564-4cd6-e47b-059470ac4f4a"
      },
      "source": [
        "print(paula.__doc__) #Otra forma de llamar el comentario es print el nombre de la función seguido de punto seguido, doblre guion bajo, escribir doc y seguido doble guion bajo"
      ],
      "execution_count": 21,
      "outputs": [
        {
          "output_type": "stream",
          "text": [
            "\n",
            "  Descripción de la función, los parámetros que se van a usar, explicar como se usa y que operaciones devuelve esta función (docstring)\n",
            "  \n"
          ],
          "name": "stdout"
        }
      ]
    },
    {
      "cell_type": "markdown",
      "metadata": {
        "id": "gvQQaIYV-Btq"
      },
      "source": [
        "**Diferencia entre valores y referencias**\n",
        "\n",
        "---\n",
        "Existen dos conceptos de paso por *valor* y por *referencia* que se aplican a la hora de tratar a los par+ametros de entrada de una función\n",
        "1. Se se usa un parámetro que pasa por *valor*, se crea una copia local de la variable, lo cual implica que cualquier modificación sobre está no tendrá repercusiones sobre la base original.\n",
        "2. Si la variable pasa como referencia, sí actuará directamente sobre la base original.\n"
      ]
    },
    {
      "cell_type": "code",
      "metadata": {
        "colab": {
          "base_uri": "https://localhost:8080/"
        },
        "id": "mTwE0Cby-5ea",
        "outputId": "ec9f70bf-8740-4250-cad9-7afe521b866e"
      },
      "source": [
        "#Ejemplo de paso por **valor**\n",
        "x = 3\n",
        "def funcion(w):\n",
        "  w = 0\n",
        "funcion(x)\n",
        "print(x)"
      ],
      "execution_count": 25,
      "outputs": [
        {
          "output_type": "stream",
          "text": [
            "None\n",
            "3\n"
          ],
          "name": "stdout"
        }
      ]
    },
    {
      "cell_type": "markdown",
      "metadata": {
        "id": "OCf79-p8_T6z"
      },
      "source": [
        "1. Inicio con x = 3\n",
        "2. Se lo pasamos a la funcion()\n",
        "3. Dentro de esta función hacemos que la variable valga cero\n",
        "4. Dado que pasa como valor, dentro de la función se crea una copia local de x, por lo tanto no se modifica la variable x"
      ]
    },
    {
      "cell_type": "code",
      "metadata": {
        "colab": {
          "base_uri": "https://localhost:8080/"
        },
        "id": "Wv9tsomg_yNZ",
        "outputId": "642e622d-80dc-4d87-c9a6-a9918b168e35"
      },
      "source": [
        "# Caso que pasa por *Referencia*\n",
        "x = [3,6,9,12]\n",
        "def sw(tipo):\n",
        "  tipo.append(50)\n",
        "sw(x)\n",
        "print(x)"
      ],
      "execution_count": 27,
      "outputs": [
        {
          "output_type": "stream",
          "text": [
            "[3, 6, 9, 12, 50]\n"
          ],
          "name": "stdout"
        }
      ]
    },
    {
      "cell_type": "markdown",
      "metadata": {
        "id": "mDAsO7B0AzeJ"
      },
      "source": [
        "**Tipos de funciones**\n",
        "\n",
        "---\n",
        "1. Función Lambda\n",
        "\n",
        "---\n",
        "\n",
        "Son funciones que normalmente se usan para definir el código en una sola linea\n"
      ]
    },
    {
      "cell_type": "code",
      "metadata": {
        "colab": {
          "base_uri": "https://localhost:8080/"
        },
        "id": "FiLLTydvBFnm",
        "outputId": "9eb3216c-b222-4a33-cdc4-a84cd10c8f47"
      },
      "source": [
        "#Lo que normalmente sería la definición de la función de este estilo:\n",
        "#def suma(a,b,c,d):\n",
        "#       returna a+b+c+d\n",
        "\n",
        "#Se puede escribir de la siguiente forma:\n",
        "(lambda a,b,c,d: a+b+c+d)(1,2,3,4)"
      ],
      "execution_count": 28,
      "outputs": [
        {
          "output_type": "execute_result",
          "data": {
            "text/plain": [
              "10"
            ]
          },
          "metadata": {},
          "execution_count": 28
        }
      ]
    },
    {
      "cell_type": "code",
      "metadata": {
        "colab": {
          "base_uri": "https://localhost:8080/"
        },
        "id": "qaaMcQo9B04z",
        "outputId": "e0f86c19-8db8-4b97-c4c8-65630d296f95"
      },
      "source": [
        "(lambda *number:sum(number))(1,4,5,5,6,7,8)"
      ],
      "execution_count": 30,
      "outputs": [
        {
          "output_type": "execute_result",
          "data": {
            "text/plain": [
              "36"
            ]
          },
          "metadata": {},
          "execution_count": 30
        }
      ]
    },
    {
      "cell_type": "code",
      "metadata": {
        "colab": {
          "base_uri": "https://localhost:8080/"
        },
        "id": "QCulgcMXCay2",
        "outputId": "3a2e04c1-5e5f-4b87-9101-38368b93823d"
      },
      "source": [
        "(lambda **number:sum(number.values()))(a=1, b=4, c=10)"
      ],
      "execution_count": 31,
      "outputs": [
        {
          "output_type": "execute_result",
          "data": {
            "text/plain": [
              "15"
            ]
          },
          "metadata": {},
          "execution_count": 31
        }
      ]
    },
    {
      "cell_type": "code",
      "metadata": {
        "colab": {
          "base_uri": "https://localhost:8080/"
        },
        "id": "OfA2gHgtCora",
        "outputId": "442932f2-9d34-4905-ac06-715f4c791019"
      },
      "source": [
        "luisa = lambda a,b,c,d:a+b+c+d\n",
        "print(luisa(4,6,1,1))"
      ],
      "execution_count": 33,
      "outputs": [
        {
          "output_type": "stream",
          "text": [
            "12\n"
          ],
          "name": "stdout"
        }
      ]
    },
    {
      "cell_type": "markdown",
      "metadata": {
        "id": "37SNR99SDFYE"
      },
      "source": [
        "**RECURSIVIDAD**\n",
        "\n",
        "---\n",
        "\n",
        "Las caracteristicas de una función recursiva son las siguientes:\n",
        "1. Sección en que se llama a sí misma\n",
        "2. Sección del bloque de código donde este la condición que implique retornar sin volver a llamarse. (IMPORTANTE).\n",
        "\n",
        "Los ejemplos tradicionales de recursividad son la aplicacion de **Cálculo factorial** y la **seria de *fibonacci***\n",
        "\n",
        "**1. Cálculo factorial**\n",
        "En matemáticas definimos factorial (n!) como la multiplicación de todos sus números predecedores hasta llegar a uno:\n",
        "\n",
        "Ejemplo:\n",
        "5! = 5*4*3*2*1\n",
        "100! = 100*99*98*97....*1"
      ]
    },
    {
      "cell_type": "code",
      "metadata": {
        "colab": {
          "base_uri": "https://localhost:8080/"
        },
        "id": "56FUHeBCEISA",
        "outputId": "d37c0db0-cd15-46d2-d99b-f794bc42eaab"
      },
      "source": [
        "#Apliquemos un efoque no recursivo de cálculo factorial:\n",
        "def factorial(n):\n",
        "  w=1\n",
        "  i=2\n",
        "  while i<=n:\n",
        "    w *=i\n",
        "    i += 1\n",
        "  return w\n",
        "factorial(5)"
      ],
      "execution_count": 36,
      "outputs": [
        {
          "output_type": "execute_result",
          "data": {
            "text/plain": [
              "120"
            ]
          },
          "metadata": {},
          "execution_count": 36
        }
      ]
    },
    {
      "cell_type": "code",
      "metadata": {
        "colab": {
          "base_uri": "https://localhost:8080/"
        },
        "id": "TmJGoo7kEORl",
        "outputId": "0dc7d63a-8e64-40b6-ecd6-4afe0d3b27f3"
      },
      "source": [
        "#Definimos factorial recursivo:\n",
        "def recursivofac(n):\n",
        "  if n == 1:\n",
        "    return 1\n",
        "  else:\n",
        "    return n*recursivofac(n-1)\n",
        "recursivofac(10)"
      ],
      "execution_count": 38,
      "outputs": [
        {
          "output_type": "execute_result",
          "data": {
            "text/plain": [
              "3628800"
            ]
          },
          "metadata": {},
          "execution_count": 38
        }
      ]
    },
    {
      "cell_type": "markdown",
      "metadata": {
        "id": "6C81Q86EFpmF"
      },
      "source": [
        "A continuación complementamos los tipos de generadores:\n",
        "1. Return\n",
        "2. Yield"
      ]
    },
    {
      "cell_type": "code",
      "metadata": {
        "colab": {
          "base_uri": "https://localhost:8080/"
        },
        "id": "t-IL7WHvFzNP",
        "outputId": "fdca660e-92a8-4576-8ba5-7b71e2cd3b0c"
      },
      "source": [
        "def s():\n",
        "  yield 4\n",
        "s()"
      ],
      "execution_count": 39,
      "outputs": [
        {
          "output_type": "execute_result",
          "data": {
            "text/plain": [
              "<generator object s at 0x7f23b5baf850>"
            ]
          },
          "metadata": {},
          "execution_count": 39
        }
      ]
    },
    {
      "cell_type": "markdown",
      "metadata": {
        "id": "MmNFOh_rF82w"
      },
      "source": [
        "Cuando usamos el return, nos devuelve el número 4, pero cuando usamos el Yield lo que devuelve es un objeto de clase (generator)"
      ]
    }
  ]
}