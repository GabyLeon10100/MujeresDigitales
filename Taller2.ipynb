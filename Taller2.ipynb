{
  "nbformat": 4,
  "nbformat_minor": 0,
  "metadata": {
    "colab": {
      "name": "Taller2.ipynb",
      "provenance": [],
      "authorship_tag": "ABX9TyP49qSbv72+Mc6GkbyPrt47",
      "include_colab_link": true
    },
    "kernelspec": {
      "name": "python3",
      "display_name": "Python 3"
    },
    "language_info": {
      "name": "python"
    }
  },
  "cells": [
    {
      "cell_type": "markdown",
      "metadata": {
        "id": "view-in-github",
        "colab_type": "text"
      },
      "source": [
        "<a href=\"https://colab.research.google.com/github/GabyLeon10100/MujeresDigitales/blob/main/Taller2.ipynb\" target=\"_parent\"><img src=\"https://colab.research.google.com/assets/colab-badge.svg\" alt=\"Open In Colab\"/></a>"
      ]
    },
    {
      "cell_type": "markdown",
      "metadata": {
        "id": "0UHoCF2Qu-g-"
      },
      "source": [
        "**Taller 2**\n",
        "\n",
        "---\n",
        "\n",
        "Se solicita realizar un programa que permita identificar el nivel de cumplimiento de la empresa AVA.\n",
        "\n",
        "Entre los principales requerimientos se encuentran los siguientes:\n",
        "\n",
        "1. Permita ingresar la cantidad de vendedores del área de ventas. \n",
        "2. Permita ingresar la puntuación de cada uno de ellos (esccala de 1 a 10).\n",
        "3. El programa debe permitir identificar el vendedor con peor rendimiento y mejor rendimiento. \n",
        "4. Obtener también el promedio general de cumplimiento del área de ventas.\n",
        "\n",
        "**Nota:**\n",
        "Si hay empate en la puntuación para definir el primer y último puesto, se define por orden alfabetico."
      ]
    },
    {
      "cell_type": "code",
      "metadata": {
        "colab": {
          "base_uri": "https://localhost:8080/"
        },
        "id": "7CzItlRAyHs1",
        "outputId": "f79b8f54-4b02-41c1-fb3b-aa0ce319b406"
      },
      "source": [
        "nombre_vendedores = list()\n",
        "puntuacion_vendedores = list()\n",
        "cantidad_vendedores = int(input(\"Ingrese la cantidad de vendedores en el área de ventas \"))\n",
        "contador = 1;\n",
        "\n",
        "#Obtener los valores que necesitamos\n",
        "while contador <= cantidad_vendedores:\n",
        "  nombre_vendedor = input(\"Ingrese el nombre del vendedor número \" + str(contador) + \" \")\n",
        "  nombre_vendedores.append(nombre_vendedor)\n",
        "  puntuacion_vendedor = int(input(\"Ingrese la puntuación del vendedor \" + str(nombre_vendedores[contador - 1]) + \" en la escala de 1 al 10 \"))\n",
        "  puntuacion_vendedores.append(puntuacion_vendedor)\n",
        "  contador += 1\n",
        "\n",
        "#Funcion para saber si los valores se repiten y su indice\n",
        "def repeticiones(lista, repeticion):\n",
        "  indices = list()\n",
        "  contador = 0\n",
        "  for i in lista:\n",
        "    if i == repeticion:\n",
        "      indices.append(contador)\n",
        "    contador += 1\n",
        "  return indices\n",
        "\n",
        "#Funcion para saber el orden de los nombre alfabeticamente\n",
        "def orden(lprincipal, lnombre):\n",
        "  nombres = list()\n",
        "  for i in lprincipal:\n",
        "    nombres.append(lnombre[i])\n",
        "  nombres.sort()\n",
        "  return nombres[0]\n",
        "\n",
        "#Mejor rendimiento\n",
        "mrendimiento = max(puntuacion_vendedores)\n",
        "repeticionm = puntuacion_vendedores.count(mrendimiento)\n",
        "# Identificar si hay vendedores con el mejor rendimiento\n",
        "if repeticionm > 1:\n",
        "  indicesmejores = repeticiones(puntuacion_vendedores, mrendimiento)\n",
        "  nombre = orden(indicesmejores, nombre_vendedores)\n",
        "  print(\"-----------------\")\n",
        "  print(\"El vendedor con mejor rendimiento es\", nombre)\n",
        "else:\n",
        "  indice = puntuacion_vendedores.index(mrendimiento)\n",
        "  nombre = nombre_vendedores[indice]\n",
        "  print(\"-----------------\")\n",
        "  print(\"El vendedor con mejor rendimiento es\", nombre)\n",
        "\n",
        "\n",
        "#Peor rendimiento\n",
        "prendimiento = min(puntuacion_vendedores)\n",
        "repeticionp = puntuacion_vendedores.count(prendimiento)\n",
        "# Identificar si hay vendedores con el mejor rendimiento\n",
        "if repeticionp > 1:\n",
        "  indicespeores = repeticiones(puntuacion_vendedores, prendimiento)\n",
        "  nombre = orden(indicespeores, nombre_vendedores)\n",
        "  print(\"-----------------\")\n",
        "  print(\"El vendedor con peor rendimiento es\", nombre)\n",
        "else:\n",
        "  indice = puntuacion_vendedores.index(prendimiento)\n",
        "  nombre = nombre_vendedores[indice]\n",
        "  print(\"-----------------\")\n",
        "  print(\"El vendedor con peor rendimiento es\", nombre)\n",
        "\n",
        "#Promedio de todos los vendedores\n",
        "promedio = round(sum(puntuacion_vendedores)/cantidad_vendedores, 2)\n",
        "print(\"-----------------\")\n",
        "print(\"El promedio de los vendedores es: \", promedio)"
      ],
      "execution_count": 79,
      "outputs": [
        {
          "output_type": "stream",
          "text": [
            "Ingrese la cantidad de vendedores en el área de ventas 5\n",
            "Ingrese el nombre del vendedor número 1 gustavo\n",
            "Ingrese la puntuación del vendedor gustavo en la escala de 1 al 10 2\n",
            "Ingrese el nombre del vendedor número 2 laura\n",
            "Ingrese la puntuación del vendedor laura en la escala de 1 al 10 7\n",
            "Ingrese el nombre del vendedor número 3 olga\n",
            "Ingrese la puntuación del vendedor olga en la escala de 1 al 10 7\n",
            "Ingrese el nombre del vendedor número 4 gabriela\n",
            "Ingrese la puntuación del vendedor gabriela en la escala de 1 al 10 2\n",
            "Ingrese el nombre del vendedor número 5 vanessa\n",
            "Ingrese la puntuación del vendedor vanessa en la escala de 1 al 10 7\n",
            "-----------------\n",
            "El vendedor con mejor rendimiento es laura\n",
            "-----------------\n",
            "El vendedor con peor rendimiento es gabriela\n",
            "-----------------\n",
            "El promedio de los vendedores es:  5.0\n"
          ],
          "name": "stdout"
        }
      ]
    }
  ]
}