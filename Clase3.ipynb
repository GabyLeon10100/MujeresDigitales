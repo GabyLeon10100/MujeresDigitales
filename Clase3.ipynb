{
  "nbformat": 4,
  "nbformat_minor": 0,
  "metadata": {
    "colab": {
      "name": "Clase3.ipynb",
      "provenance": [],
      "authorship_tag": "ABX9TyPTspY9Zyy6DKEU81yOE+Wt",
      "include_colab_link": true
    },
    "kernelspec": {
      "name": "python3",
      "display_name": "Python 3"
    },
    "language_info": {
      "name": "python"
    }
  },
  "cells": [
    {
      "cell_type": "markdown",
      "metadata": {
        "id": "view-in-github",
        "colab_type": "text"
      },
      "source": [
        "<a href=\"https://colab.research.google.com/github/GabyLeon10100/MujeresDigitales/blob/main/Clase3.ipynb\" target=\"_parent\"><img src=\"https://colab.research.google.com/assets/colab-badge.svg\" alt=\"Open In Colab\"/></a>"
      ]
    },
    {
      "cell_type": "markdown",
      "metadata": {
        "id": "a9yxLorRWLz4"
      },
      "source": [
        "**Estructuras de condicionales(Control)**\n",
        "\n",
        "---\n",
        "Al momento de construir una instrucción de tipo condicional se deberá comprender que dichas instrucciones están diseñadas para ayudar en la toma de decisiones:\n",
        "\n",
        "Ejemplo:\n",
        "**Si** Pedro va a la tienda por la izquierda llegará más rápido, sino se demorará más.\n",
        "\n",
        "Existen varios tipos de instrucciones, algunos pueden ser simples y otros múltiples. Sin embargo, solo se generan dos resultados.\n",
        "1. Verdadero\n",
        "2. Falso\n",
        "En Python tales resultados serían True o False\n"
      ]
    },
    {
      "cell_type": "markdown",
      "metadata": {
        "id": "iBOICtIdXHy_"
      },
      "source": [
        "Para aplicar los condicionales que veremos a continuación debemos recordar los comandos de operadores matemáticos vistos en clase anterior:\n",
        "\n",
        "1. Igualdad (==)\n",
        "2. Diferencia (!=)\n",
        "3. Menor que (<)\n",
        "4. Mayor que (>)\n",
        "5. Menor o igual que (<=)\n",
        "6. Mayor o igual que (>=)"
      ]
    },
    {
      "cell_type": "markdown",
      "metadata": {
        "id": "J1BDSjNwX1Ii"
      },
      "source": [
        "En condiciones múltiples, podemos enlazar los operadores lógicos:\n",
        "1. y (and)\n",
        "2. o (or)\n",
        "3. No (no)"
      ]
    },
    {
      "cell_type": "markdown",
      "metadata": {
        "id": "9kk46JhTYNfI"
      },
      "source": [
        "Para aplicar los operadores matemáticos y lógicos tenemos en cuenta lo que llamamos **Diagrama de flujos**, esto nos permite una mayor organización de las ideas para la toma de decisiones"
      ]
    },
    {
      "cell_type": "markdown",
      "metadata": {
        "id": "4YZ8w8CdZmHK"
      },
      "source": [
        "**EL COMANDO IF**\n",
        "\n",
        "---\n",
        "\n",
        "Este comando permite evaluar si una sentencia es verdadera o falsa. Es decir, se ejecuta una acción establecida mediante un código de instrucción o varias instrucciones inmediatamente en las líneas siguientes a dicha condición"
      ]
    },
    {
      "cell_type": "code",
      "metadata": {
        "colab": {
          "base_uri": "https://localhost:8080/"
        },
        "id": "tfvuAdYaZ5rX",
        "outputId": "1a2a738a-d0e0-448b-8d48-8cf0b07ddc3d"
      },
      "source": [
        "num = int(input('Escribir un número cualquiera'))\n",
        "if num == 200:\n",
        "  print(\"Escribiste el 200\")"
      ],
      "execution_count": 4,
      "outputs": [
        {
          "output_type": "stream",
          "text": [
            "Escribir un número cualquiera200\n",
            "Escribiste el 200\n"
          ],
          "name": "stdout"
        }
      ]
    },
    {
      "cell_type": "markdown",
      "metadata": {
        "id": "jdQ_Ze-haQcJ"
      },
      "source": [
        "**EL COMANDO ELSE**\n",
        "\n",
        "---\n",
        "En español es conocido como \"si no\". Este comando permite relacionar las acciones que debería realizar en caso de que la acción sea falsa.\n"
      ]
    },
    {
      "cell_type": "code",
      "metadata": {
        "colab": {
          "base_uri": "https://localhost:8080/"
        },
        "id": "WV-Aks29acUu",
        "outputId": "2e490a09-11e9-4568-9285-6988672970b7"
      },
      "source": [
        "num = int(input('Escribir un número cualquiera'))\n",
        "if num == 200:\n",
        "  print(\"Escribiste el 200\")\n",
        "else:\n",
        "  print(\"El número escrito NO ES 200\")"
      ],
      "execution_count": 5,
      "outputs": [
        {
          "output_type": "stream",
          "text": [
            "Escribir un número cualquiera100\n",
            "El número escrito NO ES 200\n"
          ],
          "name": "stdout"
        }
      ]
    },
    {
      "cell_type": "markdown",
      "metadata": {
        "id": "km5S5qFkbFGp"
      },
      "source": [
        "**EL COMANDO ELIF**\n",
        "\n",
        "---\n",
        "\n",
        "Significa \"si no, si\" y permite concatenar condiciones:"
      ]
    },
    {
      "cell_type": "code",
      "metadata": {
        "colab": {
          "base_uri": "https://localhost:8080/"
        },
        "id": "TLewIHN8bMDE",
        "outputId": "d4d29186-98f3-486c-9dc5-038003c31eef"
      },
      "source": [
        "num = int(input('Escribir un número cualquiera'))\n",
        "if num == 200:\n",
        "  print(\"Escribiste el 200\")\n",
        "elif num > 200:\n",
        "  print(\"El número escrito es MAYOR a 200\")\n",
        "else:\n",
        "  print(\"El número escrito NO ES 200\")"
      ],
      "execution_count": 8,
      "outputs": [
        {
          "output_type": "stream",
          "text": [
            "Escribir un número cualquiera250\n",
            "El número escrito es MAYOR a 200\n"
          ],
          "name": "stdout"
        }
      ]
    },
    {
      "cell_type": "markdown",
      "metadata": {
        "id": "tisPIAAVc1pS"
      },
      "source": [
        "**CONDICIONES MÚLTIPLES**\n",
        "\n",
        "---\n",
        "Cuando se presentan situaciones con más de una condición que dependen unas de otras, estas se pueden tratar mediante el manejo de varias sentencias o comandos if, o mediante el manejo adecuado del comando elif. Sin embargo, en muchos casos cuando hay múltiples condiciones, la promación necesita mayor cantidad de líneas de cógigo.\n",
        "En esos casos, es necesario, el uso de operadores lógicos como el and y el or."
      ]
    },
    {
      "cell_type": "code",
      "metadata": {
        "colab": {
          "base_uri": "https://localhost:8080/"
        },
        "id": "vjffoG-jdcEj",
        "outputId": "36708ed1-73da-4657-9fdf-cef3b04849cc"
      },
      "source": [
        "x = int(input(\"valor\"))\n",
        "if 0 < x:\n",
        " if x < 10:\n",
        "  print(\"x es un número positivo\")"
      ],
      "execution_count": 9,
      "outputs": [
        {
          "output_type": "stream",
          "text": [
            "valor3\n",
            "x es un número positivo\n"
          ],
          "name": "stdout"
        }
      ]
    },
    {
      "cell_type": "code",
      "metadata": {
        "colab": {
          "base_uri": "https://localhost:8080/"
        },
        "id": "n8FwY3rSeY3Z",
        "outputId": "fc835039-ceec-4aee-d462-c8edcf4403cd"
      },
      "source": [
        "X = int(input(\"valor\"))\n",
        "if 0 < x < 10:\n",
        "  print(\"x es un número de un solo dígito\")"
      ],
      "execution_count": 10,
      "outputs": [
        {
          "output_type": "stream",
          "text": [
            "valor1\n",
            "x es un número de un solo dígito\n"
          ],
          "name": "stdout"
        }
      ]
    },
    {
      "cell_type": "markdown",
      "metadata": {
        "id": "Xa1BfiB7evIp"
      },
      "source": [
        "Esta condición es la mismo expresión booleana compuesta y la misma expresión condicional anidada."
      ]
    }
  ]
}