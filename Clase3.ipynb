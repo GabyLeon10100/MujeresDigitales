{
  "nbformat": 4,
  "nbformat_minor": 0,
  "metadata": {
    "colab": {
      "name": "Clase3.ipynb",
      "provenance": [],
      "authorship_tag": "ABX9TyOnBYxFxSSXwtiEiaMQQ6tB",
      "include_colab_link": true
    },
    "kernelspec": {
      "name": "python3",
      "display_name": "Python 3"
    },
    "language_info": {
      "name": "python"
    }
  },
  "cells": [
    {
      "cell_type": "markdown",
      "metadata": {
        "id": "view-in-github",
        "colab_type": "text"
      },
      "source": [
        "<a href=\"https://colab.research.google.com/github/GabyLeon10100/MujeresDigitales/blob/main/Clase3.ipynb\" target=\"_parent\"><img src=\"https://colab.research.google.com/assets/colab-badge.svg\" alt=\"Open In Colab\"/></a>"
      ]
    },
    {
      "cell_type": "markdown",
      "metadata": {
        "id": "a9yxLorRWLz4"
      },
      "source": [
        "**Estructuras de condicionales(Control)**\n",
        "\n",
        "---\n",
        "Al momento de construir una instrucción de tipo condicional se deberá comprender que dichas instrucciones están diseñadas para ayudar en la toma de decisiones:\n",
        "\n",
        "Ejemplo:\n",
        "**Si** Pedro va a la tienda por la izquierda llegará más rápido, sino se demorará más.\n",
        "\n",
        "Existen varios tipos de instrucciones, algunos pueden ser simples y otros múltiples. Sin embargo, solo se generan dos resultados.\n",
        "1. Verdadero\n",
        "2. Falso\n",
        "En Python tales resultados serían True o False\n"
      ]
    },
    {
      "cell_type": "markdown",
      "metadata": {
        "id": "iBOICtIdXHy_"
      },
      "source": [
        "Para aplicar los condicionales que veremos a continuación debemos recordar los comandos de operadores matemáticos vistos en clase anterior:\n",
        "\n",
        "1. Igualdad (==)\n",
        "2. Diferencia (!=)\n",
        "3. Menor que (<)\n",
        "4. Mayor que (>)\n",
        "5. Menor o igual que (<=)\n",
        "6. Mayor o igual que (>=)"
      ]
    },
    {
      "cell_type": "markdown",
      "metadata": {
        "id": "J1BDSjNwX1Ii"
      },
      "source": [
        "En condiciones múltiples, podemos enlazar los operadores lógicos:\n",
        "1. y (and)\n",
        "2. o (or)\n",
        "3. No (no)"
      ]
    },
    {
      "cell_type": "markdown",
      "metadata": {
        "id": "9kk46JhTYNfI"
      },
      "source": [
        "Para aplicar los operadores matemáticos y lógicos tenemos en cuenta lo que llamamos **Diagrama de flujos**, esto nos permite una mayor organización de las ideas para la toma de decisiones"
      ]
    },
    {
      "cell_type": "markdown",
      "metadata": {
        "id": "4YZ8w8CdZmHK"
      },
      "source": [
        "**EL COMANDO IF**\n",
        "\n",
        "---\n",
        "\n",
        "Este comando permite evaluar si una sentencia es verdadera o falsa. Es decir, se ejecuta una acción establecida mediante un código de instrucción o varias instrucciones inmediatamente en las líneas siguientes a dicha condición"
      ]
    },
    {
      "cell_type": "code",
      "metadata": {
        "colab": {
          "base_uri": "https://localhost:8080/"
        },
        "id": "tfvuAdYaZ5rX",
        "outputId": "1a2a738a-d0e0-448b-8d48-8cf0b07ddc3d"
      },
      "source": [
        "num = int(input('Escribir un número cualquiera'))\n",
        "if num == 200:\n",
        "  print(\"Escribiste el 200\")"
      ],
      "execution_count": 4,
      "outputs": [
        {
          "output_type": "stream",
          "text": [
            "Escribir un número cualquiera200\n",
            "Escribiste el 200\n"
          ],
          "name": "stdout"
        }
      ]
    },
    {
      "cell_type": "markdown",
      "metadata": {
        "id": "jdQ_Ze-haQcJ"
      },
      "source": [
        "**EL COMANDO ELSE**\n",
        "\n",
        "---\n",
        "En español es conocido como \"si no\". Este comando permite relacionar las acciones que debería realizar en caso de que la acción sea falsa.\n"
      ]
    },
    {
      "cell_type": "code",
      "metadata": {
        "colab": {
          "base_uri": "https://localhost:8080/"
        },
        "id": "WV-Aks29acUu",
        "outputId": "2e490a09-11e9-4568-9285-6988672970b7"
      },
      "source": [
        "num = int(input('Escribir un número cualquiera'))\n",
        "if num == 200:\n",
        "  print(\"Escribiste el 200\")\n",
        "else:\n",
        "  print(\"El número escrito NO ES 200\")"
      ],
      "execution_count": 5,
      "outputs": [
        {
          "output_type": "stream",
          "text": [
            "Escribir un número cualquiera100\n",
            "El número escrito NO ES 200\n"
          ],
          "name": "stdout"
        }
      ]
    },
    {
      "cell_type": "markdown",
      "metadata": {
        "id": "km5S5qFkbFGp"
      },
      "source": [
        "**EL COMANDO ELIF**\n",
        "\n",
        "---\n",
        "\n",
        "Significa \"si no, si\" y permite concatenar condiciones:"
      ]
    },
    {
      "cell_type": "code",
      "metadata": {
        "colab": {
          "base_uri": "https://localhost:8080/"
        },
        "id": "TLewIHN8bMDE",
        "outputId": "d4d29186-98f3-486c-9dc5-038003c31eef"
      },
      "source": [
        "num = int(input('Escribir un número cualquiera'))\n",
        "if num == 200:\n",
        "  print(\"Escribiste el 200\")\n",
        "elif num > 200:\n",
        "  print(\"El número escrito es MAYOR a 200\")\n",
        "else:\n",
        "  print(\"El número escrito NO ES 200\")"
      ],
      "execution_count": 8,
      "outputs": [
        {
          "output_type": "stream",
          "text": [
            "Escribir un número cualquiera250\n",
            "El número escrito es MAYOR a 200\n"
          ],
          "name": "stdout"
        }
      ]
    },
    {
      "cell_type": "markdown",
      "metadata": {
        "id": "tisPIAAVc1pS"
      },
      "source": [
        "**CONDICIONES MÚLTIPLES**\n",
        "\n",
        "---\n",
        "Cuando se presentan situaciones con más de una condición que dependen unas de otras, estas se pueden tratar mediante el manejo de varias sentencias o comandos if, o mediante el manejo adecuado del comando elif. Sin embargo, en muchos casos cuando hay múltiples condiciones, la promación necesita mayor cantidad de líneas de cógigo.\n",
        "En esos casos, es necesario, el uso de operadores lógicos como el and y el or."
      ]
    },
    {
      "cell_type": "code",
      "metadata": {
        "colab": {
          "base_uri": "https://localhost:8080/"
        },
        "id": "vjffoG-jdcEj",
        "outputId": "36708ed1-73da-4657-9fdf-cef3b04849cc"
      },
      "source": [
        "x = int(input(\"valor\"))\n",
        "if 0 < x:\n",
        " if x < 10:\n",
        "  print(\"x es un número positivo\")"
      ],
      "execution_count": 9,
      "outputs": [
        {
          "output_type": "stream",
          "text": [
            "valor3\n",
            "x es un número positivo\n"
          ],
          "name": "stdout"
        }
      ]
    },
    {
      "cell_type": "code",
      "metadata": {
        "colab": {
          "base_uri": "https://localhost:8080/"
        },
        "id": "n8FwY3rSeY3Z",
        "outputId": "fc835039-ceec-4aee-d462-c8edcf4403cd"
      },
      "source": [
        "X = int(input(\"valor\"))\n",
        "if 0 < x < 10:\n",
        "  print(\"x es un número de un solo dígito\")"
      ],
      "execution_count": 10,
      "outputs": [
        {
          "output_type": "stream",
          "text": [
            "valor1\n",
            "x es un número de un solo dígito\n"
          ],
          "name": "stdout"
        }
      ]
    },
    {
      "cell_type": "markdown",
      "metadata": {
        "id": "Xa1BfiB7evIp"
      },
      "source": [
        "Esta condición es la mismo expresión booleana compuesta y la misma expresión condicional anidada."
      ]
    },
    {
      "cell_type": "markdown",
      "metadata": {
        "id": "qX8cAQKlkQkh"
      },
      "source": [
        "**Esctructuras de control iterativas**\n",
        "\n",
        "---\n",
        "Las variables son claves en las ertructuras de control iterativas, puesto que son el medio entre la iteración y la condición que se está ejecutando.\n",
        "\n",
        "**¿Qué es iteración?**\n",
        "Iteración es la consecución del código tantas veces requiera hasta que se cumpla las condiciones establecidas.\n",
        "\n",
        "*Banderas* Son las variables que toman un valor preferiblemente binario, booleano e indican un estado. Ejemplo."
      ]
    },
    {
      "cell_type": "code",
      "metadata": {
        "colab": {
          "base_uri": "https://localhost:8080/"
        },
        "id": "H9w4pLNdkxT2",
        "outputId": "58876709-ec67-4d75-fc35-dfb9b72b63cd"
      },
      "source": [
        "suma = False\n",
        "total = 0\n",
        "a = 3\n",
        "b = 10\n",
        "if(suma == False):\n",
        "  total = a + b\n",
        "  suma = True\n",
        "\n",
        "if(suma == True):\n",
        "  print(\"El valor total de la suma es:\", total)"
      ],
      "execution_count": 14,
      "outputs": [
        {
          "output_type": "stream",
          "text": [
            "El valor total de la suma es: 13\n"
          ],
          "name": "stdout"
        }
      ]
    },
    {
      "cell_type": "markdown",
      "metadata": {
        "id": "R6yoLyD8lsiB"
      },
      "source": [
        "La variable suma en este caso de tipo booleano y su función es indicar cuando se ejecutó la suma. Por lo tanto tiene un estado inicial \"False\", pero luego de ejecutar la suma, toma el valor True.\n",
        "Cuando pasa esto escuchamos la frase \"la bandera se levantó\". Esto quiere decir que una u otra acción hizo que el estado de la bandera cambiará.\n",
        "\n",
        "Ejemplo cualitativo: **CASO CONTAGIO**"
      ]
    },
    {
      "cell_type": "code",
      "metadata": {
        "colab": {
          "base_uri": "https://localhost:8080/"
        },
        "id": "hn-qPf4gmlwo",
        "outputId": "ddddbe38-74a0-4626-d702-c2e3c4966b45"
      },
      "source": [
        "paciente = input(\"Nombre paciente\")\n",
        "contagio_v = input(\"¿Te has realizado la prueba de contagio?\")\n",
        "\n",
        "if(contagio_v == \"No\"):\n",
        "  print(\"La paciente\", paciente, \"no se ha realizado la prueba para validar, por favor realizarse la prueba en el centro de salud medica\")\n",
        "  print(\"Aplicarse la prueba\")\n",
        "\n",
        "if(contagio_v == \"Pendiente\"):\n",
        "  print(paciente, \"por favor revisar el correo donde se le adjunto el resultado de la prueba\")\n",
        "\n",
        "if(contagio_v == \"Si\"):\n",
        "  print(paciente, \"Dado que es POSITIVO el resultado de su prueba, mantener una distancia de las personas por lo menos 15 días\")"
      ],
      "execution_count": 20,
      "outputs": [
        {
          "output_type": "stream",
          "text": [
            "Nombre pacienteGabriela\n",
            "¿Te has realizado la prueba de contagio?No\n",
            "La paciente Gabriela no se ha realizado la prueba para validar, por favor realizarse la prueba en el centro de salud medica\n",
            "Aplicarse la prueba\n"
          ],
          "name": "stdout"
        }
      ]
    },
    {
      "cell_type": "markdown",
      "metadata": {
        "id": "ROuO9qEBo7Jr"
      },
      "source": [
        "**TALLER**\n",
        "\n",
        "---\n",
        "El Bootcamp comenzó el 26 de Julio del 2021, se les explico a las estudiantes que se les evaluaría de la siguiente forma:\n",
        "\n",
        "Tareas = 10%\n",
        "Talleres = 25%\n",
        "Asistencia = 5%\n",
        "Participación = 15%\n",
        "Proyecto = 45%\n",
        "\n",
        "teniendo en cuenta las ponderaciones de calificación del Bootcamp, las estudiantes deciden desarrollar un programa que les permita saber cuanto tendría que sacar en el proyecto para tener una definitiva de 3.7 minimo en el curso. si las notas que llevan hasta el momento son los siguientes.\n",
        "\n",
        "1. Tareas = 4.5\n",
        "2. Talleres 4\n",
        "3. Asistencia = 5\n",
        "4. Participación = 4\n",
        "\n",
        "¿Cuanto tendría que sacar en el proyecto?\n"
      ]
    },
    {
      "cell_type": "code",
      "metadata": {
        "colab": {
          "base_uri": "https://localhost:8080/"
        },
        "id": "kQc_totup6qK",
        "outputId": "0e617214-3187-41a2-c83c-88d7c1f56f3e"
      },
      "source": [
        "notaEsperada = float(input(\"Ingrese la nota que desea obtener\"))\n",
        "print(\"Sus notas son: \\n Tareas = 4.5 \\n Talleres = 4 \\n Asistencia = 5 \\n Participación = 4\")\n",
        "\n",
        "tareas = 0.1 * 4.5\n",
        "talleres = 0.25 * 4\n",
        "asistencia = 0.05 * 5\n",
        "participacion = 0.15 * 4\n",
        "proyecto = 0.45\n",
        "\n",
        "notasActuales = tareas + talleres + asistencia + participacion\n",
        "notaNecesitada = round((notaEsperada - notasActuales) / proyecto, 1)\n",
        "\n",
        "print(\"Para sacar\" , notaEsperada, \"como nota definitiva debe sacar\", notaNecesitada, \"En la calificación del proyecto\")"
      ],
      "execution_count": 58,
      "outputs": [
        {
          "output_type": "stream",
          "text": [
            "Ingrese la nota que desea obtener3.7\n",
            "Sus notas son: \n",
            " Tareas = 4.5 \n",
            " Talleres = 4 \n",
            " Asistencia = 5 \n",
            " Participación = 4\n",
            "Para sacar 3.7 como nota definitiva debe sacar 3.1 En la calificación del proyecto\n"
          ],
          "name": "stdout"
        }
      ]
    },
    {
      "cell_type": "markdown",
      "metadata": {
        "id": "1HsR4HXi808A"
      },
      "source": [
        "La empresa VIVAFLY tiene como eslogan: \"Satisfacción y plenitud en un solo viaje\". Por lo cual, uno de los medios que utiliza VIVAFLY para mantener la satisfacción al cliente, es realizar rifas a lo largo del año para fomentar mayor unión y entendimiento. Para el mes de septiembre, por motivos de celebración de Amor y Amistad, la empresa decide sortear los siguientes viajes a los 5 clientes con más antigüedad:\n",
        "1. Viaje todo incluído para dos personas a San Andrés(Premio 1)\n",
        "2. un pasadía a los termales de San Vicente incluyendo almuerzo (Premio 2)\n",
        "3. Viaje todo incluido para dos personas a Santa Marta (Premio 3)\n",
        "4. Pasadía al desierto de Tatacoa (Sin incluír alimentación) (Premio 4)\n",
        "La empresa utilizará para el sorteo el método de balotera. \n",
        "A continuación se menciona el color ganador por premio:\n",
        "1. Rosado= Premio 1\n",
        "2. Verde=Premio 2\n",
        "3. Azul=Premio 3\n",
        "4. Gris=Premio 4\n",
        "5. Roja=No hay premio\n",
        "La probabilidad de sacar una balota rosada es del 15%, verde 20%, azul 5%, gris 20% y roja 40%.\n",
        "\n",
        "Adicionalmente, para las personas que SI obtengan premio, recibirán un bono en efectivo del porcentaje que represente la probabilidad de ganar con cada balota sobre un valor de 1.000.000 pesos. Sin embargo, se debe tener en cuenta que, Si al aplicar el porcentaje arroja un valor inferior a 120.000, no se les dará el bono en efectivo sino dos boletas de cine 4D para la película en estreno del mes incluyendo un solo combo de palomitas.Por otro lado, para la persona que saque balota roja obtendrá un premio de 120.000 pesos.\n",
        "\n",
        "**Nota:** El sorteo se realiza con el método de NO reemplazo. Es decir, la probabilidad de sacar cada una de las balotas es la misma para los 5 clientes. Porque a medida que vayan sacando las balotas ganadoras estás se regresan a la balotera y se mantendrá la misma cantidad de balotas.\n",
        "\n",
        "Teniendo en cuenta lo anterior.Se le pide a la analista que genere un código donde se pueda observar las respectivas premiaciones.\n",
        "\n",
        "las entradas deben ser las siguientes:\n",
        "\n",
        "\n",
        "*   Nombre de la concursante\n",
        "*   Color de balota\n",
        "Salida:\n",
        "* Premio\n",
        "Enunciado de salida: \"La empresa VIVAFLY se complace en anunciar que La participante _ ganó _ en nuestro sorteo de viajes de AMOR y AMISTAD\"\n",
        "\n",
        "Ejemplo: \"La empresa VIVAFLY se complace en anunciar que La participante ANA ganó un pasadía a los termales de San Vicente en nuestro sorteo de viajes de AMOR y AMISTAD\"\n",
        "\n"
      ]
    },
    {
      "cell_type": "code",
      "metadata": {
        "id": "P1oHWo949bHo"
      },
      "source": [
        ""
      ],
      "execution_count": null,
      "outputs": []
    }
  ]
}