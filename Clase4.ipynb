{
  "nbformat": 4,
  "nbformat_minor": 0,
  "metadata": {
    "colab": {
      "name": "Clase4.ipynb",
      "provenance": [],
      "authorship_tag": "ABX9TyMkW1Yi/bQWJmxT55Vkpu0v",
      "include_colab_link": true
    },
    "kernelspec": {
      "name": "python3",
      "display_name": "Python 3"
    },
    "language_info": {
      "name": "python"
    }
  },
  "cells": [
    {
      "cell_type": "markdown",
      "metadata": {
        "id": "view-in-github",
        "colab_type": "text"
      },
      "source": [
        "<a href=\"https://colab.research.google.com/github/GabyLeon10100/MujeresDigitales/blob/main/Clase4.ipynb\" target=\"_parent\"><img src=\"https://colab.research.google.com/assets/colab-badge.svg\" alt=\"Open In Colab\"/></a>"
      ]
    },
    {
      "cell_type": "markdown",
      "metadata": {
        "id": "gLyYcyyh-XVe"
      },
      "source": [
        "**Continuación de estructuras de control iterativas**\n",
        "\n",
        "---\n",
        "**ACUMULADORES**\n",
        "Se le da este nombre a las variables que se encargana de \"almacenar\" algun tipo de información. Ejemplo: El caso de la compra de viveres en la tienda.\n"
      ]
    },
    {
      "cell_type": "code",
      "metadata": {
        "colab": {
          "base_uri": "https://localhost:8080/"
        },
        "id": "obBXjtTu-3W3",
        "outputId": "3bbd6131-dd9c-4ffd-bb67-5510296c99a2"
      },
      "source": [
        "nombre = input(\"Nombre del consumidor\")\n",
        "listacomp = \"\"\n",
        "print(nombre, \"Escribe los siguientes viveres para su compra en el supermercado\")\n",
        "listacomp = listacomp + \"Paca de papel higienico\"\n",
        "print(\"---------compras que tengo que hacer------\")\n",
        "print(listacomp)\n",
        "listacomp = listacomp + \"Shampoo Pantene 2 and 1\"\n",
        "listacomp = listacomp + \"2 pacas de pañales pequeñin etapa 3\"\n",
        "print(listacomp)"
      ],
      "execution_count": 3,
      "outputs": [
        {
          "output_type": "stream",
          "text": [
            "Nombre del consumidorh\n",
            "h Escribe los siguientes viveres para su compra en el supermercado\n",
            "---------compras que tengo que hacer------\n",
            "Paca de papel higienico\n",
            "Paca de papel higienicoShampoo Pantene 2 and 12 pacas de pañales pequeñin etapa 3\n"
          ],
          "name": "stdout"
        }
      ]
    },
    {
      "cell_type": "markdown",
      "metadata": {
        "id": "n8smrxtT_4Yn"
      },
      "source": [
        "La variable \"listacomp\" nos esta sirviendo para acumular informacion de la lista de compra.\n",
        "Podemos observar que **NO** estamos creando una variable por cada itemm,sino una variable definida nos sirve para almacenar la información.\n",
        "\n",
        "A continuacion observemos un ejemplo donde se ponga en practica el uso de la acumulacion en una variable usando cantidades y usos"
      ]
    },
    {
      "cell_type": "code",
      "metadata": {
        "colab": {
          "base_uri": "https://localhost:8080/"
        },
        "id": "LxXDXLEjAeUt",
        "outputId": "af4186af-5806-4847-ef94-4310a99ce7c4"
      },
      "source": [
        "ppph = 14000 # paca de papel higienico\n",
        "cpph = 2 #cantidad de paquete de papel higienico\n",
        "pshampoo = 18000 # precio de shampoo\n",
        "cshampoo = 4 #unidadaes shampoo\n",
        "ppbebe = 17000 #precio de pacas de pañales\n",
        "cpbebe = 3 #cantidad\n",
        "\n",
        "subtotal = 0\n",
        "print(\"Calculando el total de la compra...\")\n",
        "total_pph = ppph * cpph\n",
        "print(\"El valor total del papel higienico es: \", total_pph)\n",
        "subtotal = subtotal + total_pph\n",
        "print(\"------El subtotal es: \", subtotal)\n",
        "total_shampoo = pshampoo * cshampoo\n",
        "print(\"El valor total del shampoo es: \", total_shampoo)\n",
        "subtotal = subtotal + total_shampoo\n",
        "print(\"------El subtotal es: \", subtotal)\n",
        "total_pbebe = ppbebe * cpbebe\n",
        "print(\"El valor total para pañales es: \", total_pbebe)\n",
        "subtotal = subtotal + total_pbebe\n",
        "print(\"------El total de su compra es: \", subtotal)\n"
      ],
      "execution_count": 7,
      "outputs": [
        {
          "output_type": "stream",
          "text": [
            "Calculando el total de la compra...\n",
            "El valor total del papel higienico es:  28000\n",
            "------El subtotal es:  28000\n",
            "El valor total del shampoo es:  72000\n",
            "------El subtotal es:  100000\n",
            "El valor total para pañales es:  51000\n",
            "------El total de su compra es:  151000\n"
          ],
          "name": "stdout"
        }
      ]
    },
    {
      "cell_type": "markdown",
      "metadata": {
        "id": "OuSXlANpDCez"
      },
      "source": [
        "**CONTADORES**\n",
        "\n",
        "---\n",
        "Tiene mucha relación con los \"acumuladores\" vistos en el apartado anterior. Estas variables se caracterizan por ser variables de control, es decir, controlar la **cantidad** de veces que se ejecuta determinada acción.\n",
        "\n",
        "Usando el ejemplo anterior y modificandolo un poco, podemos desarrollar el siguiente algoritmo\n",
        "\n"
      ]
    },
    {
      "cell_type": "code",
      "metadata": {
        "colab": {
          "base_uri": "https://localhost:8080/"
        },
        "id": "fKGJs6B8Dala",
        "outputId": "c6e0f798-a189-4eba-acc6-d921776803e9"
      },
      "source": [
        "#Se comprará pañales por unidad en este caso\n",
        "\n",
        "contp = 0\n",
        "print(\"Se realizará la compra de pañales etapa 3... Se ha iniciado la compra y asignación en el carrito. En total hay \", contp, \"de pañales\")\n",
        "contp = contp + 1\n",
        "print(\"Ahora hay: \", contp, \"de pañales\")\n",
        "contp = contp + 1\n",
        "print(\"Ahora hay: \", contp, \"de pañales\")\n",
        "contp = contp + 1\n",
        "print(\"Ahora hay: \", contp, \"de pañales\")\n",
        "contp = contp + 1\n",
        "print(\"Ahora hay: \", contp, \"de pañales\")\n",
        "contp = contp + 1\n",
        "print(\"Ahora hay: \", contp, \"de pañales\")"
      ],
      "execution_count": 10,
      "outputs": [
        {
          "output_type": "stream",
          "text": [
            "Se realizará la compra de pañales etapa 3... Se ha iniciado la compra y asignación en el carrito. En total hay  0 de pañales\n",
            "Ahora hay:  1 de pañales\n",
            "Ahora hay:  2 de pañales\n",
            "Ahora hay:  3 de pañales\n",
            "Ahora hay:  4 de pañales\n",
            "Ahora hay:  5 de pañales\n"
          ],
          "name": "stdout"
        }
      ]
    },
    {
      "cell_type": "markdown",
      "metadata": {
        "id": "okJcIswYERfU"
      },
      "source": [
        "**CICLOS CONTROLADOS POR CONDICIONES**\n",
        "*WHILE*\n",
        "\n",
        "---\n",
        "Recordemos que las variables de control, nos permite manejar estados, pasar de un estado a otro es por ejemplo: Una variable que no contiene elementos a contenerlo o una variable un elemento a particular (Acumulador o contador) y cambiarlo por completo (Bandera).\n",
        "\n",
        "Estas variables de control son la base del ciclo de control. Siendo más claros, pasar de un adición manual a algo más automatizado.\n",
        "\n",
        "Empezemos con el ciclo \"WHILE\". En español es \"mientras\". Este ciclo se compone de una **condición** y su **bloque de codigo**. Lo que nos quiere de While es que el bloque de código se ejecutará **mientras** la condición da como resultado True or False. "
      ]
    },
    {
      "cell_type": "code",
      "metadata": {
        "colab": {
          "base_uri": "https://localhost:8080/"
        },
        "id": "D-wO0-zAFGUF",
        "outputId": "e438c0e1-687e-4f3c-ab5f-845c0a9e41c7"
      },
      "source": [
        "lapiz = 5\n",
        "contlapiz = 0\n",
        "print(\"Se ha iniciado la compra. En total hay: \", contlapiz)\n",
        "while(contlapiz < lapiz):\n",
        "  contlapiz = contlapiz + 1\n",
        "  print(\"Se ha realizado la compra de lapices. Ahora hay \" + str(contlapiz) + \" lapiz\")"
      ],
      "execution_count": 11,
      "outputs": [
        {
          "output_type": "stream",
          "text": [
            "Se ha iniciado la compra. En total hay:  0\n",
            "Se ha realizado la compra de lapices. Ahora hay 1 lapiz\n",
            "Se ha realizado la compra de lapices. Ahora hay 2 lapiz\n",
            "Se ha realizado la compra de lapices. Ahora hay 3 lapiz\n",
            "Se ha realizado la compra de lapices. Ahora hay 4 lapiz\n",
            "Se ha realizado la compra de lapices. Ahora hay 5 lapiz\n"
          ],
          "name": "stdout"
        }
      ]
    },
    {
      "cell_type": "markdown",
      "metadata": {
        "id": "_MMdnia7Gj9_"
      },
      "source": [
        "Tener en cuenta que dentro del ciclo de WHILE se va afectando las variables implicadas en la declaración de la condición se debe cumplir el ciclo. En el ejemplo anterior la variable contlapiz para que en algún momento la condición sea verdadera y termine el ciclo se tiene que cumplir la condición (contlapiz<lapiz). De lo contrario, tendriamos un ciclo que nunca se detendría, lo cual decantaría en un ciclo interminable."
      ]
    },
    {
      "cell_type": "markdown",
      "metadata": {
        "id": "lA9XP1M0HTvG"
      },
      "source": [
        "**CICLO DE FOR**\n",
        "\n",
        "---\n",
        "Es un ciclo especializado y optimizado para los ciclos controlados por cantidad. Se compone de tres elementos:\n",
        "1. La variable de iteración\n",
        "2. Elemento de iteración\n",
        "3. Bloque de código a iterar\n",
        "\n",
        "**¿Ventajas de usar el FOR?**\n",
        "En Python es muy importante y se considera una herramienta bastante flexible y poderosa, por permitir ingresar estructuras de datos complejas, cadena de caracteres, rangos, entre otros. Los elementos de iteración usados en está estructura de datos son necesarios que tengan la siguiente caracteristica:\n",
        "1. Cantidad definida (Esto lo diferencia totalmente de WHILE). El While parte de una consición de verdad, pero el **FOR** parte de una cantidad definida."
      ]
    },
    {
      "cell_type": "code",
      "metadata": {
        "colab": {
          "base_uri": "https://localhost:8080/"
        },
        "id": "DzlfSyIcILJK",
        "outputId": "21f9c96b-3d5c-4125-c2fe-0fac184e2fd6"
      },
      "source": [
        "## Retomando el ejemplo de la compra de lapices\n",
        "print(\"Se ha iniciado la compra. En total hay: 0 lapices\")\n",
        "for i in range(1,6): # En los rangos, la función Range maneja un intervalo abierto a la derecha y cerrado a la izquierda\n",
        "  print(\"Se ha realizado la compra de lapices. Ahora hay\",i,\"lapices.\")"
      ],
      "execution_count": 13,
      "outputs": [
        {
          "output_type": "stream",
          "text": [
            "Se ha iniciado la compra. En total hay: 0 lapices\n",
            "Se ha realizado la compra de lapices. Ahora hay 1 lapices.\n",
            "Se ha realizado la compra de lapices. Ahora hay 2 lapices.\n",
            "Se ha realizado la compra de lapices. Ahora hay 3 lapices.\n",
            "Se ha realizado la compra de lapices. Ahora hay 4 lapices.\n",
            "Se ha realizado la compra de lapices. Ahora hay 5 lapices.\n"
          ],
          "name": "stdout"
        }
      ]
    }
  ]
}