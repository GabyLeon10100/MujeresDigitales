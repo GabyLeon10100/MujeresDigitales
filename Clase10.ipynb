{
  "nbformat": 4,
  "nbformat_minor": 0,
  "metadata": {
    "colab": {
      "name": "Clase10.ipynb",
      "provenance": [],
      "authorship_tag": "ABX9TyMxikJk7VMHyE/YhS2Jsm87",
      "include_colab_link": true
    },
    "kernelspec": {
      "name": "python3",
      "display_name": "Python 3"
    },
    "language_info": {
      "name": "python"
    }
  },
  "cells": [
    {
      "cell_type": "markdown",
      "metadata": {
        "id": "view-in-github",
        "colab_type": "text"
      },
      "source": [
        "<a href=\"https://colab.research.google.com/github/GabyLeon10100/MujeresDigitales/blob/main/Clase10.ipynb\" target=\"_parent\"><img src=\"https://colab.research.google.com/assets/colab-badge.svg\" alt=\"Open In Colab\"/></a>"
      ]
    },
    {
      "cell_type": "code",
      "metadata": {
        "id": "QDrYUjhNi9gf"
      },
      "source": [
        "import pandas as pd"
      ],
      "execution_count": 5,
      "outputs": []
    },
    {
      "cell_type": "code",
      "metadata": {
        "colab": {
          "base_uri": "https://localhost:8080/"
        },
        "id": "ALHdthmmjP_A",
        "outputId": "06721800-fd7e-4094-d824-0bfab4ad5921"
      },
      "source": [
        "#Uso de counts\n",
        "jj = pd.Series([67.3, 100, 96.7, None, 100], index=['R', 'P', 'G', 'P', 'B'], name='test2')\n",
        "print(jj)"
      ],
      "execution_count": null,
      "outputs": [
        {
          "output_type": "stream",
          "text": [
            "R     67.3\n",
            "P    100.0\n",
            "G     96.7\n",
            "P      NaN\n",
            "B    100.0\n",
            "Name: test2, dtype: float64\n"
          ],
          "name": "stdout"
        }
      ]
    },
    {
      "cell_type": "code",
      "metadata": {
        "colab": {
          "base_uri": "https://localhost:8080/"
        },
        "id": "HSt5_daHj1Xf",
        "outputId": "805b4d92-4839-4928-fe22-3a60bae9963d"
      },
      "source": [
        "print(jj.count()) #Cuenta los valores reales que hay en la Serie\n",
        "print('--------')\n",
        "print(jj.value_counts()) #Cuenta las repeticiones de cada valor\n",
        "print('--------')\n",
        "print(jj.unique()) #Trae solo los datos que no están repetidos\n",
        "print('--------')\n",
        "print(jj.drop_duplicates()) #Quita duplicados\n",
        "print('--------')\n",
        "print(jj.duplicated()) #Identificar si aparece ese valor"
      ],
      "execution_count": null,
      "outputs": [
        {
          "output_type": "stream",
          "text": [
            "4\n",
            "--------\n",
            "100.0    2\n",
            "96.7     1\n",
            "67.3     1\n",
            "Name: test2, dtype: int64\n",
            "--------\n",
            "[ 67.3 100.   96.7   nan]\n",
            "--------\n",
            "R     67.3\n",
            "P    100.0\n",
            "G     96.7\n",
            "P      NaN\n",
            "Name: test2, dtype: float64\n",
            "--------\n",
            "R    False\n",
            "P    False\n",
            "G    False\n",
            "P    False\n",
            "B     True\n",
            "Name: test2, dtype: bool\n",
            "--------\n",
            "91.0\n"
          ],
          "name": "stdout"
        }
      ]
    },
    {
      "cell_type": "markdown",
      "metadata": {
        "id": "CJfe-cYnlfjN"
      },
      "source": [
        "**FUNCIONES ESTADISTICAS**"
      ]
    },
    {
      "cell_type": "code",
      "metadata": {
        "colab": {
          "base_uri": "https://localhost:8080/"
        },
        "id": "nj07kdIjliXe",
        "outputId": "b965df81-d822-4e1b-9a9d-09b29f91a643"
      },
      "source": [
        "print(jj.mean()) #Suma todos los valores y nos saca el promedio\n",
        "print('--------')\n",
        "print(jj.median()) #Saca la mediana de una Serie\n",
        "print('--------')\n",
        "print(jj.quantile(0.5)) #permiten conocer otros puntos característicos de la distribución\n",
        "print('--------')\n",
        "print(jj.describe()) #Información más detallada sobre nuestra Serie\n",
        "print('--------')"
      ],
      "execution_count": null,
      "outputs": [
        {
          "output_type": "stream",
          "text": [
            "91.0\n",
            "--------\n",
            "98.35\n",
            "--------\n",
            "98.35\n",
            "--------\n",
            "count      4.000000\n",
            "mean      91.000000\n",
            "std       15.876398\n",
            "min       67.300000\n",
            "25%       89.350000\n",
            "50%       98.350000\n",
            "75%      100.000000\n",
            "max      100.000000\n",
            "Name: test2, dtype: float64\n",
            "--------\n",
            "R    False\n",
            "P    False\n",
            "G    False\n",
            "P     True\n",
            "B    False\n",
            "Name: test2, dtype: bool\n",
            "--------\n",
            "R     67.3\n",
            "P    100.0\n",
            "G     96.7\n",
            "P     -1.0\n",
            "B    100.0\n",
            "Name: test2, dtype: float64\n",
            "--------\n",
            "R     67.3\n",
            "P    100.0\n",
            "G     96.7\n",
            "B    100.0\n",
            "Name: test2, dtype: float64\n"
          ],
          "name": "stdout"
        }
      ]
    },
    {
      "cell_type": "markdown",
      "metadata": {
        "id": "9CCPzbpuoDEW"
      },
      "source": [
        "**MANEJO CON NAS**\n",
        "\n",
        "\n"
      ]
    },
    {
      "cell_type": "code",
      "metadata": {
        "colab": {
          "base_uri": "https://localhost:8080/"
        },
        "id": "kEPrccCRoIZy",
        "outputId": "f731e794-7b5a-4e4c-d568-8a518ab5069b"
      },
      "source": [
        "print(jj.isna()) #Identifica si tiene valores nulos\n",
        "print('--------')\n",
        "print(jj.fillna(-1)) #Llena el valor Nan con otro valor\n",
        "print('--------')\n",
        "print(jj.dropna()) #Llama a los valores que tienen un valor especifico\n",
        "print('--------')\n",
        "print(jj.notnull()) #Verifica que el valor no sea nulo o vacio\n",
        "print('----COMO LLAMAR A LOS VALORES QUE NO ESTAN VACIOS----')\n",
        "jj[jj.notnull()]"
      ],
      "execution_count": null,
      "outputs": [
        {
          "output_type": "stream",
          "text": [
            "R    False\n",
            "P    False\n",
            "G    False\n",
            "P     True\n",
            "B    False\n",
            "Name: test2, dtype: bool\n",
            "--------\n",
            "R     67.3\n",
            "P    100.0\n",
            "G     96.7\n",
            "P     -1.0\n",
            "B    100.0\n",
            "Name: test2, dtype: float64\n",
            "--------\n",
            "R     67.3\n",
            "P    100.0\n",
            "G     96.7\n",
            "B    100.0\n",
            "Name: test2, dtype: float64\n",
            "--------\n",
            "R     True\n",
            "P     True\n",
            "G     True\n",
            "P    False\n",
            "B     True\n",
            "Name: test2, dtype: bool\n",
            "----COMO LLAMAR A LOS VALORES QUE NO ESTAN VACIOS----\n"
          ],
          "name": "stdout"
        },
        {
          "output_type": "execute_result",
          "data": {
            "text/plain": [
              "R     67.3\n",
              "P    100.0\n",
              "G     96.7\n",
              "B    100.0\n",
              "Name: test2, dtype: float64"
            ]
          },
          "metadata": {},
          "execution_count": 17
        }
      ]
    },
    {
      "cell_type": "markdown",
      "metadata": {
        "id": "FRnZCylYpDDe"
      },
      "source": [
        "**Operaciones con Strings**"
      ]
    },
    {
      "cell_type": "code",
      "metadata": {
        "colab": {
          "base_uri": "https://localhost:8080/"
        },
        "id": "c69ENswRpN6P",
        "outputId": "f3f75376-28b9-40b3-a667-3d3d8ff8ee19"
      },
      "source": [
        "nombres = pd.Series(['Jorge', 'John', 'Paula'])\n",
        "print(nombres.str.lower()) #Pasa los String en minusculas\n",
        "print('--------')\n",
        "print(nombres.str.upper()) #Pasa los String a mayusculas\n",
        "print('--------')\n",
        "print(nombres.str.findall('o')) #Encuentra los valores que tengan el parametro"
      ],
      "execution_count": null,
      "outputs": [
        {
          "output_type": "stream",
          "text": [
            "0    jorge\n",
            "1     john\n",
            "2    paula\n",
            "dtype: object\n",
            "--------\n",
            "0    JORGE\n",
            "1     JOHN\n",
            "2    PAULA\n",
            "dtype: object\n",
            "--------\n",
            "0    [o]\n",
            "1    [o]\n",
            "2     []\n",
            "dtype: object\n"
          ],
          "name": "stdout"
        }
      ]
    },
    {
      "cell_type": "markdown",
      "metadata": {
        "id": "o8nOxs30p9iq"
      },
      "source": [
        "**DATAFRAMES**"
      ]
    },
    {
      "cell_type": "code",
      "metadata": {
        "id": "LVqfvypPp_3M"
      },
      "source": [
        "import numpy as np"
      ],
      "execution_count": 2,
      "outputs": []
    },
    {
      "cell_type": "code",
      "metadata": {
        "id": "JXg1XcwMqLAZ"
      },
      "source": [
        "data = np.array([['', \"col1\", \"col2\", \"col3\", \"col4\"],\n",
        "                 [\"row1\", 11, 22, 33, 44],\n",
        "                 [\"row2\", 55, 66, 77, 88],\n",
        "                 [\"row3\", 99, 1010, 1111, 1212],\n",
        "                 [\"row4\", 1313, 1414, 1515, 1616]])"
      ],
      "execution_count": 3,
      "outputs": []
    },
    {
      "cell_type": "code",
      "metadata": {
        "id": "ZCOmoMv_qoqx"
      },
      "source": [
        "df = pd.DataFrame(data=data[1:,1:], index=data[1:,0], columns=data[0,1:])"
      ],
      "execution_count": 6,
      "outputs": []
    },
    {
      "cell_type": "code",
      "metadata": {
        "colab": {
          "base_uri": "https://localhost:8080/",
          "height": 175
        },
        "id": "zGfuSe8SrH1u",
        "outputId": "84646d14-7de8-4ab6-84ed-d2434dca38a8"
      },
      "source": [
        "df"
      ],
      "execution_count": 7,
      "outputs": [
        {
          "output_type": "execute_result",
          "data": {
            "text/html": [
              "<div>\n",
              "<style scoped>\n",
              "    .dataframe tbody tr th:only-of-type {\n",
              "        vertical-align: middle;\n",
              "    }\n",
              "\n",
              "    .dataframe tbody tr th {\n",
              "        vertical-align: top;\n",
              "    }\n",
              "\n",
              "    .dataframe thead th {\n",
              "        text-align: right;\n",
              "    }\n",
              "</style>\n",
              "<table border=\"1\" class=\"dataframe\">\n",
              "  <thead>\n",
              "    <tr style=\"text-align: right;\">\n",
              "      <th></th>\n",
              "      <th>col1</th>\n",
              "      <th>col2</th>\n",
              "      <th>col3</th>\n",
              "      <th>col4</th>\n",
              "    </tr>\n",
              "  </thead>\n",
              "  <tbody>\n",
              "    <tr>\n",
              "      <th>row1</th>\n",
              "      <td>11</td>\n",
              "      <td>22</td>\n",
              "      <td>33</td>\n",
              "      <td>44</td>\n",
              "    </tr>\n",
              "    <tr>\n",
              "      <th>row2</th>\n",
              "      <td>55</td>\n",
              "      <td>66</td>\n",
              "      <td>77</td>\n",
              "      <td>88</td>\n",
              "    </tr>\n",
              "    <tr>\n",
              "      <th>row3</th>\n",
              "      <td>99</td>\n",
              "      <td>1010</td>\n",
              "      <td>1111</td>\n",
              "      <td>1212</td>\n",
              "    </tr>\n",
              "    <tr>\n",
              "      <th>row4</th>\n",
              "      <td>1313</td>\n",
              "      <td>1414</td>\n",
              "      <td>1515</td>\n",
              "      <td>1616</td>\n",
              "    </tr>\n",
              "  </tbody>\n",
              "</table>\n",
              "</div>"
            ],
            "text/plain": [
              "      col1  col2  col3  col4\n",
              "row1    11    22    33    44\n",
              "row2    55    66    77    88\n",
              "row3    99  1010  1111  1212\n",
              "row4  1313  1414  1515  1616"
            ]
          },
          "metadata": {},
          "execution_count": 7
        }
      ]
    },
    {
      "cell_type": "code",
      "metadata": {
        "colab": {
          "base_uri": "https://localhost:8080/",
          "height": 148
        },
        "id": "P6w2I4uWrxO4",
        "outputId": "747dc5bd-dadf-4a1f-83c3-63bb3e96c890"
      },
      "source": [
        "print(df)\n",
        "print(df.shape) #Forma\n",
        "df['col1']['row1'] #Coordenadas"
      ],
      "execution_count": null,
      "outputs": [
        {
          "output_type": "stream",
          "text": [
            "      col1  col2  col3  col4\n",
            "row1    11    22    33    44\n",
            "row2    55    66    77    88\n",
            "row3    99  1010  1111  1212\n",
            "row4  1313  1414  1515  1616\n",
            "(4, 4)\n"
          ],
          "name": "stdout"
        },
        {
          "output_type": "execute_result",
          "data": {
            "application/vnd.google.colaboratory.intrinsic+json": {
              "type": "string"
            },
            "text/plain": [
              "'11'"
            ]
          },
          "metadata": {},
          "execution_count": 25
        }
      ]
    },
    {
      "cell_type": "code",
      "metadata": {
        "colab": {
          "base_uri": "https://localhost:8080/"
        },
        "id": "lHN3Duu6siNW",
        "outputId": "b1a1c2e2-f6e3-467c-9652-d664358688c9"
      },
      "source": [
        "#Sacar los elementos del Dataframe en diagonal\n",
        "print('CON LOC')\n",
        "print(df.loc['row1', 'col1'])\n",
        "print(df.loc['row2', 'col2'])\n",
        "print(df.loc['row3', 'col3'])\n",
        "print(df.loc['row4', 'col4'])\n",
        "print('CON ILOC')\n",
        "print(df.iloc[0,0])\n",
        "print(df.iloc[1,1])\n",
        "print(df.iloc[2,2])\n",
        "print(df.iloc[3,3])"
      ],
      "execution_count": null,
      "outputs": [
        {
          "output_type": "stream",
          "text": [
            "CON LOC\n",
            "11\n",
            "66\n",
            "1111\n",
            "1616\n",
            "CON ILOC\n",
            "11\n",
            "66\n",
            "1111\n",
            "1616\n"
          ],
          "name": "stdout"
        }
      ]
    },
    {
      "cell_type": "code",
      "metadata": {
        "colab": {
          "base_uri": "https://localhost:8080/"
        },
        "id": "cA5PaEgNuoBd",
        "outputId": "951c40f2-f8b2-4c31-8c5f-5b71a0c37468"
      },
      "source": [
        "for indx in range(4):\n",
        "  print(df.iloc[indx, indx])\n",
        "  print(indx)"
      ],
      "execution_count": 8,
      "outputs": [
        {
          "output_type": "stream",
          "text": [
            "11\n",
            "0\n",
            "66\n",
            "1\n",
            "1111\n",
            "2\n",
            "1616\n",
            "3\n"
          ],
          "name": "stdout"
        }
      ]
    },
    {
      "cell_type": "code",
      "metadata": {
        "colab": {
          "base_uri": "https://localhost:8080/"
        },
        "id": "gDnJ-oYZvcg3",
        "outputId": "54bb658f-42dc-4f44-d899-e183e00f9bc1"
      },
      "source": [
        "indices = df.index.to_list()\n",
        "columnas = df.columns.to_list()\n",
        "for indx in range(4):\n",
        "  print(df.loc[indices[indx], columnas[indx]])"
      ],
      "execution_count": null,
      "outputs": [
        {
          "output_type": "stream",
          "text": [
            "11\n",
            "66\n",
            "1111\n",
            "1616\n"
          ],
          "name": "stdout"
        }
      ]
    },
    {
      "cell_type": "code",
      "metadata": {
        "colab": {
          "base_uri": "https://localhost:8080/"
        },
        "id": "wHojvbIpyWty",
        "outputId": "9d8f0b80-dbcd-43b4-92bc-27ab17b5d7e3"
      },
      "source": [
        "for x in range(4):\n",
        "  print(df.iloc[x,x:])"
      ],
      "execution_count": null,
      "outputs": [
        {
          "output_type": "stream",
          "text": [
            "col1    11\n",
            "col2    22\n",
            "col3    33\n",
            "col4    44\n",
            "Name: row1, dtype: object\n",
            "col2    66\n",
            "col3    77\n",
            "col4    88\n",
            "Name: row2, dtype: object\n",
            "col3    1111\n",
            "col4    1212\n",
            "Name: row3, dtype: object\n",
            "col4    1616\n",
            "Name: row4, dtype: object\n"
          ],
          "name": "stdout"
        }
      ]
    }
  ]
}